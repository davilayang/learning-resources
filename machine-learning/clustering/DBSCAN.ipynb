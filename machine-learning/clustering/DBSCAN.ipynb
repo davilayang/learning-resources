{
 "cells": [
  {
   "cell_type": "markdown",
   "metadata": {},
   "source": [
    "# DBSCAN Breakdown\n",
    "\n",
    "- **Density-Based Spatial Clustering of Applications with Noise**\n",
    "- Unsupervised\n",
    "- Clustering Algorithm"
   ]
  },
  {
   "cell_type": "markdown",
   "metadata": {},
   "source": [
    "## Keywords of DBSCAN\n",
    "\n",
    "..."
   ]
  },
  {
   "cell_type": "markdown",
   "metadata": {},
   "source": [
    "## Intuitions and Steps\n",
    "\n",
    "Steps:\n",
    "\n",
    "1. Start at a random point\n",
    "2. Examine radius `ε` around the starting point\n",
    "3. If there are `min_samples` within radius `ε` of this instance (including itself),\n",
    "   - it is a core instance.\n",
    "   - all samples in this `ε`-neighborhood are part of the same cluster\n",
    "4. Repeat for each point in the cluster\n",
    "   - If a point does not have `min_samples` in its neighborhood, it is density reachable\n",
    "   - but it’s not a core instance.\n",
    "5. Repeat \n",
    "6. If there are no more points in the cluster\n",
    "   - move to another random point and begin a new cluster.\n",
    "7. Repeat.\n",
    "8. Points that don’t have any core instances in their `ε`-neighborhood are considered noise and are not assigned to a cluster.\n",
    "\n",
    "Intuitions:\n",
    "\n",
    "- Searches data space for \"High Density\" region of data points\n",
    "- https://www.coursera.org/learn/the-nuts-and-bolts-of-machine-learning/supplement/yynh1/clustering-beyond-k-means"
   ]
  },
  {
   "cell_type": "markdown",
   "metadata": {},
   "source": [
    "## Caveats\n",
    "\n",
    "### Data Pre-processing\n",
    "\n",
    "...\n",
    "\n",
    "### Assumptions\n"
   ]
  },
  {
   "cell_type": "code",
   "execution_count": null,
   "metadata": {},
   "outputs": [],
   "source": [
    "import matplotlib.pyplot as plt\n",
    "import numpy as np\n",
    "import pandas as pd\n",
    "import seaborn as sns\n",
    "\n",
    "sns.set()\n",
    "plt.rcParams[\"figure.figsize\"] = (10, 4)\n"
   ]
  },
  {
   "cell_type": "code",
   "execution_count": null,
   "metadata": {},
   "outputs": [],
   "source": []
  },
  {
   "cell_type": "code",
   "execution_count": null,
   "metadata": {},
   "outputs": [],
   "source": []
  }
 ],
 "metadata": {
  "kernelspec": {
   "display_name": "Python 3 (ipykernel)",
   "language": "python",
   "name": "python3"
  },
  "language_info": {
   "codemirror_mode": {
    "name": "ipython",
    "version": 3
   },
   "file_extension": ".py",
   "mimetype": "text/x-python",
   "name": "python",
   "nbconvert_exporter": "python",
   "pygments_lexer": "ipython3",
   "version": "3.10.12"
  }
 },
 "nbformat": 4,
 "nbformat_minor": 4
}

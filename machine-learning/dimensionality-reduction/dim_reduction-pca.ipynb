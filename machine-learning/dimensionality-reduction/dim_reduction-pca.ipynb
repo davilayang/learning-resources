{
 "cells": [
  {
   "cell_type": "markdown",
   "metadata": {},
   "source": [
    "# Dimensionality Reduction, with PCA\n",
    "\n",
    "> Matrix Decomposition, or Matrix Factorization  \n",
    "> _Factorization_ means to find two (or three) matrices to approximate the original matrix $X$  \n",
    "\n",
    "+ Dimensionality: dimensions/features/columns of a table  \n",
    "+ PCA: Principal Component Analysis \n"
   ]
  },
  {
   "cell_type": "code",
   "execution_count": 1,
   "metadata": {},
   "outputs": [],
   "source": [
    "import numpy as np\n",
    "import pandas as pd\n",
    "import plotly.graph_objects as go\n",
    "\n",
    "from plotly.subplots import make_subplots\n",
    "from sklearn.decomposition import PCA"
   ]
  },
  {
   "cell_type": "raw",
   "metadata": {},
   "source": [
    "%load_ext google.colab.data_table"
   ]
  },
  {
   "cell_type": "markdown",
   "metadata": {},
   "source": [
    "## Dimensionality Reduction\n",
    "\n",
    "+ Matrix Decomposition, or Matrix Factorization\n",
    "+ Given a matrix $X$ of shape $m$ by $n$, reduce its dimension to have shape $m$ by $p$, where $p \\le n$\n",
    "+ Mathmatically, _factorization_ is about finding two (or three) matrices to approximate the original matrix $X$\n"
   ]
  },
  {
   "cell_type": "code",
   "execution_count": null,
   "metadata": {},
   "outputs": [],
   "source": []
  },
  {
   "cell_type": "markdown",
   "metadata": {},
   "source": [
    "### When do we need Dimensionality Reduction? \n",
    "\n",
    "+ Handle data with large number of features, e.g. NLP, Image Processing or larger tables\n",
    "+ Visualize data of more than 3 dimensions\n",
    "\n",
    "Note: after PCA, the features become less interpretable"
   ]
  },
  {
   "cell_type": "code",
   "execution_count": null,
   "metadata": {},
   "outputs": [],
   "source": []
  },
  {
   "cell_type": "markdown",
   "metadata": {},
   "source": [
    "### Other Reduction Algorithms \n",
    "\n",
    "(by `sklearn.decomposition`)\n",
    "\n",
    "+ `PCA`, principal component analysis\n",
    "+ `Kernel PCA`; PCA with kernel tricks to perform non-linear dimensinality reduction\n",
    "+ `SVD`, singular value decomposition; the fundamental algorithm for decomposition in PCA\n",
    "+ `NMF`, non-negative matrix factorization; contstrained to run only on non-negative matrix\n",
    "+ ... \n",
    "\n",
    "(by `sklearn.discriminant_analysis`)\n",
    "\n",
    "+ `LDA`, Linear Discriminant Analysis, finding the plane in feature space to separate the data points\n",
    "+ ..."
   ]
  },
  {
   "cell_type": "code",
   "execution_count": null,
   "metadata": {},
   "outputs": [],
   "source": []
  },
  {
   "cell_type": "code",
   "execution_count": null,
   "metadata": {},
   "outputs": [],
   "source": []
  },
  {
   "cell_type": "markdown",
   "metadata": {},
   "source": [
    "## PCA Intuitions with visualization\n",
    "\n",
    "+ Given a matrix of shape $m$ by $\\boldsymbol{3}$, \n",
    "  + reduce its dimension to have shape $m$ by $\\boldsymbol{2}$\n",
    "  + reduce its dimension to have shape $m$ by $\\boldsymbol{1}$"
   ]
  },
  {
   "cell_type": "markdown",
   "metadata": {},
   "source": [
    "### 3 Dimension data"
   ]
  },
  {
   "cell_type": "code",
   "execution_count": 34,
   "metadata": {},
   "outputs": [
    {
     "data": {
      "text/plain": [
       "(50, 3)"
      ]
     },
     "metadata": {},
     "output_type": "display_data"
    },
    {
     "data": {
      "text/plain": [
       "array([[ 4.        , 10.        ,  0.        ],\n",
       "       [ 3.97924752, 10.20266794,  0.20408163],\n",
       "       [ 3.91785141, 10.39692415,  0.40816327],\n",
       "       [ 3.81835992, 10.57470604,  0.6122449 ],\n",
       "       [ 3.68490244, 10.72863478,  0.81632653]])"
      ]
     },
     "execution_count": 34,
     "metadata": {},
     "output_type": "execute_result"
    }
   ],
   "source": [
    "# Helix equation\n",
    "t = np.linspace(0, 10, 50)\n",
    "x, y, z = np.cos(t) + 3 , np.sin(t) + 10, t # transform so all >= 0\n",
    "\n",
    "X = np.c_[x, y, z]; row_index = np.array(range(X.shape[0]))\n",
    "display(X.shape)\n",
    "X[:5, :]"
   ]
  },
  {
   "cell_type": "code",
   "execution_count": 35,
   "metadata": {},
   "outputs": [
    {
     "data": {
      "application/vnd.plotly.v1+json": {
       "config": {
        "displayModeBar": false,
        "plotlyServerURL": "https://plot.ly",
        "scrollZoom": false
       },
       "data": [
        {
         "marker": {
          "color": [
           0,
           1,
           2,
           3,
           4,
           5,
           6,
           7,
           8,
           9,
           10,
           11,
           12,
           13,
           14,
           15,
           16,
           17,
           18,
           19,
           20,
           21,
           22,
           23,
           24,
           25,
           26,
           27,
           28,
           29,
           30,
           31,
           32,
           33,
           34,
           35,
           36,
           37,
           38,
           39,
           40,
           41,
           42,
           43,
           44,
           45,
           46,
           47,
           48,
           49
          ],
          "colorscale": [
           [
            0,
            "#440154"
           ],
           [
            0.1111111111111111,
            "#482878"
           ],
           [
            0.2222222222222222,
            "#3e4989"
           ],
           [
            0.3333333333333333,
            "#31688e"
           ],
           [
            0.4444444444444444,
            "#26828e"
           ],
           [
            0.5555555555555556,
            "#1f9e89"
           ],
           [
            0.6666666666666666,
            "#35b779"
           ],
           [
            0.7777777777777778,
            "#6ece58"
           ],
           [
            0.8888888888888888,
            "#b5de2b"
           ],
           [
            1,
            "#fde725"
           ]
          ],
          "size": 5
         },
         "mode": "markers",
         "type": "scatter3d",
         "x": [
          4,
          3.979247521056497,
          3.9178514149905888,
          3.8183599245989672,
          3.684902440000452,
          3.5230181084730106,
          3.339425932379255,
          3.1417458972563406,
          2.938182704637146,
          2.737185236258675,
          2.5470958835813713,
          2.3758042971828743,
          2.230419927143053,
          2.116976945617838,
          2.04018379877801,
          2.003227782949167,
          2.0076427560119567,
          2.0532454746953355,
          2.138143200080817,
          2.258812255651574,
          2.4102442773378776,
          2.5861540854568927,
          2.7792405508307305,
          2.9814896278454963,
          3.184506977077008,
          3.3798663719950794,
          3.559459429140805,
          3.715832146240554,
          3.842494280256423,
          3.9341887246502054,
          3.9871097053688658,
          3.9990607393363353,
          3.96954579939109,
          3.8997899018725932,
          3.7926882623697216,
          3.65268612991967,
          3.4855942871338694,
          3.2983478739104073,
          3.098718544744615,
          2.894991906536532,
          2.695623624825445,
          2.5088884717477775,
          2.342536881968041,
          2.2034732712144813,
          2.0974694687950386,
          2.028925158064996,
          2.0006852677545965,
          2.0139218933219074,
          2.068085649180191,
          2.1609284709235475
         ],
         "y": [
          10,
          10.2026679365482,
          10.396924148924922,
          10.57470604121618,
          10.728634783469351,
          10.852321569719619,
          10.940632785112486,
          10.989903076372125,
          10.998087482134718,
          10.964846308983763,
          10.891559230411003,
          10.781268023526264,
          10.638550320226603,
          10.469329612777202,
          10.280629399514357,
          10.080281674842814,
          9.876601862637822,
          9.678043684927381,
          9.492848290515486,
          9.328702206448067,
          9.192418309031664,
          9.089653055689217,
          9.024671713932955,
          9.00017133161591,
          9.017168796074369,
          9.074958628261797,
          9.171142263626958,
          9.3017276044346,
          9.461294711613844,
          9.643220759101062,
          9.839954913956749,
          10.043331733368683,
          10.24491007101198,
          10.43632342647182,
          10.609627196490832,
          10.75762841539272,
          10.874184298819733,
          10.954457199738751,
          10.995115394777663,
          10.994471367263618,
          10.95255184753146,
          10.871096703482321,
          10.753486727439638,
          10.604603316506154,
          10.430625870382737,
          10.23877531564403,
          10.037014401485063,
          9.833717206151244,
          9.637321571173452,
          9.45597888911063
         ],
         "z": [
          0,
          0.20408163265306123,
          0.40816326530612246,
          0.6122448979591837,
          0.8163265306122449,
          1.0204081632653061,
          1.2244897959183674,
          1.4285714285714286,
          1.6326530612244898,
          1.836734693877551,
          2.0408163265306123,
          2.2448979591836737,
          2.4489795918367347,
          2.6530612244897958,
          2.857142857142857,
          3.0612244897959187,
          3.2653061224489797,
          3.4693877551020407,
          3.673469387755102,
          3.8775510204081636,
          4.081632653061225,
          4.285714285714286,
          4.4897959183673475,
          4.6938775510204085,
          4.8979591836734695,
          5.1020408163265305,
          5.3061224489795915,
          5.510204081632653,
          5.714285714285714,
          5.918367346938775,
          6.122448979591837,
          6.326530612244898,
          6.530612244897959,
          6.73469387755102,
          6.938775510204081,
          7.142857142857143,
          7.346938775510204,
          7.551020408163265,
          7.755102040816327,
          7.959183673469388,
          8.16326530612245,
          8.36734693877551,
          8.571428571428571,
          8.775510204081632,
          8.979591836734695,
          9.183673469387756,
          9.387755102040817,
          9.591836734693878,
          9.795918367346939,
          10
         ]
        }
       ],
       "layout": {
        "autosize": false,
        "height": 500,
        "margin": {
         "b": 0,
         "l": 0,
         "r": 0,
         "t": 30
        },
        "scene": {
         "aspectmode": "cube",
         "aspectratio": {
          "x": 1,
          "y": 1,
          "z": 1
         }
        },
        "template": {
         "data": {
          "bar": [
           {
            "error_x": {
             "color": "rgb(51,51,51)"
            },
            "error_y": {
             "color": "rgb(51,51,51)"
            },
            "marker": {
             "line": {
              "color": "rgb(237,237,237)",
              "width": 0.5
             }
            },
            "type": "bar"
           }
          ],
          "barpolar": [
           {
            "marker": {
             "line": {
              "color": "rgb(237,237,237)",
              "width": 0.5
             }
            },
            "type": "barpolar"
           }
          ],
          "carpet": [
           {
            "aaxis": {
             "endlinecolor": "rgb(51,51,51)",
             "gridcolor": "white",
             "linecolor": "white",
             "minorgridcolor": "white",
             "startlinecolor": "rgb(51,51,51)"
            },
            "baxis": {
             "endlinecolor": "rgb(51,51,51)",
             "gridcolor": "white",
             "linecolor": "white",
             "minorgridcolor": "white",
             "startlinecolor": "rgb(51,51,51)"
            },
            "type": "carpet"
           }
          ],
          "choropleth": [
           {
            "colorbar": {
             "outlinewidth": 0,
             "tickcolor": "rgb(237,237,237)",
             "ticklen": 6,
             "ticks": "inside"
            },
            "type": "choropleth"
           }
          ],
          "contour": [
           {
            "colorbar": {
             "outlinewidth": 0,
             "tickcolor": "rgb(237,237,237)",
             "ticklen": 6,
             "ticks": "inside"
            },
            "colorscale": [
             [
              0,
              "rgb(20,44,66)"
             ],
             [
              1,
              "rgb(90,179,244)"
             ]
            ],
            "type": "contour"
           }
          ],
          "contourcarpet": [
           {
            "colorbar": {
             "outlinewidth": 0,
             "tickcolor": "rgb(237,237,237)",
             "ticklen": 6,
             "ticks": "inside"
            },
            "type": "contourcarpet"
           }
          ],
          "heatmap": [
           {
            "colorbar": {
             "outlinewidth": 0,
             "tickcolor": "rgb(237,237,237)",
             "ticklen": 6,
             "ticks": "inside"
            },
            "colorscale": [
             [
              0,
              "rgb(20,44,66)"
             ],
             [
              1,
              "rgb(90,179,244)"
             ]
            ],
            "type": "heatmap"
           }
          ],
          "heatmapgl": [
           {
            "colorbar": {
             "outlinewidth": 0,
             "tickcolor": "rgb(237,237,237)",
             "ticklen": 6,
             "ticks": "inside"
            },
            "colorscale": [
             [
              0,
              "rgb(20,44,66)"
             ],
             [
              1,
              "rgb(90,179,244)"
             ]
            ],
            "type": "heatmapgl"
           }
          ],
          "histogram": [
           {
            "marker": {
             "colorbar": {
              "outlinewidth": 0,
              "tickcolor": "rgb(237,237,237)",
              "ticklen": 6,
              "ticks": "inside"
             }
            },
            "type": "histogram"
           }
          ],
          "histogram2d": [
           {
            "colorbar": {
             "outlinewidth": 0,
             "tickcolor": "rgb(237,237,237)",
             "ticklen": 6,
             "ticks": "inside"
            },
            "colorscale": [
             [
              0,
              "rgb(20,44,66)"
             ],
             [
              1,
              "rgb(90,179,244)"
             ]
            ],
            "type": "histogram2d"
           }
          ],
          "histogram2dcontour": [
           {
            "colorbar": {
             "outlinewidth": 0,
             "tickcolor": "rgb(237,237,237)",
             "ticklen": 6,
             "ticks": "inside"
            },
            "colorscale": [
             [
              0,
              "rgb(20,44,66)"
             ],
             [
              1,
              "rgb(90,179,244)"
             ]
            ],
            "type": "histogram2dcontour"
           }
          ],
          "mesh3d": [
           {
            "colorbar": {
             "outlinewidth": 0,
             "tickcolor": "rgb(237,237,237)",
             "ticklen": 6,
             "ticks": "inside"
            },
            "type": "mesh3d"
           }
          ],
          "parcoords": [
           {
            "line": {
             "colorbar": {
              "outlinewidth": 0,
              "tickcolor": "rgb(237,237,237)",
              "ticklen": 6,
              "ticks": "inside"
             }
            },
            "type": "parcoords"
           }
          ],
          "pie": [
           {
            "automargin": true,
            "type": "pie"
           }
          ],
          "scatter": [
           {
            "marker": {
             "colorbar": {
              "outlinewidth": 0,
              "tickcolor": "rgb(237,237,237)",
              "ticklen": 6,
              "ticks": "inside"
             }
            },
            "type": "scatter"
           }
          ],
          "scatter3d": [
           {
            "line": {
             "colorbar": {
              "outlinewidth": 0,
              "tickcolor": "rgb(237,237,237)",
              "ticklen": 6,
              "ticks": "inside"
             }
            },
            "marker": {
             "colorbar": {
              "outlinewidth": 0,
              "tickcolor": "rgb(237,237,237)",
              "ticklen": 6,
              "ticks": "inside"
             }
            },
            "type": "scatter3d"
           }
          ],
          "scattercarpet": [
           {
            "marker": {
             "colorbar": {
              "outlinewidth": 0,
              "tickcolor": "rgb(237,237,237)",
              "ticklen": 6,
              "ticks": "inside"
             }
            },
            "type": "scattercarpet"
           }
          ],
          "scattergeo": [
           {
            "marker": {
             "colorbar": {
              "outlinewidth": 0,
              "tickcolor": "rgb(237,237,237)",
              "ticklen": 6,
              "ticks": "inside"
             }
            },
            "type": "scattergeo"
           }
          ],
          "scattergl": [
           {
            "marker": {
             "colorbar": {
              "outlinewidth": 0,
              "tickcolor": "rgb(237,237,237)",
              "ticklen": 6,
              "ticks": "inside"
             }
            },
            "type": "scattergl"
           }
          ],
          "scattermapbox": [
           {
            "marker": {
             "colorbar": {
              "outlinewidth": 0,
              "tickcolor": "rgb(237,237,237)",
              "ticklen": 6,
              "ticks": "inside"
             }
            },
            "type": "scattermapbox"
           }
          ],
          "scatterpolar": [
           {
            "marker": {
             "colorbar": {
              "outlinewidth": 0,
              "tickcolor": "rgb(237,237,237)",
              "ticklen": 6,
              "ticks": "inside"
             }
            },
            "type": "scatterpolar"
           }
          ],
          "scatterpolargl": [
           {
            "marker": {
             "colorbar": {
              "outlinewidth": 0,
              "tickcolor": "rgb(237,237,237)",
              "ticklen": 6,
              "ticks": "inside"
             }
            },
            "type": "scatterpolargl"
           }
          ],
          "scatterternary": [
           {
            "marker": {
             "colorbar": {
              "outlinewidth": 0,
              "tickcolor": "rgb(237,237,237)",
              "ticklen": 6,
              "ticks": "inside"
             }
            },
            "type": "scatterternary"
           }
          ],
          "surface": [
           {
            "colorbar": {
             "outlinewidth": 0,
             "tickcolor": "rgb(237,237,237)",
             "ticklen": 6,
             "ticks": "inside"
            },
            "colorscale": [
             [
              0,
              "rgb(20,44,66)"
             ],
             [
              1,
              "rgb(90,179,244)"
             ]
            ],
            "type": "surface"
           }
          ],
          "table": [
           {
            "cells": {
             "fill": {
              "color": "rgb(237,237,237)"
             },
             "line": {
              "color": "white"
             }
            },
            "header": {
             "fill": {
              "color": "rgb(217,217,217)"
             },
             "line": {
              "color": "white"
             }
            },
            "type": "table"
           }
          ]
         },
         "layout": {
          "annotationdefaults": {
           "arrowhead": 0,
           "arrowwidth": 1
          },
          "coloraxis": {
           "colorbar": {
            "outlinewidth": 0,
            "tickcolor": "rgb(237,237,237)",
            "ticklen": 6,
            "ticks": "inside"
           }
          },
          "colorscale": {
           "sequential": [
            [
             0,
             "rgb(20,44,66)"
            ],
            [
             1,
             "rgb(90,179,244)"
            ]
           ],
           "sequentialminus": [
            [
             0,
             "rgb(20,44,66)"
            ],
            [
             1,
             "rgb(90,179,244)"
            ]
           ]
          },
          "colorway": [
           "#F8766D",
           "#A3A500",
           "#00BF7D",
           "#00B0F6",
           "#E76BF3"
          ],
          "font": {
           "color": "rgb(51,51,51)"
          },
          "geo": {
           "bgcolor": "white",
           "lakecolor": "white",
           "landcolor": "rgb(237,237,237)",
           "showlakes": true,
           "showland": true,
           "subunitcolor": "white"
          },
          "hoverlabel": {
           "align": "left"
          },
          "hovermode": "closest",
          "paper_bgcolor": "white",
          "plot_bgcolor": "rgb(237,237,237)",
          "polar": {
           "angularaxis": {
            "gridcolor": "white",
            "linecolor": "white",
            "showgrid": true,
            "tickcolor": "rgb(51,51,51)",
            "ticks": "outside"
           },
           "bgcolor": "rgb(237,237,237)",
           "radialaxis": {
            "gridcolor": "white",
            "linecolor": "white",
            "showgrid": true,
            "tickcolor": "rgb(51,51,51)",
            "ticks": "outside"
           }
          },
          "scene": {
           "xaxis": {
            "backgroundcolor": "rgb(237,237,237)",
            "gridcolor": "white",
            "gridwidth": 2,
            "linecolor": "white",
            "showbackground": true,
            "showgrid": true,
            "tickcolor": "rgb(51,51,51)",
            "ticks": "outside",
            "zerolinecolor": "white"
           },
           "yaxis": {
            "backgroundcolor": "rgb(237,237,237)",
            "gridcolor": "white",
            "gridwidth": 2,
            "linecolor": "white",
            "showbackground": true,
            "showgrid": true,
            "tickcolor": "rgb(51,51,51)",
            "ticks": "outside",
            "zerolinecolor": "white"
           },
           "zaxis": {
            "backgroundcolor": "rgb(237,237,237)",
            "gridcolor": "white",
            "gridwidth": 2,
            "linecolor": "white",
            "showbackground": true,
            "showgrid": true,
            "tickcolor": "rgb(51,51,51)",
            "ticks": "outside",
            "zerolinecolor": "white"
           }
          },
          "shapedefaults": {
           "fillcolor": "black",
           "line": {
            "width": 0
           },
           "opacity": 0.3
          },
          "ternary": {
           "aaxis": {
            "gridcolor": "white",
            "linecolor": "white",
            "showgrid": true,
            "tickcolor": "rgb(51,51,51)",
            "ticks": "outside"
           },
           "baxis": {
            "gridcolor": "white",
            "linecolor": "white",
            "showgrid": true,
            "tickcolor": "rgb(51,51,51)",
            "ticks": "outside"
           },
           "bgcolor": "rgb(237,237,237)",
           "caxis": {
            "gridcolor": "white",
            "linecolor": "white",
            "showgrid": true,
            "tickcolor": "rgb(51,51,51)",
            "ticks": "outside"
           }
          },
          "xaxis": {
           "automargin": true,
           "gridcolor": "white",
           "linecolor": "white",
           "showgrid": true,
           "tickcolor": "rgb(51,51,51)",
           "ticks": "outside",
           "title": {
            "standoff": 15
           },
           "zerolinecolor": "white"
          },
          "yaxis": {
           "automargin": true,
           "gridcolor": "white",
           "linecolor": "white",
           "showgrid": true,
           "tickcolor": "rgb(51,51,51)",
           "ticks": "outside",
           "title": {
            "standoff": 15
           },
           "zerolinecolor": "white"
          }
         }
        },
        "title": {
         "text": "X (Helix Shape)",
         "y": 0.95
        },
        "width": 500
       }
      },
      "image/png": "[encoded data removed]",
      "text/html": [
       "<div>\n",
       "        \n",
       "        \n",
       "            <div id=\"449c78b2-59ea-4dc5-90bc-c97a687ab9c7\" class=\"plotly-graph-div\" style=\"height:500px; width:500px;\"></div>\n",
       "            <script type=\"text/javascript\">\n",
       "                require([\"plotly\"], function(Plotly) {\n",
       "                    window.PLOTLYENV=window.PLOTLYENV || {};\n",
       "                    \n",
       "                if (document.getElementById(\"449c78b2-59ea-4dc5-90bc-c97a687ab9c7\")) {\n",
       "                    Plotly.newPlot(\n",
       "                        '449c78b2-59ea-4dc5-90bc-c97a687ab9c7',\n",
       "                        [{\"marker\": {\"color\": [0, 1, 2, 3, 4, 5, 6, 7, 8, 9, 10, 11, 12, 13, 14, 15, 16, 17, 18, 19, 20, 21, 22, 23, 24, 25, 26, 27, 28, 29, 30, 31, 32, 33, 34, 35, 36, 37, 38, 39, 40, 41, 42, 43, 44, 45, 46, 47, 48, 49], \"colorscale\": [[0.0, \"#440154\"], [0.1111111111111111, \"#482878\"], [0.2222222222222222, \"#3e4989\"], [0.3333333333333333, \"#31688e\"], [0.4444444444444444, \"#26828e\"], [0.5555555555555556, \"#1f9e89\"], [0.6666666666666666, \"#35b779\"], [0.7777777777777778, \"#6ece58\"], [0.8888888888888888, \"#b5de2b\"], [1.0, \"#fde725\"]], \"size\": 5}, \"mode\": \"markers\", \"type\": \"scatter3d\", \"x\": [4.0, 3.979247521056497, 3.9178514149905888, 3.8183599245989672, 3.684902440000452, 3.5230181084730106, 3.339425932379255, 3.1417458972563406, 2.938182704637146, 2.737185236258675, 2.5470958835813713, 2.3758042971828743, 2.230419927143053, 2.116976945617838, 2.04018379877801, 2.003227782949167, 2.0076427560119567, 2.0532454746953355, 2.138143200080817, 2.258812255651574, 2.4102442773378776, 2.5861540854568927, 2.7792405508307305, 2.9814896278454963, 3.184506977077008, 3.3798663719950794, 3.559459429140805, 3.715832146240554, 3.842494280256423, 3.9341887246502054, 3.9871097053688658, 3.9990607393363353, 3.96954579939109, 3.8997899018725932, 3.7926882623697216, 3.65268612991967, 3.4855942871338694, 3.2983478739104073, 3.098718544744615, 2.894991906536532, 2.695623624825445, 2.5088884717477775, 2.342536881968041, 2.2034732712144813, 2.0974694687950386, 2.028925158064996, 2.0006852677545965, 2.0139218933219074, 2.068085649180191, 2.1609284709235475], \"y\": [10.0, 10.2026679365482, 10.396924148924922, 10.57470604121618, 10.728634783469351, 10.852321569719619, 10.940632785112486, 10.989903076372125, 10.998087482134718, 10.964846308983763, 10.891559230411003, 10.781268023526264, 10.638550320226603, 10.469329612777202, 10.280629399514357, 10.080281674842814, 9.876601862637822, 9.678043684927381, 9.492848290515486, 9.328702206448067, 9.192418309031664, 9.089653055689217, 9.024671713932955, 9.00017133161591, 9.017168796074369, 9.074958628261797, 9.171142263626958, 9.3017276044346, 9.461294711613844, 9.643220759101062, 9.839954913956749, 10.043331733368683, 10.24491007101198, 10.43632342647182, 10.609627196490832, 10.75762841539272, 10.874184298819733, 10.954457199738751, 10.995115394777663, 10.994471367263618, 10.95255184753146, 10.871096703482321, 10.753486727439638, 10.604603316506154, 10.430625870382737, 10.23877531564403, 10.037014401485063, 9.833717206151244, 9.637321571173452, 9.45597888911063], \"z\": [0.0, 0.20408163265306123, 0.40816326530612246, 0.6122448979591837, 0.8163265306122449, 1.0204081632653061, 1.2244897959183674, 1.4285714285714286, 1.6326530612244898, 1.836734693877551, 2.0408163265306123, 2.2448979591836737, 2.4489795918367347, 2.6530612244897958, 2.857142857142857, 3.0612244897959187, 3.2653061224489797, 3.4693877551020407, 3.673469387755102, 3.8775510204081636, 4.081632653061225, 4.285714285714286, 4.4897959183673475, 4.6938775510204085, 4.8979591836734695, 5.1020408163265305, 5.3061224489795915, 5.510204081632653, 5.714285714285714, 5.918367346938775, 6.122448979591837, 6.326530612244898, 6.530612244897959, 6.73469387755102, 6.938775510204081, 7.142857142857143, 7.346938775510204, 7.551020408163265, 7.755102040816327, 7.959183673469388, 8.16326530612245, 8.36734693877551, 8.571428571428571, 8.775510204081632, 8.979591836734695, 9.183673469387756, 9.387755102040817, 9.591836734693878, 9.795918367346939, 10.0]}],\n",
       "                        {\"autosize\": false, \"height\": 500, \"margin\": {\"b\": 0, \"l\": 0, \"r\": 0, \"t\": 30}, \"scene\": {\"aspectmode\": \"cube\"}, \"template\": {\"data\": {\"bar\": [{\"error_x\": {\"color\": \"rgb(51,51,51)\"}, \"error_y\": {\"color\": \"rgb(51,51,51)\"}, \"marker\": {\"line\": {\"color\": \"rgb(237,237,237)\", \"width\": 0.5}}, \"type\": \"bar\"}], \"barpolar\": [{\"marker\": {\"line\": {\"color\": \"rgb(237,237,237)\", \"width\": 0.5}}, \"type\": \"barpolar\"}], \"carpet\": [{\"aaxis\": {\"endlinecolor\": \"rgb(51,51,51)\", \"gridcolor\": \"white\", \"linecolor\": \"white\", \"minorgridcolor\": \"white\", \"startlinecolor\": \"rgb(51,51,51)\"}, \"baxis\": {\"endlinecolor\": \"rgb(51,51,51)\", \"gridcolor\": \"white\", \"linecolor\": \"white\", \"minorgridcolor\": \"white\", \"startlinecolor\": \"rgb(51,51,51)\"}, \"type\": \"carpet\"}], \"choropleth\": [{\"colorbar\": {\"outlinewidth\": 0, \"tickcolor\": \"rgb(237,237,237)\", \"ticklen\": 6, \"ticks\": \"inside\"}, \"type\": \"choropleth\"}], \"contour\": [{\"colorbar\": {\"outlinewidth\": 0, \"tickcolor\": \"rgb(237,237,237)\", \"ticklen\": 6, \"ticks\": \"inside\"}, \"colorscale\": [[0, \"rgb(20,44,66)\"], [1, \"rgb(90,179,244)\"]], \"type\": \"contour\"}], \"contourcarpet\": [{\"colorbar\": {\"outlinewidth\": 0, \"tickcolor\": \"rgb(237,237,237)\", \"ticklen\": 6, \"ticks\": \"inside\"}, \"type\": \"contourcarpet\"}], \"heatmap\": [{\"colorbar\": {\"outlinewidth\": 0, \"tickcolor\": \"rgb(237,237,237)\", \"ticklen\": 6, \"ticks\": \"inside\"}, \"colorscale\": [[0, \"rgb(20,44,66)\"], [1, \"rgb(90,179,244)\"]], \"type\": \"heatmap\"}], \"heatmapgl\": [{\"colorbar\": {\"outlinewidth\": 0, \"tickcolor\": \"rgb(237,237,237)\", \"ticklen\": 6, \"ticks\": \"inside\"}, \"colorscale\": [[0, \"rgb(20,44,66)\"], [1, \"rgb(90,179,244)\"]], \"type\": \"heatmapgl\"}], \"histogram\": [{\"marker\": {\"colorbar\": {\"outlinewidth\": 0, \"tickcolor\": \"rgb(237,237,237)\", \"ticklen\": 6, \"ticks\": \"inside\"}}, \"type\": \"histogram\"}], \"histogram2d\": [{\"colorbar\": {\"outlinewidth\": 0, \"tickcolor\": \"rgb(237,237,237)\", \"ticklen\": 6, \"ticks\": \"inside\"}, \"colorscale\": [[0, \"rgb(20,44,66)\"], [1, \"rgb(90,179,244)\"]], \"type\": \"histogram2d\"}], \"histogram2dcontour\": [{\"colorbar\": {\"outlinewidth\": 0, \"tickcolor\": \"rgb(237,237,237)\", \"ticklen\": 6, \"ticks\": \"inside\"}, \"colorscale\": [[0, \"rgb(20,44,66)\"], [1, \"rgb(90,179,244)\"]], \"type\": \"histogram2dcontour\"}], \"mesh3d\": [{\"colorbar\": {\"outlinewidth\": 0, \"tickcolor\": \"rgb(237,237,237)\", \"ticklen\": 6, \"ticks\": \"inside\"}, \"type\": \"mesh3d\"}], \"parcoords\": [{\"line\": {\"colorbar\": {\"outlinewidth\": 0, \"tickcolor\": \"rgb(237,237,237)\", \"ticklen\": 6, \"ticks\": \"inside\"}}, \"type\": \"parcoords\"}], \"pie\": [{\"automargin\": true, \"type\": \"pie\"}], \"scatter\": [{\"marker\": {\"colorbar\": {\"outlinewidth\": 0, \"tickcolor\": \"rgb(237,237,237)\", \"ticklen\": 6, \"ticks\": \"inside\"}}, \"type\": \"scatter\"}], \"scatter3d\": [{\"line\": {\"colorbar\": {\"outlinewidth\": 0, \"tickcolor\": \"rgb(237,237,237)\", \"ticklen\": 6, \"ticks\": \"inside\"}}, \"marker\": {\"colorbar\": {\"outlinewidth\": 0, \"tickcolor\": \"rgb(237,237,237)\", \"ticklen\": 6, \"ticks\": \"inside\"}}, \"type\": \"scatter3d\"}], \"scattercarpet\": [{\"marker\": {\"colorbar\": {\"outlinewidth\": 0, \"tickcolor\": \"rgb(237,237,237)\", \"ticklen\": 6, \"ticks\": \"inside\"}}, \"type\": \"scattercarpet\"}], \"scattergeo\": [{\"marker\": {\"colorbar\": {\"outlinewidth\": 0, \"tickcolor\": \"rgb(237,237,237)\", \"ticklen\": 6, \"ticks\": \"inside\"}}, \"type\": \"scattergeo\"}], \"scattergl\": [{\"marker\": {\"colorbar\": {\"outlinewidth\": 0, \"tickcolor\": \"rgb(237,237,237)\", \"ticklen\": 6, \"ticks\": \"inside\"}}, \"type\": \"scattergl\"}], \"scattermapbox\": [{\"marker\": {\"colorbar\": {\"outlinewidth\": 0, \"tickcolor\": \"rgb(237,237,237)\", \"ticklen\": 6, \"ticks\": \"inside\"}}, \"type\": \"scattermapbox\"}], \"scatterpolar\": [{\"marker\": {\"colorbar\": {\"outlinewidth\": 0, \"tickcolor\": \"rgb(237,237,237)\", \"ticklen\": 6, \"ticks\": \"inside\"}}, \"type\": \"scatterpolar\"}], \"scatterpolargl\": [{\"marker\": {\"colorbar\": {\"outlinewidth\": 0, \"tickcolor\": \"rgb(237,237,237)\", \"ticklen\": 6, \"ticks\": \"inside\"}}, \"type\": \"scatterpolargl\"}], \"scatterternary\": [{\"marker\": {\"colorbar\": {\"outlinewidth\": 0, \"tickcolor\": \"rgb(237,237,237)\", \"ticklen\": 6, \"ticks\": \"inside\"}}, \"type\": \"scatterternary\"}], \"surface\": [{\"colorbar\": {\"outlinewidth\": 0, \"tickcolor\": \"rgb(237,237,237)\", \"ticklen\": 6, \"ticks\": \"inside\"}, \"colorscale\": [[0, \"rgb(20,44,66)\"], [1, \"rgb(90,179,244)\"]], \"type\": \"surface\"}], \"table\": [{\"cells\": {\"fill\": {\"color\": \"rgb(237,237,237)\"}, \"line\": {\"color\": \"white\"}}, \"header\": {\"fill\": {\"color\": \"rgb(217,217,217)\"}, \"line\": {\"color\": \"white\"}}, \"type\": \"table\"}]}, \"layout\": {\"annotationdefaults\": {\"arrowhead\": 0, \"arrowwidth\": 1}, \"coloraxis\": {\"colorbar\": {\"outlinewidth\": 0, \"tickcolor\": \"rgb(237,237,237)\", \"ticklen\": 6, \"ticks\": \"inside\"}}, \"colorscale\": {\"sequential\": [[0, \"rgb(20,44,66)\"], [1, \"rgb(90,179,244)\"]], \"sequentialminus\": [[0, \"rgb(20,44,66)\"], [1, \"rgb(90,179,244)\"]]}, \"colorway\": [\"#F8766D\", \"#A3A500\", \"#00BF7D\", \"#00B0F6\", \"#E76BF3\"], \"font\": {\"color\": \"rgb(51,51,51)\"}, \"geo\": {\"bgcolor\": \"white\", \"lakecolor\": \"white\", \"landcolor\": \"rgb(237,237,237)\", \"showlakes\": true, \"showland\": true, \"subunitcolor\": \"white\"}, \"hoverlabel\": {\"align\": \"left\"}, \"hovermode\": \"closest\", \"paper_bgcolor\": \"white\", \"plot_bgcolor\": \"rgb(237,237,237)\", \"polar\": {\"angularaxis\": {\"gridcolor\": \"white\", \"linecolor\": \"white\", \"showgrid\": true, \"tickcolor\": \"rgb(51,51,51)\", \"ticks\": \"outside\"}, \"bgcolor\": \"rgb(237,237,237)\", \"radialaxis\": {\"gridcolor\": \"white\", \"linecolor\": \"white\", \"showgrid\": true, \"tickcolor\": \"rgb(51,51,51)\", \"ticks\": \"outside\"}}, \"scene\": {\"xaxis\": {\"backgroundcolor\": \"rgb(237,237,237)\", \"gridcolor\": \"white\", \"gridwidth\": 2, \"linecolor\": \"white\", \"showbackground\": true, \"showgrid\": true, \"tickcolor\": \"rgb(51,51,51)\", \"ticks\": \"outside\", \"zerolinecolor\": \"white\"}, \"yaxis\": {\"backgroundcolor\": \"rgb(237,237,237)\", \"gridcolor\": \"white\", \"gridwidth\": 2, \"linecolor\": \"white\", \"showbackground\": true, \"showgrid\": true, \"tickcolor\": \"rgb(51,51,51)\", \"ticks\": \"outside\", \"zerolinecolor\": \"white\"}, \"zaxis\": {\"backgroundcolor\": \"rgb(237,237,237)\", \"gridcolor\": \"white\", \"gridwidth\": 2, \"linecolor\": \"white\", \"showbackground\": true, \"showgrid\": true, \"tickcolor\": \"rgb(51,51,51)\", \"ticks\": \"outside\", \"zerolinecolor\": \"white\"}}, \"shapedefaults\": {\"fillcolor\": \"black\", \"line\": {\"width\": 0}, \"opacity\": 0.3}, \"ternary\": {\"aaxis\": {\"gridcolor\": \"white\", \"linecolor\": \"white\", \"showgrid\": true, \"tickcolor\": \"rgb(51,51,51)\", \"ticks\": \"outside\"}, \"baxis\": {\"gridcolor\": \"white\", \"linecolor\": \"white\", \"showgrid\": true, \"tickcolor\": \"rgb(51,51,51)\", \"ticks\": \"outside\"}, \"bgcolor\": \"rgb(237,237,237)\", \"caxis\": {\"gridcolor\": \"white\", \"linecolor\": \"white\", \"showgrid\": true, \"tickcolor\": \"rgb(51,51,51)\", \"ticks\": \"outside\"}}, \"xaxis\": {\"automargin\": true, \"gridcolor\": \"white\", \"linecolor\": \"white\", \"showgrid\": true, \"tickcolor\": \"rgb(51,51,51)\", \"ticks\": \"outside\", \"title\": {\"standoff\": 15}, \"zerolinecolor\": \"white\"}, \"yaxis\": {\"automargin\": true, \"gridcolor\": \"white\", \"linecolor\": \"white\", \"showgrid\": true, \"tickcolor\": \"rgb(51,51,51)\", \"ticks\": \"outside\", \"title\": {\"standoff\": 15}, \"zerolinecolor\": \"white\"}}}, \"title\": {\"text\": \"X (Helix Shape)\", \"y\": 0.95}, \"width\": 500},\n",
       "                        {\"displayModeBar\": false, \"scrollZoom\": false, \"responsive\": true}\n",
       "                    ).then(function(){\n",
       "                            \n",
       "var gd = document.getElementById('449c78b2-59ea-4dc5-90bc-c97a687ab9c7');\n",
       "var x = new MutationObserver(function (mutations, observer) {{\n",
       "        var display = window.getComputedStyle(gd).display;\n",
       "        if (!display || display === 'none') {{\n",
       "            console.log([gd, 'removed!']);\n",
       "            Plotly.purge(gd);\n",
       "            observer.disconnect();\n",
       "        }}\n",
       "}});\n",
       "\n",
       "// Listen for the removal of the full notebook cells\n",
       "var notebookContainer = gd.closest('#notebook-container');\n",
       "if (notebookContainer) {{\n",
       "    x.observe(notebookContainer, {childList: true});\n",
       "}}\n",
       "\n",
       "// Listen for the clearing of the current output cell\n",
       "var outputEl = gd.closest('.output');\n",
       "if (outputEl) {{\n",
       "    x.observe(outputEl, {childList: true});\n",
       "}}\n",
       "\n",
       "                        })\n",
       "                };\n",
       "                });\n",
       "            </script>\n",
       "        </div>"
      ]
     },
     "metadata": {},
     "output_type": "display_data"
    }
   ],
   "source": [
    "#@title (plot helix shape) { display-mode: \"form\" }\n",
    "trace1 = go.Scatter3d(\n",
    "    x=X[:, 0], y=X[:, 1], z=X[:, 2], mode='markers', \n",
    "    marker=dict(size=5,  color=row_index, colorscale='Viridis',)\n",
    ")\n",
    "\n",
    "layout = dict(\n",
    "    title=dict(text=\"X (Helix Shape)\", y=0.95), \n",
    "    height=500, width=500, autosize=False,\n",
    "    margin=dict(l=0, r=0, b=0, t=30),\n",
    "    template=\"ggplot2\",\n",
    "    scene=dict(\n",
    "        aspectmode=\"cube\", # for 3d viewing \n",
    "    ), \n",
    ")\n",
    "\n",
    "fig = go.Figure(data=[trace1], layout=layout)\n",
    "fig.show(config={'displayModeBar': False, 'scrollZoom': False})\n",
    "\n",
    "# Q: how to reduce from 3D to 2D, while keeping the most information on new axes? "
   ]
  },
  {
   "cell_type": "code",
   "execution_count": 36,
   "metadata": {},
   "outputs": [],
   "source": [
    "pca_2d = PCA(n_components=2)\n",
    "pca_1d = PCA(n_components=1)\n",
    "\n",
    "X_reduced_2d = pca_2d.fit_transform(X)\n",
    "X_reduced_1d = pca_1d.fit_transform(X)"
   ]
  },
  {
   "cell_type": "code",
   "execution_count": 37,
   "metadata": {},
   "outputs": [
    {
     "data": {
      "application/vnd.plotly.v1+json": {
       "config": {
        "displayModeBar": false,
        "plotlyServerURL": "https://plot.ly",
        "scrollZoom": false
       },
       "data": [
        {
         "marker": {
          "color": [
           0,
           1,
           2,
           3,
           4,
           5,
           6,
           7,
           8,
           9,
           10,
           11,
           12,
           13,
           14,
           15,
           16,
           17,
           18,
           19,
           20,
           21,
           22,
           23,
           24,
           25,
           26,
           27,
           28,
           29,
           30,
           31,
           32,
           33,
           34,
           35,
           36,
           37,
           38,
           39,
           40,
           41,
           42,
           43,
           44,
           45,
           46,
           47,
           48,
           49
          ],
          "colorscale": [
           [
            0,
            "#440154"
           ],
           [
            0.1111111111111111,
            "#482878"
           ],
           [
            0.2222222222222222,
            "#3e4989"
           ],
           [
            0.3333333333333333,
            "#31688e"
           ],
           [
            0.4444444444444444,
            "#26828e"
           ],
           [
            0.5555555555555556,
            "#1f9e89"
           ],
           [
            0.6666666666666666,
            "#35b779"
           ],
           [
            0.7777777777777778,
            "#6ece58"
           ],
           [
            0.8888888888888888,
            "#b5de2b"
           ],
           [
            1,
            "#fde725"
           ]
          ],
          "size": 10
         },
         "mode": "markers",
         "type": "scatter",
         "x": [
          -5.053945733446983,
          -4.852918644998946,
          -4.64905812159961,
          -4.442374885728394,
          -4.2329968164270095,
          -4.021163641685187,
          -3.807216988540574,
          -3.591586203862923,
          -3.374770534330336,
          -3.1573184052169254,
          -2.9398046580248987,
          -2.722806691712225,
          -2.5068804977731936,
          -2.2925375838348643,
          -2.0802237435545416,
          -1.8703005539728055,
          -1.6630303682736711,
          -1.4585654268267285,
          -1.256941538457021,
          -1.0580765942012635,
          -0.8617739752369102,
          -0.6677307135381044,
          -0.47555006655082815,
          -0.28475798397590407,
          -0.09482278320669572,
          0.09482278320669381,
          0.2847579839759026,
          0.4755500665508276,
          0.6677307135381032,
          0.8617739752369095,
          1.0580765942012624,
          1.256941538457021,
          1.458565426826729,
          1.6630303682736716,
          1.8703005539728055,
          2.0802237435545425,
          2.292537583834865,
          2.5068804977731944,
          2.722806691712227,
          2.939804658024901,
          3.157318405216926,
          3.3747705343303367,
          3.5915862038629225,
          3.8072169885405756,
          4.021163641685189,
          4.23299681642701,
          4.442374885728396,
          4.649058121599608,
          4.852918644998947,
          5.053945733446984
         ],
         "xaxis": "x",
         "y": [
          0.6141402835763761,
          0.6656220133201507,
          0.6758406624644437,
          0.644952381596987,
          0.5748194627045115,
          0.46893304482226844,
          0.3322682144553924,
          0.17107751482302203,
          -0.007368565684699071,
          -0.19508335482106948,
          -0.3836954829780901,
          -0.5647963365294991,
          -0.7302890569852178,
          -0.8727246007620006,
          -0.9856109114236529,
          -1.063682372210016,
          -1.10311835523885,
          -1.1017017965051836,
          -1.0589112150294764,
          -0.9759423569037123,
          -0.8556585659002067,
          -0.7024719405089258,
          -0.5221602099754581,
          -0.32162692989200553,
          -0.1086149504132465,
          0.10861495041325035,
          0.32162692989200903,
          0.5221602099754629,
          0.7024719405089291,
          0.8556585659002107,
          0.975942356903716,
          1.0589112150294797,
          1.101701796505187,
          1.103118355238853,
          1.0636823722100193,
          0.9856109114236552,
          0.8727246007620031,
          0.7302890569852204,
          0.5647963365295006,
          0.38369548297809225,
          0.19508335482107145,
          0.0073685656847016605,
          -0.17107751482301903,
          -0.3322682144553899,
          -0.4689330448222662,
          -0.5748194627045089,
          -0.6449523815969838,
          -0.6758406624644409,
          -0.6656220133201473,
          -0.6141402835763731
         ],
         "yaxis": "y"
        },
        {
         "marker": {
          "color": [
           0,
           1,
           2,
           3,
           4,
           5,
           6,
           7,
           8,
           9,
           10,
           11,
           12,
           13,
           14,
           15,
           16,
           17,
           18,
           19,
           20,
           21,
           22,
           23,
           24,
           25,
           26,
           27,
           28,
           29,
           30,
           31,
           32,
           33,
           34,
           35,
           36,
           37,
           38,
           39,
           40,
           41,
           42,
           43,
           44,
           45,
           46,
           47,
           48,
           49
          ],
          "colorscale": [
           [
            0,
            "#440154"
           ],
           [
            0.1111111111111111,
            "#482878"
           ],
           [
            0.2222222222222222,
            "#3e4989"
           ],
           [
            0.3333333333333333,
            "#31688e"
           ],
           [
            0.4444444444444444,
            "#26828e"
           ],
           [
            0.5555555555555556,
            "#1f9e89"
           ],
           [
            0.6666666666666666,
            "#35b779"
           ],
           [
            0.7777777777777778,
            "#6ece58"
           ],
           [
            0.8888888888888888,
            "#b5de2b"
           ],
           [
            1,
            "#fde725"
           ]
          ],
          "size": 10
         },
         "mode": "markers",
         "type": "scatter",
         "x": [
          -5.053945733446983,
          -4.852918644998946,
          -4.64905812159961,
          -4.442374885728394,
          -4.2329968164270095,
          -4.021163641685187,
          -3.807216988540574,
          -3.591586203862923,
          -3.374770534330336,
          -3.1573184052169254,
          -2.9398046580248987,
          -2.722806691712225,
          -2.5068804977731936,
          -2.2925375838348643,
          -2.0802237435545416,
          -1.8703005539728055,
          -1.6630303682736711,
          -1.4585654268267285,
          -1.256941538457021,
          -1.0580765942012635,
          -0.8617739752369102,
          -0.6677307135381044,
          -0.47555006655082815,
          -0.28475798397590407,
          -0.09482278320669572,
          0.09482278320669381,
          0.2847579839759026,
          0.4755500665508276,
          0.6677307135381032,
          0.8617739752369095,
          1.0580765942012624,
          1.256941538457021,
          1.458565426826729,
          1.6630303682736716,
          1.8703005539728055,
          2.0802237435545425,
          2.292537583834865,
          2.5068804977731944,
          2.722806691712227,
          2.939804658024901,
          3.157318405216926,
          3.3747705343303367,
          3.5915862038629225,
          3.8072169885405756,
          4.021163641685189,
          4.23299681642701,
          4.442374885728396,
          4.649058121599608,
          4.852918644998947,
          5.053945733446984
         ],
         "xaxis": "x2",
         "y": [
          0,
          0,
          0,
          0,
          0,
          0,
          0,
          0,
          0,
          0,
          0,
          0,
          0,
          0,
          0,
          0,
          0,
          0,
          0,
          0,
          0,
          0,
          0,
          0,
          0,
          0,
          0,
          0,
          0,
          0,
          0,
          0,
          0,
          0,
          0,
          0,
          0,
          0,
          0,
          0,
          0,
          0,
          0,
          0,
          0,
          0,
          0,
          0,
          0,
          0
         ],
         "yaxis": "y2"
        }
       ],
       "layout": {
        "annotations": [
         {
          "font": {
           "size": 16
          },
          "showarrow": false,
          "text": "X reduced to 2D",
          "x": 0.2375,
          "xanchor": "center",
          "xref": "paper",
          "y": 1,
          "yanchor": "bottom",
          "yref": "paper"
         },
         {
          "font": {
           "size": 16
          },
          "showarrow": false,
          "text": "X reduced to 1D",
          "x": 0.7625,
          "xanchor": "center",
          "xref": "paper",
          "y": 1,
          "yanchor": "bottom",
          "yref": "paper"
         }
        ],
        "autosize": false,
        "height": 400,
        "margin": {
         "b": 10,
         "l": 10,
         "r": 10,
         "t": 30
        },
        "showlegend": false,
        "template": {
         "data": {
          "bar": [
           {
            "error_x": {
             "color": "rgb(51,51,51)"
            },
            "error_y": {
             "color": "rgb(51,51,51)"
            },
            "marker": {
             "line": {
              "color": "rgb(237,237,237)",
              "width": 0.5
             }
            },
            "type": "bar"
           }
          ],
          "barpolar": [
           {
            "marker": {
             "line": {
              "color": "rgb(237,237,237)",
              "width": 0.5
             }
            },
            "type": "barpolar"
           }
          ],
          "carpet": [
           {
            "aaxis": {
             "endlinecolor": "rgb(51,51,51)",
             "gridcolor": "white",
             "linecolor": "white",
             "minorgridcolor": "white",
             "startlinecolor": "rgb(51,51,51)"
            },
            "baxis": {
             "endlinecolor": "rgb(51,51,51)",
             "gridcolor": "white",
             "linecolor": "white",
             "minorgridcolor": "white",
             "startlinecolor": "rgb(51,51,51)"
            },
            "type": "carpet"
           }
          ],
          "choropleth": [
           {
            "colorbar": {
             "outlinewidth": 0,
             "tickcolor": "rgb(237,237,237)",
             "ticklen": 6,
             "ticks": "inside"
            },
            "type": "choropleth"
           }
          ],
          "contour": [
           {
            "colorbar": {
             "outlinewidth": 0,
             "tickcolor": "rgb(237,237,237)",
             "ticklen": 6,
             "ticks": "inside"
            },
            "colorscale": [
             [
              0,
              "rgb(20,44,66)"
             ],
             [
              1,
              "rgb(90,179,244)"
             ]
            ],
            "type": "contour"
           }
          ],
          "contourcarpet": [
           {
            "colorbar": {
             "outlinewidth": 0,
             "tickcolor": "rgb(237,237,237)",
             "ticklen": 6,
             "ticks": "inside"
            },
            "type": "contourcarpet"
           }
          ],
          "heatmap": [
           {
            "colorbar": {
             "outlinewidth": 0,
             "tickcolor": "rgb(237,237,237)",
             "ticklen": 6,
             "ticks": "inside"
            },
            "colorscale": [
             [
              0,
              "rgb(20,44,66)"
             ],
             [
              1,
              "rgb(90,179,244)"
             ]
            ],
            "type": "heatmap"
           }
          ],
          "heatmapgl": [
           {
            "colorbar": {
             "outlinewidth": 0,
             "tickcolor": "rgb(237,237,237)",
             "ticklen": 6,
             "ticks": "inside"
            },
            "colorscale": [
             [
              0,
              "rgb(20,44,66)"
             ],
             [
              1,
              "rgb(90,179,244)"
             ]
            ],
            "type": "heatmapgl"
           }
          ],
          "histogram": [
           {
            "marker": {
             "colorbar": {
              "outlinewidth": 0,
              "tickcolor": "rgb(237,237,237)",
              "ticklen": 6,
              "ticks": "inside"
             }
            },
            "type": "histogram"
           }
          ],
          "histogram2d": [
           {
            "colorbar": {
             "outlinewidth": 0,
             "tickcolor": "rgb(237,237,237)",
             "ticklen": 6,
             "ticks": "inside"
            },
            "colorscale": [
             [
              0,
              "rgb(20,44,66)"
             ],
             [
              1,
              "rgb(90,179,244)"
             ]
            ],
            "type": "histogram2d"
           }
          ],
          "histogram2dcontour": [
           {
            "colorbar": {
             "outlinewidth": 0,
             "tickcolor": "rgb(237,237,237)",
             "ticklen": 6,
             "ticks": "inside"
            },
            "colorscale": [
             [
              0,
              "rgb(20,44,66)"
             ],
             [
              1,
              "rgb(90,179,244)"
             ]
            ],
            "type": "histogram2dcontour"
           }
          ],
          "mesh3d": [
           {
            "colorbar": {
             "outlinewidth": 0,
             "tickcolor": "rgb(237,237,237)",
             "ticklen": 6,
             "ticks": "inside"
            },
            "type": "mesh3d"
           }
          ],
          "parcoords": [
           {
            "line": {
             "colorbar": {
              "outlinewidth": 0,
              "tickcolor": "rgb(237,237,237)",
              "ticklen": 6,
              "ticks": "inside"
             }
            },
            "type": "parcoords"
           }
          ],
          "pie": [
           {
            "automargin": true,
            "type": "pie"
           }
          ],
          "scatter": [
           {
            "marker": {
             "colorbar": {
              "outlinewidth": 0,
              "tickcolor": "rgb(237,237,237)",
              "ticklen": 6,
              "ticks": "inside"
             }
            },
            "type": "scatter"
           }
          ],
          "scatter3d": [
           {
            "line": {
             "colorbar": {
              "outlinewidth": 0,
              "tickcolor": "rgb(237,237,237)",
              "ticklen": 6,
              "ticks": "inside"
             }
            },
            "marker": {
             "colorbar": {
              "outlinewidth": 0,
              "tickcolor": "rgb(237,237,237)",
              "ticklen": 6,
              "ticks": "inside"
             }
            },
            "type": "scatter3d"
           }
          ],
          "scattercarpet": [
           {
            "marker": {
             "colorbar": {
              "outlinewidth": 0,
              "tickcolor": "rgb(237,237,237)",
              "ticklen": 6,
              "ticks": "inside"
             }
            },
            "type": "scattercarpet"
           }
          ],
          "scattergeo": [
           {
            "marker": {
             "colorbar": {
              "outlinewidth": 0,
              "tickcolor": "rgb(237,237,237)",
              "ticklen": 6,
              "ticks": "inside"
             }
            },
            "type": "scattergeo"
           }
          ],
          "scattergl": [
           {
            "marker": {
             "colorbar": {
              "outlinewidth": 0,
              "tickcolor": "rgb(237,237,237)",
              "ticklen": 6,
              "ticks": "inside"
             }
            },
            "type": "scattergl"
           }
          ],
          "scattermapbox": [
           {
            "marker": {
             "colorbar": {
              "outlinewidth": 0,
              "tickcolor": "rgb(237,237,237)",
              "ticklen": 6,
              "ticks": "inside"
             }
            },
            "type": "scattermapbox"
           }
          ],
          "scatterpolar": [
           {
            "marker": {
             "colorbar": {
              "outlinewidth": 0,
              "tickcolor": "rgb(237,237,237)",
              "ticklen": 6,
              "ticks": "inside"
             }
            },
            "type": "scatterpolar"
           }
          ],
          "scatterpolargl": [
           {
            "marker": {
             "colorbar": {
              "outlinewidth": 0,
              "tickcolor": "rgb(237,237,237)",
              "ticklen": 6,
              "ticks": "inside"
             }
            },
            "type": "scatterpolargl"
           }
          ],
          "scatterternary": [
           {
            "marker": {
             "colorbar": {
              "outlinewidth": 0,
              "tickcolor": "rgb(237,237,237)",
              "ticklen": 6,
              "ticks": "inside"
             }
            },
            "type": "scatterternary"
           }
          ],
          "surface": [
           {
            "colorbar": {
             "outlinewidth": 0,
             "tickcolor": "rgb(237,237,237)",
             "ticklen": 6,
             "ticks": "inside"
            },
            "colorscale": [
             [
              0,
              "rgb(20,44,66)"
             ],
             [
              1,
              "rgb(90,179,244)"
             ]
            ],
            "type": "surface"
           }
          ],
          "table": [
           {
            "cells": {
             "fill": {
              "color": "rgb(237,237,237)"
             },
             "line": {
              "color": "white"
             }
            },
            "header": {
             "fill": {
              "color": "rgb(217,217,217)"
             },
             "line": {
              "color": "white"
             }
            },
            "type": "table"
           }
          ]
         },
         "layout": {
          "annotationdefaults": {
           "arrowhead": 0,
           "arrowwidth": 1
          },
          "coloraxis": {
           "colorbar": {
            "outlinewidth": 0,
            "tickcolor": "rgb(237,237,237)",
            "ticklen": 6,
            "ticks": "inside"
           }
          },
          "colorscale": {
           "sequential": [
            [
             0,
             "rgb(20,44,66)"
            ],
            [
             1,
             "rgb(90,179,244)"
            ]
           ],
           "sequentialminus": [
            [
             0,
             "rgb(20,44,66)"
            ],
            [
             1,
             "rgb(90,179,244)"
            ]
           ]
          },
          "colorway": [
           "#F8766D",
           "#A3A500",
           "#00BF7D",
           "#00B0F6",
           "#E76BF3"
          ],
          "font": {
           "color": "rgb(51,51,51)"
          },
          "geo": {
           "bgcolor": "white",
           "lakecolor": "white",
           "landcolor": "rgb(237,237,237)",
           "showlakes": true,
           "showland": true,
           "subunitcolor": "white"
          },
          "hoverlabel": {
           "align": "left"
          },
          "hovermode": "closest",
          "paper_bgcolor": "white",
          "plot_bgcolor": "rgb(237,237,237)",
          "polar": {
           "angularaxis": {
            "gridcolor": "white",
            "linecolor": "white",
            "showgrid": true,
            "tickcolor": "rgb(51,51,51)",
            "ticks": "outside"
           },
           "bgcolor": "rgb(237,237,237)",
           "radialaxis": {
            "gridcolor": "white",
            "linecolor": "white",
            "showgrid": true,
            "tickcolor": "rgb(51,51,51)",
            "ticks": "outside"
           }
          },
          "scene": {
           "xaxis": {
            "backgroundcolor": "rgb(237,237,237)",
            "gridcolor": "white",
            "gridwidth": 2,
            "linecolor": "white",
            "showbackground": true,
            "showgrid": true,
            "tickcolor": "rgb(51,51,51)",
            "ticks": "outside",
            "zerolinecolor": "white"
           },
           "yaxis": {
            "backgroundcolor": "rgb(237,237,237)",
            "gridcolor": "white",
            "gridwidth": 2,
            "linecolor": "white",
            "showbackground": true,
            "showgrid": true,
            "tickcolor": "rgb(51,51,51)",
            "ticks": "outside",
            "zerolinecolor": "white"
           },
           "zaxis": {
            "backgroundcolor": "rgb(237,237,237)",
            "gridcolor": "white",
            "gridwidth": 2,
            "linecolor": "white",
            "showbackground": true,
            "showgrid": true,
            "tickcolor": "rgb(51,51,51)",
            "ticks": "outside",
            "zerolinecolor": "white"
           }
          },
          "shapedefaults": {
           "fillcolor": "black",
           "line": {
            "width": 0
           },
           "opacity": 0.3
          },
          "ternary": {
           "aaxis": {
            "gridcolor": "white",
            "linecolor": "white",
            "showgrid": true,
            "tickcolor": "rgb(51,51,51)",
            "ticks": "outside"
           },
           "baxis": {
            "gridcolor": "white",
            "linecolor": "white",
            "showgrid": true,
            "tickcolor": "rgb(51,51,51)",
            "ticks": "outside"
           },
           "bgcolor": "rgb(237,237,237)",
           "caxis": {
            "gridcolor": "white",
            "linecolor": "white",
            "showgrid": true,
            "tickcolor": "rgb(51,51,51)",
            "ticks": "outside"
           }
          },
          "xaxis": {
           "automargin": true,
           "gridcolor": "white",
           "linecolor": "white",
           "showgrid": true,
           "tickcolor": "rgb(51,51,51)",
           "ticks": "outside",
           "title": {
            "standoff": 15
           },
           "zerolinecolor": "white"
          },
          "yaxis": {
           "automargin": true,
           "gridcolor": "white",
           "linecolor": "white",
           "showgrid": true,
           "tickcolor": "rgb(51,51,51)",
           "ticks": "outside",
           "title": {
            "standoff": 15
           },
           "zerolinecolor": "white"
          }
         }
        },
        "width": 1000,
        "xaxis": {
         "anchor": "y",
         "autorange": true,
         "domain": [
          0,
          0.475
         ],
         "fixedrange": true,
         "range": [
          -5.79737718290099,
          5.797377182900991
         ],
         "title": {
          "standoff": 5,
          "text": "1st Principal Comopnent"
         },
         "type": "linear"
        },
        "xaxis2": {
         "anchor": "y2",
         "autorange": true,
         "domain": [
          0.525,
          1
         ],
         "fixedrange": true,
         "range": [
          -5.79737718290099,
          5.797377182900991
         ],
         "title": {
          "standoff": 5,
          "text": "1st Principal Comopnent"
         },
         "type": "linear"
        },
        "yaxis": {
         "anchor": "x",
         "autorange": true,
         "domain": [
          0,
          1
         ],
         "fixedrange": true,
         "range": [
          -1.280938010771402,
          1.280938010771405
         ],
         "title": {
          "standoff": 0,
          "text": "2nd Principal Comopnent"
         },
         "type": "linear"
        },
        "yaxis2": {
         "anchor": "x2",
         "autorange": true,
         "domain": [
          0,
          1
         ],
         "fixedrange": true,
         "range": [
          -1,
          1
         ],
         "type": "linear",
         "visible": false
        }
       }
      },
      "image/png": "[encoded data removed]",
      "text/html": [
       "<div>\n",
       "        \n",
       "        \n",
       "            <div id=\"0ba2da02-ccd4-4d4c-82c4-6a18033a71e5\" class=\"plotly-graph-div\" style=\"height:400px; width:1000px;\"></div>\n",
       "            <script type=\"text/javascript\">\n",
       "                require([\"plotly\"], function(Plotly) {\n",
       "                    window.PLOTLYENV=window.PLOTLYENV || {};\n",
       "                    \n",
       "                if (document.getElementById(\"0ba2da02-ccd4-4d4c-82c4-6a18033a71e5\")) {\n",
       "                    Plotly.newPlot(\n",
       "                        '0ba2da02-ccd4-4d4c-82c4-6a18033a71e5',\n",
       "                        [{\"marker\": {\"color\": [0, 1, 2, 3, 4, 5, 6, 7, 8, 9, 10, 11, 12, 13, 14, 15, 16, 17, 18, 19, 20, 21, 22, 23, 24, 25, 26, 27, 28, 29, 30, 31, 32, 33, 34, 35, 36, 37, 38, 39, 40, 41, 42, 43, 44, 45, 46, 47, 48, 49], \"colorscale\": [[0.0, \"#440154\"], [0.1111111111111111, \"#482878\"], [0.2222222222222222, \"#3e4989\"], [0.3333333333333333, \"#31688e\"], [0.4444444444444444, \"#26828e\"], [0.5555555555555556, \"#1f9e89\"], [0.6666666666666666, \"#35b779\"], [0.7777777777777778, \"#6ece58\"], [0.8888888888888888, \"#b5de2b\"], [1.0, \"#fde725\"]], \"size\": 10}, \"mode\": \"markers\", \"type\": \"scatter\", \"x\": [-5.053945733446983, -4.852918644998946, -4.64905812159961, -4.442374885728394, -4.2329968164270095, -4.021163641685187, -3.807216988540574, -3.591586203862923, -3.374770534330336, -3.1573184052169254, -2.9398046580248987, -2.722806691712225, -2.5068804977731936, -2.2925375838348643, -2.0802237435545416, -1.8703005539728055, -1.6630303682736711, -1.4585654268267285, -1.256941538457021, -1.0580765942012635, -0.8617739752369102, -0.6677307135381044, -0.47555006655082815, -0.28475798397590407, -0.09482278320669572, 0.09482278320669381, 0.2847579839759026, 0.4755500665508276, 0.6677307135381032, 0.8617739752369095, 1.0580765942012624, 1.256941538457021, 1.458565426826729, 1.6630303682736716, 1.8703005539728055, 2.0802237435545425, 2.292537583834865, 2.5068804977731944, 2.722806691712227, 2.939804658024901, 3.157318405216926, 3.3747705343303367, 3.5915862038629225, 3.8072169885405756, 4.021163641685189, 4.23299681642701, 4.442374885728396, 4.649058121599608, 4.852918644998947, 5.053945733446984], \"xaxis\": \"x\", \"y\": [0.6141402835763761, 0.6656220133201507, 0.6758406624644437, 0.644952381596987, 0.5748194627045115, 0.46893304482226844, 0.3322682144553924, 0.17107751482302203, -0.007368565684699071, -0.19508335482106948, -0.3836954829780901, -0.5647963365294991, -0.7302890569852178, -0.8727246007620006, -0.9856109114236529, -1.063682372210016, -1.10311835523885, -1.1017017965051836, -1.0589112150294764, -0.9759423569037123, -0.8556585659002067, -0.7024719405089258, -0.5221602099754581, -0.32162692989200553, -0.1086149504132465, 0.10861495041325035, 0.32162692989200903, 0.5221602099754629, 0.7024719405089291, 0.8556585659002107, 0.975942356903716, 1.0589112150294797, 1.101701796505187, 1.103118355238853, 1.0636823722100193, 0.9856109114236552, 0.8727246007620031, 0.7302890569852204, 0.5647963365295006, 0.38369548297809225, 0.19508335482107145, 0.0073685656847016605, -0.17107751482301903, -0.3322682144553899, -0.4689330448222662, -0.5748194627045089, -0.6449523815969838, -0.6758406624644409, -0.6656220133201473, -0.6141402835763731], \"yaxis\": \"y\"}, {\"marker\": {\"color\": [0, 1, 2, 3, 4, 5, 6, 7, 8, 9, 10, 11, 12, 13, 14, 15, 16, 17, 18, 19, 20, 21, 22, 23, 24, 25, 26, 27, 28, 29, 30, 31, 32, 33, 34, 35, 36, 37, 38, 39, 40, 41, 42, 43, 44, 45, 46, 47, 48, 49], \"colorscale\": [[0.0, \"#440154\"], [0.1111111111111111, \"#482878\"], [0.2222222222222222, \"#3e4989\"], [0.3333333333333333, \"#31688e\"], [0.4444444444444444, \"#26828e\"], [0.5555555555555556, \"#1f9e89\"], [0.6666666666666666, \"#35b779\"], [0.7777777777777778, \"#6ece58\"], [0.8888888888888888, \"#b5de2b\"], [1.0, \"#fde725\"]], \"size\": 10}, \"mode\": \"markers\", \"type\": \"scatter\", \"x\": [-5.053945733446983, -4.852918644998946, -4.64905812159961, -4.442374885728394, -4.2329968164270095, -4.021163641685187, -3.807216988540574, -3.591586203862923, -3.374770534330336, -3.1573184052169254, -2.9398046580248987, -2.722806691712225, -2.5068804977731936, -2.2925375838348643, -2.0802237435545416, -1.8703005539728055, -1.6630303682736711, -1.4585654268267285, -1.256941538457021, -1.0580765942012635, -0.8617739752369102, -0.6677307135381044, -0.47555006655082815, -0.28475798397590407, -0.09482278320669572, 0.09482278320669381, 0.2847579839759026, 0.4755500665508276, 0.6677307135381032, 0.8617739752369095, 1.0580765942012624, 1.256941538457021, 1.458565426826729, 1.6630303682736716, 1.8703005539728055, 2.0802237435545425, 2.292537583834865, 2.5068804977731944, 2.722806691712227, 2.939804658024901, 3.157318405216926, 3.3747705343303367, 3.5915862038629225, 3.8072169885405756, 4.021163641685189, 4.23299681642701, 4.442374885728396, 4.649058121599608, 4.852918644998947, 5.053945733446984], \"xaxis\": \"x2\", \"y\": [0, 0, 0, 0, 0, 0, 0, 0, 0, 0, 0, 0, 0, 0, 0, 0, 0, 0, 0, 0, 0, 0, 0, 0, 0, 0, 0, 0, 0, 0, 0, 0, 0, 0, 0, 0, 0, 0, 0, 0, 0, 0, 0, 0, 0, 0, 0, 0, 0, 0], \"yaxis\": \"y2\"}],\n",
       "                        {\"annotations\": [{\"font\": {\"size\": 16}, \"showarrow\": false, \"text\": \"X reduced to 2D\", \"x\": 0.2375, \"xanchor\": \"center\", \"xref\": \"paper\", \"y\": 1.0, \"yanchor\": \"bottom\", \"yref\": \"paper\"}, {\"font\": {\"size\": 16}, \"showarrow\": false, \"text\": \"X reduced to 1D\", \"x\": 0.7625, \"xanchor\": \"center\", \"xref\": \"paper\", \"y\": 1.0, \"yanchor\": \"bottom\", \"yref\": \"paper\"}], \"autosize\": false, \"height\": 400, \"margin\": {\"b\": 10, \"l\": 10, \"r\": 10, \"t\": 30}, \"showlegend\": false, \"template\": {\"data\": {\"bar\": [{\"error_x\": {\"color\": \"rgb(51,51,51)\"}, \"error_y\": {\"color\": \"rgb(51,51,51)\"}, \"marker\": {\"line\": {\"color\": \"rgb(237,237,237)\", \"width\": 0.5}}, \"type\": \"bar\"}], \"barpolar\": [{\"marker\": {\"line\": {\"color\": \"rgb(237,237,237)\", \"width\": 0.5}}, \"type\": \"barpolar\"}], \"carpet\": [{\"aaxis\": {\"endlinecolor\": \"rgb(51,51,51)\", \"gridcolor\": \"white\", \"linecolor\": \"white\", \"minorgridcolor\": \"white\", \"startlinecolor\": \"rgb(51,51,51)\"}, \"baxis\": {\"endlinecolor\": \"rgb(51,51,51)\", \"gridcolor\": \"white\", \"linecolor\": \"white\", \"minorgridcolor\": \"white\", \"startlinecolor\": \"rgb(51,51,51)\"}, \"type\": \"carpet\"}], \"choropleth\": [{\"colorbar\": {\"outlinewidth\": 0, \"tickcolor\": \"rgb(237,237,237)\", \"ticklen\": 6, \"ticks\": \"inside\"}, \"type\": \"choropleth\"}], \"contour\": [{\"colorbar\": {\"outlinewidth\": 0, \"tickcolor\": \"rgb(237,237,237)\", \"ticklen\": 6, \"ticks\": \"inside\"}, \"colorscale\": [[0, \"rgb(20,44,66)\"], [1, \"rgb(90,179,244)\"]], \"type\": \"contour\"}], \"contourcarpet\": [{\"colorbar\": {\"outlinewidth\": 0, \"tickcolor\": \"rgb(237,237,237)\", \"ticklen\": 6, \"ticks\": \"inside\"}, \"type\": \"contourcarpet\"}], \"heatmap\": [{\"colorbar\": {\"outlinewidth\": 0, \"tickcolor\": \"rgb(237,237,237)\", \"ticklen\": 6, \"ticks\": \"inside\"}, \"colorscale\": [[0, \"rgb(20,44,66)\"], [1, \"rgb(90,179,244)\"]], \"type\": \"heatmap\"}], \"heatmapgl\": [{\"colorbar\": {\"outlinewidth\": 0, \"tickcolor\": \"rgb(237,237,237)\", \"ticklen\": 6, \"ticks\": \"inside\"}, \"colorscale\": [[0, \"rgb(20,44,66)\"], [1, \"rgb(90,179,244)\"]], \"type\": \"heatmapgl\"}], \"histogram\": [{\"marker\": {\"colorbar\": {\"outlinewidth\": 0, \"tickcolor\": \"rgb(237,237,237)\", \"ticklen\": 6, \"ticks\": \"inside\"}}, \"type\": \"histogram\"}], \"histogram2d\": [{\"colorbar\": {\"outlinewidth\": 0, \"tickcolor\": \"rgb(237,237,237)\", \"ticklen\": 6, \"ticks\": \"inside\"}, \"colorscale\": [[0, \"rgb(20,44,66)\"], [1, \"rgb(90,179,244)\"]], \"type\": \"histogram2d\"}], \"histogram2dcontour\": [{\"colorbar\": {\"outlinewidth\": 0, \"tickcolor\": \"rgb(237,237,237)\", \"ticklen\": 6, \"ticks\": \"inside\"}, \"colorscale\": [[0, \"rgb(20,44,66)\"], [1, \"rgb(90,179,244)\"]], \"type\": \"histogram2dcontour\"}], \"mesh3d\": [{\"colorbar\": {\"outlinewidth\": 0, \"tickcolor\": \"rgb(237,237,237)\", \"ticklen\": 6, \"ticks\": \"inside\"}, \"type\": \"mesh3d\"}], \"parcoords\": [{\"line\": {\"colorbar\": {\"outlinewidth\": 0, \"tickcolor\": \"rgb(237,237,237)\", \"ticklen\": 6, \"ticks\": \"inside\"}}, \"type\": \"parcoords\"}], \"pie\": [{\"automargin\": true, \"type\": \"pie\"}], \"scatter\": [{\"marker\": {\"colorbar\": {\"outlinewidth\": 0, \"tickcolor\": \"rgb(237,237,237)\", \"ticklen\": 6, \"ticks\": \"inside\"}}, \"type\": \"scatter\"}], \"scatter3d\": [{\"line\": {\"colorbar\": {\"outlinewidth\": 0, \"tickcolor\": \"rgb(237,237,237)\", \"ticklen\": 6, \"ticks\": \"inside\"}}, \"marker\": {\"colorbar\": {\"outlinewidth\": 0, \"tickcolor\": \"rgb(237,237,237)\", \"ticklen\": 6, \"ticks\": \"inside\"}}, \"type\": \"scatter3d\"}], \"scattercarpet\": [{\"marker\": {\"colorbar\": {\"outlinewidth\": 0, \"tickcolor\": \"rgb(237,237,237)\", \"ticklen\": 6, \"ticks\": \"inside\"}}, \"type\": \"scattercarpet\"}], \"scattergeo\": [{\"marker\": {\"colorbar\": {\"outlinewidth\": 0, \"tickcolor\": \"rgb(237,237,237)\", \"ticklen\": 6, \"ticks\": \"inside\"}}, \"type\": \"scattergeo\"}], \"scattergl\": [{\"marker\": {\"colorbar\": {\"outlinewidth\": 0, \"tickcolor\": \"rgb(237,237,237)\", \"ticklen\": 6, \"ticks\": \"inside\"}}, \"type\": \"scattergl\"}], \"scattermapbox\": [{\"marker\": {\"colorbar\": {\"outlinewidth\": 0, \"tickcolor\": \"rgb(237,237,237)\", \"ticklen\": 6, \"ticks\": \"inside\"}}, \"type\": \"scattermapbox\"}], \"scatterpolar\": [{\"marker\": {\"colorbar\": {\"outlinewidth\": 0, \"tickcolor\": \"rgb(237,237,237)\", \"ticklen\": 6, \"ticks\": \"inside\"}}, \"type\": \"scatterpolar\"}], \"scatterpolargl\": [{\"marker\": {\"colorbar\": {\"outlinewidth\": 0, \"tickcolor\": \"rgb(237,237,237)\", \"ticklen\": 6, \"ticks\": \"inside\"}}, \"type\": \"scatterpolargl\"}], \"scatterternary\": [{\"marker\": {\"colorbar\": {\"outlinewidth\": 0, \"tickcolor\": \"rgb(237,237,237)\", \"ticklen\": 6, \"ticks\": \"inside\"}}, \"type\": \"scatterternary\"}], \"surface\": [{\"colorbar\": {\"outlinewidth\": 0, \"tickcolor\": \"rgb(237,237,237)\", \"ticklen\": 6, \"ticks\": \"inside\"}, \"colorscale\": [[0, \"rgb(20,44,66)\"], [1, \"rgb(90,179,244)\"]], \"type\": \"surface\"}], \"table\": [{\"cells\": {\"fill\": {\"color\": \"rgb(237,237,237)\"}, \"line\": {\"color\": \"white\"}}, \"header\": {\"fill\": {\"color\": \"rgb(217,217,217)\"}, \"line\": {\"color\": \"white\"}}, \"type\": \"table\"}]}, \"layout\": {\"annotationdefaults\": {\"arrowhead\": 0, \"arrowwidth\": 1}, \"coloraxis\": {\"colorbar\": {\"outlinewidth\": 0, \"tickcolor\": \"rgb(237,237,237)\", \"ticklen\": 6, \"ticks\": \"inside\"}}, \"colorscale\": {\"sequential\": [[0, \"rgb(20,44,66)\"], [1, \"rgb(90,179,244)\"]], \"sequentialminus\": [[0, \"rgb(20,44,66)\"], [1, \"rgb(90,179,244)\"]]}, \"colorway\": [\"#F8766D\", \"#A3A500\", \"#00BF7D\", \"#00B0F6\", \"#E76BF3\"], \"font\": {\"color\": \"rgb(51,51,51)\"}, \"geo\": {\"bgcolor\": \"white\", \"lakecolor\": \"white\", \"landcolor\": \"rgb(237,237,237)\", \"showlakes\": true, \"showland\": true, \"subunitcolor\": \"white\"}, \"hoverlabel\": {\"align\": \"left\"}, \"hovermode\": \"closest\", \"paper_bgcolor\": \"white\", \"plot_bgcolor\": \"rgb(237,237,237)\", \"polar\": {\"angularaxis\": {\"gridcolor\": \"white\", \"linecolor\": \"white\", \"showgrid\": true, \"tickcolor\": \"rgb(51,51,51)\", \"ticks\": \"outside\"}, \"bgcolor\": \"rgb(237,237,237)\", \"radialaxis\": {\"gridcolor\": \"white\", \"linecolor\": \"white\", \"showgrid\": true, \"tickcolor\": \"rgb(51,51,51)\", \"ticks\": \"outside\"}}, \"scene\": {\"xaxis\": {\"backgroundcolor\": \"rgb(237,237,237)\", \"gridcolor\": \"white\", \"gridwidth\": 2, \"linecolor\": \"white\", \"showbackground\": true, \"showgrid\": true, \"tickcolor\": \"rgb(51,51,51)\", \"ticks\": \"outside\", \"zerolinecolor\": \"white\"}, \"yaxis\": {\"backgroundcolor\": \"rgb(237,237,237)\", \"gridcolor\": \"white\", \"gridwidth\": 2, \"linecolor\": \"white\", \"showbackground\": true, \"showgrid\": true, \"tickcolor\": \"rgb(51,51,51)\", \"ticks\": \"outside\", \"zerolinecolor\": \"white\"}, \"zaxis\": {\"backgroundcolor\": \"rgb(237,237,237)\", \"gridcolor\": \"white\", \"gridwidth\": 2, \"linecolor\": \"white\", \"showbackground\": true, \"showgrid\": true, \"tickcolor\": \"rgb(51,51,51)\", \"ticks\": \"outside\", \"zerolinecolor\": \"white\"}}, \"shapedefaults\": {\"fillcolor\": \"black\", \"line\": {\"width\": 0}, \"opacity\": 0.3}, \"ternary\": {\"aaxis\": {\"gridcolor\": \"white\", \"linecolor\": \"white\", \"showgrid\": true, \"tickcolor\": \"rgb(51,51,51)\", \"ticks\": \"outside\"}, \"baxis\": {\"gridcolor\": \"white\", \"linecolor\": \"white\", \"showgrid\": true, \"tickcolor\": \"rgb(51,51,51)\", \"ticks\": \"outside\"}, \"bgcolor\": \"rgb(237,237,237)\", \"caxis\": {\"gridcolor\": \"white\", \"linecolor\": \"white\", \"showgrid\": true, \"tickcolor\": \"rgb(51,51,51)\", \"ticks\": \"outside\"}}, \"xaxis\": {\"automargin\": true, \"gridcolor\": \"white\", \"linecolor\": \"white\", \"showgrid\": true, \"tickcolor\": \"rgb(51,51,51)\", \"ticks\": \"outside\", \"title\": {\"standoff\": 15}, \"zerolinecolor\": \"white\"}, \"yaxis\": {\"automargin\": true, \"gridcolor\": \"white\", \"linecolor\": \"white\", \"showgrid\": true, \"tickcolor\": \"rgb(51,51,51)\", \"ticks\": \"outside\", \"title\": {\"standoff\": 15}, \"zerolinecolor\": \"white\"}}}, \"width\": 1000, \"xaxis\": {\"anchor\": \"y\", \"domain\": [0.0, 0.475], \"fixedrange\": true, \"title\": {\"standoff\": 5, \"text\": \"1st Principal Comopnent\"}}, \"xaxis2\": {\"anchor\": \"y2\", \"domain\": [0.525, 1.0], \"fixedrange\": true, \"title\": {\"standoff\": 5, \"text\": \"1st Principal Comopnent\"}}, \"yaxis\": {\"anchor\": \"x\", \"domain\": [0.0, 1.0], \"fixedrange\": true, \"title\": {\"standoff\": 0, \"text\": \"2nd Principal Comopnent\"}}, \"yaxis2\": {\"anchor\": \"x2\", \"domain\": [0.0, 1.0], \"fixedrange\": true, \"visible\": false}},\n",
       "                        {\"displayModeBar\": false, \"scrollZoom\": false, \"responsive\": true}\n",
       "                    ).then(function(){\n",
       "                            \n",
       "var gd = document.getElementById('0ba2da02-ccd4-4d4c-82c4-6a18033a71e5');\n",
       "var x = new MutationObserver(function (mutations, observer) {{\n",
       "        var display = window.getComputedStyle(gd).display;\n",
       "        if (!display || display === 'none') {{\n",
       "            console.log([gd, 'removed!']);\n",
       "            Plotly.purge(gd);\n",
       "            observer.disconnect();\n",
       "        }}\n",
       "}});\n",
       "\n",
       "// Listen for the removal of the full notebook cells\n",
       "var notebookContainer = gd.closest('#notebook-container');\n",
       "if (notebookContainer) {{\n",
       "    x.observe(notebookContainer, {childList: true});\n",
       "}}\n",
       "\n",
       "// Listen for the clearing of the current output cell\n",
       "var outputEl = gd.closest('.output');\n",
       "if (outputEl) {{\n",
       "    x.observe(outputEl, {childList: true});\n",
       "}}\n",
       "\n",
       "                        })\n",
       "                };\n",
       "                });\n",
       "            </script>\n",
       "        </div>"
      ]
     },
     "metadata": {},
     "output_type": "display_data"
    }
   ],
   "source": [
    "#@title (plot dimensionality reduced helix shape) { display-mode: \"form\" }\n",
    "trace1 = go.Scatter(\n",
    "    x=X_reduced_2d[:, 0], y=X_reduced_2d[:, 1], mode='markers', \n",
    "    marker=dict(size=10, color=row_index, colorscale='Viridis',)\n",
    ")\n",
    "trace2 = go.Scatter(\n",
    "    x=X_reduced_1d[:, 0], y=[0] * X_reduced_1d.shape[0], mode='markers', \n",
    "    marker=dict(size=10, color=row_index, colorscale='Viridis',)\n",
    ")\n",
    "\n",
    "layout = {\n",
    "    \"height\": 400, \"width\": 1000, 'autosize': False,\n",
    "    \"margin\": dict(l=10, r=10, b=10, t=30), \n",
    "    \"template\": \"ggplot2\", \"showlegend\": False, \n",
    "    \"xaxis\": {\"fixedrange\": True, \"title\": {\"text\": \"1st Principal Comopnent\", \"standoff\": 5}}, \n",
    "    \"yaxis\": {\"fixedrange\": True, \"title\": {\"text\": \"2nd Principal Comopnent\", \"standoff\": 0}}, \n",
    "    \"xaxis2\": {\"fixedrange\": True,\"title\": {\"text\": \"1st Principal Comopnent\", \"standoff\": 5}}, \n",
    "    \"yaxis2\": {\"fixedrange\": True, \"visible\": False}, \n",
    "}\n",
    "\n",
    "fig = make_subplots(\n",
    "    rows=1, cols=2,  horizontal_spacing=0.05,\n",
    "    subplot_titles=(\"X reduced to 2D\", \"X reduced to 1D\")\n",
    ")\n",
    "fig.add_trace(trace1, row=1, col=1)\n",
    "fig.add_trace(trace2, row=1, col=2)\n",
    "fig.update_layout(layout)\n",
    "fig.show(config={'displayModeBar': False, 'scrollZoom': False})\n",
    "\n",
    "# Q: what is the information kept here? "
   ]
  },
  {
   "cell_type": "code",
   "execution_count": null,
   "metadata": {},
   "outputs": [],
   "source": []
  },
  {
   "cell_type": "code",
   "execution_count": null,
   "metadata": {},
   "outputs": [],
   "source": []
  },
  {
   "cell_type": "markdown",
   "metadata": {},
   "source": [
    "## PCA with `numpy`\n",
    "\n",
    "1. **Center the data, so each feature having `mean = 0`**\n",
    "  + optionally, scaling the data so each feature having `standard deviation = 1`\n",
    "2. **Compute the covariance matrix on each feature**\n",
    "  + get the variance within a feature\n",
    "  + get the co-variance between two features\n",
    "  + optionally, using correlation matrix\n",
    "3. **Compute egenvalues and eigenvectors on the covariance matrix**\n",
    "  + get eigenvalues, as the importance of each component\n",
    "  + get eigenvectors, as the components\n",
    "4. **Sort eigenvectors by eigenvalues (from largest to smallest)**\n",
    "  + get ordered eigenvectors, the first vector is the _first Principal Component_\n",
    "5. **Transform the original data**\n",
    "  + slice the eigenvectors by number of principal components to use\n",
    "  + construc reduced data by dot product between data and sliced eigenvectors"
   ]
  },
  {
   "cell_type": "code",
   "execution_count": 38,
   "metadata": {},
   "outputs": [],
   "source": [
    "def numpy_pca(X, n_components, scaled=False):\n",
    "    \n",
    "    \"\"\"\n",
    "    Return dimensions reduced data by specified dimension\n",
    "    \n",
    "    INPUTS: \n",
    "        X - 2D numpy array of shape (m, n)\n",
    "        n_components - int of number of dimensions to reduce\n",
    "                       to, must <= n\n",
    "    OUTPUTS: \n",
    "        eigen_vals - 1D numpy array of length n, sorted\n",
    "                     from largest to smallest\n",
    "        eigen_vecs - 2D numpy array of shape (n, n), sorted\n",
    "                     by eigen_vals from largest to smallest\n",
    "        reduced_X - 2D numpy array of shape (m, n_components), \n",
    "                    i.e. the dimensinality reduced X \n",
    "    \"\"\"\n",
    "    \n",
    "    assert X.shape[1] >= n_components, \\\n",
    "        \"n_components must be smaller or equal to number of dimensions in X\"\n",
    "    \n",
    "    # 1. Center the data, so each feature having mean = 0\n",
    "    data = X - np.mean(X, axis=0)\n",
    "    \n",
    "    if scaled: \n",
    "        data = data / np.std(data, axis=0)\n",
    "    \n",
    "    # 2. Compute the covariance matrix on each feature\n",
    "    covariance_matrix = np.cov(data, rowvar=False)\n",
    "    \n",
    "    # 3. Compute egenvalues and eigenvectors on the covariance matrix\n",
    "    eigen_vals, eigen_vecs = np.linalg.eigh(covariance_matrix)\n",
    "    \n",
    "    # 4. Sort eigenvectors by eigenvalues (from largest to smallest)\n",
    "    idx = np.argsort(eigen_vals)[::-1] # sort eigen values from largest to smallest\n",
    "    eigen_vecs = eigen_vecs[:,idx] # order by sorted index\n",
    "    eigen_vals = eigen_vals[idx]\n",
    "    \n",
    "    reduced_vecs = eigen_vecs[:, :n_components]\n",
    "    \n",
    "    # 5.Transform the original data\n",
    "    reduced_X = np.dot(data, reduced_vecs)\n",
    "    \n",
    "    return eigen_vals, eigen_vecs, reduced_X"
   ]
  },
  {
   "cell_type": "code",
   "execution_count": 39,
   "metadata": {},
   "outputs": [],
   "source": [
    "# test the function \n",
    "_, _, np_X_reduced_2d = numpy_pca(X, 2, scaled=False)\n",
    "_, _, np_X_reduced_1d = numpy_pca(X, 1, scaled=False)"
   ]
  },
  {
   "cell_type": "code",
   "execution_count": 40,
   "metadata": {},
   "outputs": [
    {
     "data": {
      "application/vnd.plotly.v1+json": {
       "config": {
        "displayModeBar": false,
        "plotlyServerURL": "https://plot.ly",
        "scrollZoom": false
       },
       "data": [
        {
         "marker": {
          "color": [
           0,
           1,
           2,
           3,
           4,
           5,
           6,
           7,
           8,
           9,
           10,
           11,
           12,
           13,
           14,
           15,
           16,
           17,
           18,
           19,
           20,
           21,
           22,
           23,
           24,
           25,
           26,
           27,
           28,
           29,
           30,
           31,
           32,
           33,
           34,
           35,
           36,
           37,
           38,
           39,
           40,
           41,
           42,
           43,
           44,
           45,
           46,
           47,
           48,
           49
          ],
          "colorscale": [
           [
            0,
            "#440154"
           ],
           [
            0.1111111111111111,
            "#482878"
           ],
           [
            0.2222222222222222,
            "#3e4989"
           ],
           [
            0.3333333333333333,
            "#31688e"
           ],
           [
            0.4444444444444444,
            "#26828e"
           ],
           [
            0.5555555555555556,
            "#1f9e89"
           ],
           [
            0.6666666666666666,
            "#35b779"
           ],
           [
            0.7777777777777778,
            "#6ece58"
           ],
           [
            0.8888888888888888,
            "#b5de2b"
           ],
           [
            1,
            "#fde725"
           ]
          ],
          "size": 10
         },
         "mode": "markers",
         "type": "scatter",
         "x": [
          -5.053945733446981,
          -4.852918644998945,
          -4.649058121599605,
          -4.442374885728391,
          -4.232996816427007,
          -4.0211636416851855,
          -3.807216988540573,
          -3.5915862038629203,
          -3.374770534330334,
          -3.157318405216923,
          -2.9398046580248973,
          -2.7228066917122233,
          -2.506880497773192,
          -2.2925375838348625,
          -2.0802237435545394,
          -1.8703005539728037,
          -1.6630303682736691,
          -1.4585654268267272,
          -1.2569415384570188,
          -1.058076594201261,
          -0.8617739752369088,
          -0.667730713538103,
          -0.4755500665508266,
          -0.28475798397590285,
          -0.09482278320669461,
          0.09482278320669482,
          0.2847579839759031,
          0.4755500665508276,
          0.6677307135381032,
          0.8617739752369088,
          1.058076594201262,
          1.2569415384570193,
          1.458565426826727,
          1.663030368273669,
          1.8703005539728035,
          2.0802237435545394,
          2.2925375838348625,
          2.5068804977731918,
          2.722806691712224,
          2.9398046580248973,
          3.1573184052169228,
          3.3747705343303336,
          3.59158620386292,
          3.807216988540572,
          4.0211636416851855,
          4.232996816427008,
          4.442374885728392,
          4.649058121599605,
          4.852918644998945,
          5.05394573344698
         ],
         "xaxis": "x",
         "y": [
          -0.6141402835763756,
          -0.6656220133201498,
          -0.6758406624644436,
          -0.6449523815969871,
          -0.574819462704512,
          -0.4689330448222692,
          -0.3322682144553933,
          -0.17107751482302316,
          0.007368565684697878,
          0.1950833548210682,
          0.38369548297808903,
          0.5647963365294982,
          0.7302890569852172,
          0.872724600762,
          0.9856109114236524,
          1.063682372210016,
          1.1031183552388502,
          1.1017017965051845,
          1.0589112150294775,
          0.9759423569037136,
          0.8556585659002085,
          0.7024719405089278,
          0.5221602099754601,
          0.3216269298920076,
          0.1086149504132486,
          -0.10861495041324835,
          -0.32162692989200714,
          -0.522160209975461,
          -0.7024719405089278,
          -0.8556585659002097,
          -0.9759423569037152,
          -1.0589112150294793,
          -1.101701796505187,
          -1.1031183552388533,
          -1.0636823722100197,
          -0.9856109114236562,
          -0.8727246007620043,
          -0.730289056985222,
          -0.5647963365295022,
          -0.3836954829780939,
          -0.1950833548210731,
          -0.007368565684703235,
          0.1710775148230176,
          0.3322682144553885,
          0.46893304482226517,
          0.5748194627045082,
          0.6449523815969835,
          0.6758406624644407,
          0.6656220133201476,
          0.6141402835763738
         ],
         "yaxis": "y"
        },
        {
         "marker": {
          "color": [
           0,
           1,
           2,
           3,
           4,
           5,
           6,
           7,
           8,
           9,
           10,
           11,
           12,
           13,
           14,
           15,
           16,
           17,
           18,
           19,
           20,
           21,
           22,
           23,
           24,
           25,
           26,
           27,
           28,
           29,
           30,
           31,
           32,
           33,
           34,
           35,
           36,
           37,
           38,
           39,
           40,
           41,
           42,
           43,
           44,
           45,
           46,
           47,
           48,
           49
          ],
          "colorscale": [
           [
            0,
            "#440154"
           ],
           [
            0.1111111111111111,
            "#482878"
           ],
           [
            0.2222222222222222,
            "#3e4989"
           ],
           [
            0.3333333333333333,
            "#31688e"
           ],
           [
            0.4444444444444444,
            "#26828e"
           ],
           [
            0.5555555555555556,
            "#1f9e89"
           ],
           [
            0.6666666666666666,
            "#35b779"
           ],
           [
            0.7777777777777778,
            "#6ece58"
           ],
           [
            0.8888888888888888,
            "#b5de2b"
           ],
           [
            1,
            "#fde725"
           ]
          ],
          "size": 10
         },
         "mode": "markers",
         "type": "scatter",
         "x": [
          -5.05394573344698,
          -4.852918644998945,
          -4.649058121599605,
          -4.442374885728391,
          -4.232996816427008,
          -4.0211636416851855,
          -3.8072169885405724,
          -3.5915862038629203,
          -3.374770534330334,
          -3.157318405216923,
          -2.939804658024897,
          -2.7228066917122233,
          -2.5068804977731927,
          -2.292537583834863,
          -2.0802237435545394,
          -1.870300553972804,
          -1.6630303682736693,
          -1.4585654268267272,
          -1.2569415384570188,
          -1.058076594201261,
          -0.8617739752369088,
          -0.667730713538103,
          -0.4755500665508266,
          -0.28475798397590285,
          -0.09482278320669461,
          0.09482278320669482,
          0.2847579839759031,
          0.4755500665508276,
          0.6677307135381032,
          0.8617739752369089,
          1.058076594201262,
          1.256941538457019,
          1.458565426826727,
          1.6630303682736691,
          1.8703005539728035,
          2.08022374355454,
          2.2925375838348625,
          2.506880497773192,
          2.722806691712224,
          2.939804658024897,
          3.1573184052169228,
          3.3747705343303336,
          3.59158620386292,
          3.8072169885405716,
          4.0211636416851855,
          4.232996816427008,
          4.442374885728392,
          4.649058121599604,
          4.852918644998945,
          5.05394573344698
         ],
         "xaxis": "x2",
         "y": [
          0,
          0,
          0,
          0,
          0,
          0,
          0,
          0,
          0,
          0,
          0,
          0,
          0,
          0,
          0,
          0,
          0,
          0,
          0,
          0,
          0,
          0,
          0,
          0,
          0,
          0,
          0,
          0,
          0,
          0,
          0,
          0,
          0,
          0,
          0,
          0,
          0,
          0,
          0,
          0,
          0,
          0,
          0,
          0,
          0,
          0,
          0,
          0,
          0,
          0
         ],
         "yaxis": "y2"
        }
       ],
       "layout": {
        "annotations": [
         {
          "font": {
           "size": 16
          },
          "showarrow": false,
          "text": "X reduced to 2D w/ numpy",
          "x": 0.2375,
          "xanchor": "center",
          "xref": "paper",
          "y": 1,
          "yanchor": "bottom",
          "yref": "paper"
         },
         {
          "font": {
           "size": 16
          },
          "showarrow": false,
          "text": "X reduced to 1D w/ numpy",
          "x": 0.7625,
          "xanchor": "center",
          "xref": "paper",
          "y": 1,
          "yanchor": "bottom",
          "yref": "paper"
         }
        ],
        "autosize": false,
        "height": 400,
        "margin": {
         "b": 10,
         "l": 10,
         "r": 10,
         "t": 30
        },
        "showlegend": false,
        "template": {
         "data": {
          "bar": [
           {
            "error_x": {
             "color": "rgb(51,51,51)"
            },
            "error_y": {
             "color": "rgb(51,51,51)"
            },
            "marker": {
             "line": {
              "color": "rgb(237,237,237)",
              "width": 0.5
             }
            },
            "type": "bar"
           }
          ],
          "barpolar": [
           {
            "marker": {
             "line": {
              "color": "rgb(237,237,237)",
              "width": 0.5
             }
            },
            "type": "barpolar"
           }
          ],
          "carpet": [
           {
            "aaxis": {
             "endlinecolor": "rgb(51,51,51)",
             "gridcolor": "white",
             "linecolor": "white",
             "minorgridcolor": "white",
             "startlinecolor": "rgb(51,51,51)"
            },
            "baxis": {
             "endlinecolor": "rgb(51,51,51)",
             "gridcolor": "white",
             "linecolor": "white",
             "minorgridcolor": "white",
             "startlinecolor": "rgb(51,51,51)"
            },
            "type": "carpet"
           }
          ],
          "choropleth": [
           {
            "colorbar": {
             "outlinewidth": 0,
             "tickcolor": "rgb(237,237,237)",
             "ticklen": 6,
             "ticks": "inside"
            },
            "type": "choropleth"
           }
          ],
          "contour": [
           {
            "colorbar": {
             "outlinewidth": 0,
             "tickcolor": "rgb(237,237,237)",
             "ticklen": 6,
             "ticks": "inside"
            },
            "colorscale": [
             [
              0,
              "rgb(20,44,66)"
             ],
             [
              1,
              "rgb(90,179,244)"
             ]
            ],
            "type": "contour"
           }
          ],
          "contourcarpet": [
           {
            "colorbar": {
             "outlinewidth": 0,
             "tickcolor": "rgb(237,237,237)",
             "ticklen": 6,
             "ticks": "inside"
            },
            "type": "contourcarpet"
           }
          ],
          "heatmap": [
           {
            "colorbar": {
             "outlinewidth": 0,
             "tickcolor": "rgb(237,237,237)",
             "ticklen": 6,
             "ticks": "inside"
            },
            "colorscale": [
             [
              0,
              "rgb(20,44,66)"
             ],
             [
              1,
              "rgb(90,179,244)"
             ]
            ],
            "type": "heatmap"
           }
          ],
          "heatmapgl": [
           {
            "colorbar": {
             "outlinewidth": 0,
             "tickcolor": "rgb(237,237,237)",
             "ticklen": 6,
             "ticks": "inside"
            },
            "colorscale": [
             [
              0,
              "rgb(20,44,66)"
             ],
             [
              1,
              "rgb(90,179,244)"
             ]
            ],
            "type": "heatmapgl"
           }
          ],
          "histogram": [
           {
            "marker": {
             "colorbar": {
              "outlinewidth": 0,
              "tickcolor": "rgb(237,237,237)",
              "ticklen": 6,
              "ticks": "inside"
             }
            },
            "type": "histogram"
           }
          ],
          "histogram2d": [
           {
            "colorbar": {
             "outlinewidth": 0,
             "tickcolor": "rgb(237,237,237)",
             "ticklen": 6,
             "ticks": "inside"
            },
            "colorscale": [
             [
              0,
              "rgb(20,44,66)"
             ],
             [
              1,
              "rgb(90,179,244)"
             ]
            ],
            "type": "histogram2d"
           }
          ],
          "histogram2dcontour": [
           {
            "colorbar": {
             "outlinewidth": 0,
             "tickcolor": "rgb(237,237,237)",
             "ticklen": 6,
             "ticks": "inside"
            },
            "colorscale": [
             [
              0,
              "rgb(20,44,66)"
             ],
             [
              1,
              "rgb(90,179,244)"
             ]
            ],
            "type": "histogram2dcontour"
           }
          ],
          "mesh3d": [
           {
            "colorbar": {
             "outlinewidth": 0,
             "tickcolor": "rgb(237,237,237)",
             "ticklen": 6,
             "ticks": "inside"
            },
            "type": "mesh3d"
           }
          ],
          "parcoords": [
           {
            "line": {
             "colorbar": {
              "outlinewidth": 0,
              "tickcolor": "rgb(237,237,237)",
              "ticklen": 6,
              "ticks": "inside"
             }
            },
            "type": "parcoords"
           }
          ],
          "pie": [
           {
            "automargin": true,
            "type": "pie"
           }
          ],
          "scatter": [
           {
            "marker": {
             "colorbar": {
              "outlinewidth": 0,
              "tickcolor": "rgb(237,237,237)",
              "ticklen": 6,
              "ticks": "inside"
             }
            },
            "type": "scatter"
           }
          ],
          "scatter3d": [
           {
            "line": {
             "colorbar": {
              "outlinewidth": 0,
              "tickcolor": "rgb(237,237,237)",
              "ticklen": 6,
              "ticks": "inside"
             }
            },
            "marker": {
             "colorbar": {
              "outlinewidth": 0,
              "tickcolor": "rgb(237,237,237)",
              "ticklen": 6,
              "ticks": "inside"
             }
            },
            "type": "scatter3d"
           }
          ],
          "scattercarpet": [
           {
            "marker": {
             "colorbar": {
              "outlinewidth": 0,
              "tickcolor": "rgb(237,237,237)",
              "ticklen": 6,
              "ticks": "inside"
             }
            },
            "type": "scattercarpet"
           }
          ],
          "scattergeo": [
           {
            "marker": {
             "colorbar": {
              "outlinewidth": 0,
              "tickcolor": "rgb(237,237,237)",
              "ticklen": 6,
              "ticks": "inside"
             }
            },
            "type": "scattergeo"
           }
          ],
          "scattergl": [
           {
            "marker": {
             "colorbar": {
              "outlinewidth": 0,
              "tickcolor": "rgb(237,237,237)",
              "ticklen": 6,
              "ticks": "inside"
             }
            },
            "type": "scattergl"
           }
          ],
          "scattermapbox": [
           {
            "marker": {
             "colorbar": {
              "outlinewidth": 0,
              "tickcolor": "rgb(237,237,237)",
              "ticklen": 6,
              "ticks": "inside"
             }
            },
            "type": "scattermapbox"
           }
          ],
          "scatterpolar": [
           {
            "marker": {
             "colorbar": {
              "outlinewidth": 0,
              "tickcolor": "rgb(237,237,237)",
              "ticklen": 6,
              "ticks": "inside"
             }
            },
            "type": "scatterpolar"
           }
          ],
          "scatterpolargl": [
           {
            "marker": {
             "colorbar": {
              "outlinewidth": 0,
              "tickcolor": "rgb(237,237,237)",
              "ticklen": 6,
              "ticks": "inside"
             }
            },
            "type": "scatterpolargl"
           }
          ],
          "scatterternary": [
           {
            "marker": {
             "colorbar": {
              "outlinewidth": 0,
              "tickcolor": "rgb(237,237,237)",
              "ticklen": 6,
              "ticks": "inside"
             }
            },
            "type": "scatterternary"
           }
          ],
          "surface": [
           {
            "colorbar": {
             "outlinewidth": 0,
             "tickcolor": "rgb(237,237,237)",
             "ticklen": 6,
             "ticks": "inside"
            },
            "colorscale": [
             [
              0,
              "rgb(20,44,66)"
             ],
             [
              1,
              "rgb(90,179,244)"
             ]
            ],
            "type": "surface"
           }
          ],
          "table": [
           {
            "cells": {
             "fill": {
              "color": "rgb(237,237,237)"
             },
             "line": {
              "color": "white"
             }
            },
            "header": {
             "fill": {
              "color": "rgb(217,217,217)"
             },
             "line": {
              "color": "white"
             }
            },
            "type": "table"
           }
          ]
         },
         "layout": {
          "annotationdefaults": {
           "arrowhead": 0,
           "arrowwidth": 1
          },
          "coloraxis": {
           "colorbar": {
            "outlinewidth": 0,
            "tickcolor": "rgb(237,237,237)",
            "ticklen": 6,
            "ticks": "inside"
           }
          },
          "colorscale": {
           "sequential": [
            [
             0,
             "rgb(20,44,66)"
            ],
            [
             1,
             "rgb(90,179,244)"
            ]
           ],
           "sequentialminus": [
            [
             0,
             "rgb(20,44,66)"
            ],
            [
             1,
             "rgb(90,179,244)"
            ]
           ]
          },
          "colorway": [
           "#F8766D",
           "#A3A500",
           "#00BF7D",
           "#00B0F6",
           "#E76BF3"
          ],
          "font": {
           "color": "rgb(51,51,51)"
          },
          "geo": {
           "bgcolor": "white",
           "lakecolor": "white",
           "landcolor": "rgb(237,237,237)",
           "showlakes": true,
           "showland": true,
           "subunitcolor": "white"
          },
          "hoverlabel": {
           "align": "left"
          },
          "hovermode": "closest",
          "paper_bgcolor": "white",
          "plot_bgcolor": "rgb(237,237,237)",
          "polar": {
           "angularaxis": {
            "gridcolor": "white",
            "linecolor": "white",
            "showgrid": true,
            "tickcolor": "rgb(51,51,51)",
            "ticks": "outside"
           },
           "bgcolor": "rgb(237,237,237)",
           "radialaxis": {
            "gridcolor": "white",
            "linecolor": "white",
            "showgrid": true,
            "tickcolor": "rgb(51,51,51)",
            "ticks": "outside"
           }
          },
          "scene": {
           "xaxis": {
            "backgroundcolor": "rgb(237,237,237)",
            "gridcolor": "white",
            "gridwidth": 2,
            "linecolor": "white",
            "showbackground": true,
            "showgrid": true,
            "tickcolor": "rgb(51,51,51)",
            "ticks": "outside",
            "zerolinecolor": "white"
           },
           "yaxis": {
            "backgroundcolor": "rgb(237,237,237)",
            "gridcolor": "white",
            "gridwidth": 2,
            "linecolor": "white",
            "showbackground": true,
            "showgrid": true,
            "tickcolor": "rgb(51,51,51)",
            "ticks": "outside",
            "zerolinecolor": "white"
           },
           "zaxis": {
            "backgroundcolor": "rgb(237,237,237)",
            "gridcolor": "white",
            "gridwidth": 2,
            "linecolor": "white",
            "showbackground": true,
            "showgrid": true,
            "tickcolor": "rgb(51,51,51)",
            "ticks": "outside",
            "zerolinecolor": "white"
           }
          },
          "shapedefaults": {
           "fillcolor": "black",
           "line": {
            "width": 0
           },
           "opacity": 0.3
          },
          "ternary": {
           "aaxis": {
            "gridcolor": "white",
            "linecolor": "white",
            "showgrid": true,
            "tickcolor": "rgb(51,51,51)",
            "ticks": "outside"
           },
           "baxis": {
            "gridcolor": "white",
            "linecolor": "white",
            "showgrid": true,
            "tickcolor": "rgb(51,51,51)",
            "ticks": "outside"
           },
           "bgcolor": "rgb(237,237,237)",
           "caxis": {
            "gridcolor": "white",
            "linecolor": "white",
            "showgrid": true,
            "tickcolor": "rgb(51,51,51)",
            "ticks": "outside"
           }
          },
          "xaxis": {
           "automargin": true,
           "gridcolor": "white",
           "linecolor": "white",
           "showgrid": true,
           "tickcolor": "rgb(51,51,51)",
           "ticks": "outside",
           "title": {
            "standoff": 15
           },
           "zerolinecolor": "white"
          },
          "yaxis": {
           "automargin": true,
           "gridcolor": "white",
           "linecolor": "white",
           "showgrid": true,
           "tickcolor": "rgb(51,51,51)",
           "ticks": "outside",
           "title": {
            "standoff": 15
           },
           "zerolinecolor": "white"
          }
         }
        },
        "width": 1000,
        "xaxis": {
         "anchor": "y",
         "autorange": true,
         "domain": [
          0,
          0.475
         ],
         "fixedrange": true,
         "range": [
          -5.797377182900989,
          5.797377182900988
         ],
         "title": {
          "standoff": 5,
          "text": "1st Principal Comopnent"
         },
         "type": "linear"
        },
        "xaxis2": {
         "anchor": "y2",
         "autorange": true,
         "domain": [
          0.525,
          1
         ],
         "fixedrange": true,
         "range": [
          -5.797377182900988,
          5.797377182900988
         ],
         "title": {
          "standoff": 5,
          "text": "1st Principal Comopnent"
         },
         "type": "linear"
        },
        "yaxis": {
         "anchor": "x",
         "autorange": true,
         "domain": [
          0,
          1
         ],
         "fixedrange": true,
         "range": [
          -1.2809380107714052,
          1.2809380107714021
         ],
         "title": {
          "standoff": 0,
          "text": "2nd Principal Comopnent"
         },
         "type": "linear"
        },
        "yaxis2": {
         "anchor": "x2",
         "autorange": true,
         "domain": [
          0,
          1
         ],
         "fixedrange": true,
         "range": [
          -1,
          1
         ],
         "type": "linear",
         "visible": false
        }
       }
      },
      "image/png": "[encoded data removed]",
      "text/html": [
       "<div>\n",
       "        \n",
       "        \n",
       "            <div id=\"d0f36d32-c69b-4ffb-a3ec-4f7ae0b916da\" class=\"plotly-graph-div\" style=\"height:400px; width:1000px;\"></div>\n",
       "            <script type=\"text/javascript\">\n",
       "                require([\"plotly\"], function(Plotly) {\n",
       "                    window.PLOTLYENV=window.PLOTLYENV || {};\n",
       "                    \n",
       "                if (document.getElementById(\"d0f36d32-c69b-4ffb-a3ec-4f7ae0b916da\")) {\n",
       "                    Plotly.newPlot(\n",
       "                        'd0f36d32-c69b-4ffb-a3ec-4f7ae0b916da',\n",
       "                        [{\"marker\": {\"color\": [0, 1, 2, 3, 4, 5, 6, 7, 8, 9, 10, 11, 12, 13, 14, 15, 16, 17, 18, 19, 20, 21, 22, 23, 24, 25, 26, 27, 28, 29, 30, 31, 32, 33, 34, 35, 36, 37, 38, 39, 40, 41, 42, 43, 44, 45, 46, 47, 48, 49], \"colorscale\": [[0.0, \"#440154\"], [0.1111111111111111, \"#482878\"], [0.2222222222222222, \"#3e4989\"], [0.3333333333333333, \"#31688e\"], [0.4444444444444444, \"#26828e\"], [0.5555555555555556, \"#1f9e89\"], [0.6666666666666666, \"#35b779\"], [0.7777777777777778, \"#6ece58\"], [0.8888888888888888, \"#b5de2b\"], [1.0, \"#fde725\"]], \"size\": 10}, \"mode\": \"markers\", \"type\": \"scatter\", \"x\": [-5.053945733446981, -4.852918644998945, -4.649058121599605, -4.442374885728391, -4.232996816427007, -4.0211636416851855, -3.807216988540573, -3.5915862038629203, -3.374770534330334, -3.157318405216923, -2.9398046580248973, -2.7228066917122233, -2.506880497773192, -2.2925375838348625, -2.0802237435545394, -1.8703005539728037, -1.6630303682736691, -1.4585654268267272, -1.2569415384570188, -1.058076594201261, -0.8617739752369088, -0.667730713538103, -0.4755500665508266, -0.28475798397590285, -0.09482278320669461, 0.09482278320669482, 0.2847579839759031, 0.4755500665508276, 0.6677307135381032, 0.8617739752369088, 1.058076594201262, 1.2569415384570193, 1.458565426826727, 1.663030368273669, 1.8703005539728035, 2.0802237435545394, 2.2925375838348625, 2.5068804977731918, 2.722806691712224, 2.9398046580248973, 3.1573184052169228, 3.3747705343303336, 3.59158620386292, 3.807216988540572, 4.0211636416851855, 4.232996816427008, 4.442374885728392, 4.649058121599605, 4.852918644998945, 5.05394573344698], \"xaxis\": \"x\", \"y\": [-0.6141402835763756, -0.6656220133201498, -0.6758406624644436, -0.6449523815969871, -0.574819462704512, -0.4689330448222692, -0.3322682144553933, -0.17107751482302316, 0.007368565684697878, 0.1950833548210682, 0.38369548297808903, 0.5647963365294982, 0.7302890569852172, 0.872724600762, 0.9856109114236524, 1.063682372210016, 1.1031183552388502, 1.1017017965051845, 1.0589112150294775, 0.9759423569037136, 0.8556585659002085, 0.7024719405089278, 0.5221602099754601, 0.3216269298920076, 0.1086149504132486, -0.10861495041324835, -0.32162692989200714, -0.522160209975461, -0.7024719405089278, -0.8556585659002097, -0.9759423569037152, -1.0589112150294793, -1.101701796505187, -1.1031183552388533, -1.0636823722100197, -0.9856109114236562, -0.8727246007620043, -0.730289056985222, -0.5647963365295022, -0.3836954829780939, -0.1950833548210731, -0.007368565684703235, 0.1710775148230176, 0.3322682144553885, 0.46893304482226517, 0.5748194627045082, 0.6449523815969835, 0.6758406624644407, 0.6656220133201476, 0.6141402835763738], \"yaxis\": \"y\"}, {\"marker\": {\"color\": [0, 1, 2, 3, 4, 5, 6, 7, 8, 9, 10, 11, 12, 13, 14, 15, 16, 17, 18, 19, 20, 21, 22, 23, 24, 25, 26, 27, 28, 29, 30, 31, 32, 33, 34, 35, 36, 37, 38, 39, 40, 41, 42, 43, 44, 45, 46, 47, 48, 49], \"colorscale\": [[0.0, \"#440154\"], [0.1111111111111111, \"#482878\"], [0.2222222222222222, \"#3e4989\"], [0.3333333333333333, \"#31688e\"], [0.4444444444444444, \"#26828e\"], [0.5555555555555556, \"#1f9e89\"], [0.6666666666666666, \"#35b779\"], [0.7777777777777778, \"#6ece58\"], [0.8888888888888888, \"#b5de2b\"], [1.0, \"#fde725\"]], \"size\": 10}, \"mode\": \"markers\", \"type\": \"scatter\", \"x\": [-5.05394573344698, -4.852918644998945, -4.649058121599605, -4.442374885728391, -4.232996816427008, -4.0211636416851855, -3.8072169885405724, -3.5915862038629203, -3.374770534330334, -3.157318405216923, -2.939804658024897, -2.7228066917122233, -2.5068804977731927, -2.292537583834863, -2.0802237435545394, -1.870300553972804, -1.6630303682736693, -1.4585654268267272, -1.2569415384570188, -1.058076594201261, -0.8617739752369088, -0.667730713538103, -0.4755500665508266, -0.28475798397590285, -0.09482278320669461, 0.09482278320669482, 0.2847579839759031, 0.4755500665508276, 0.6677307135381032, 0.8617739752369089, 1.058076594201262, 1.256941538457019, 1.458565426826727, 1.6630303682736691, 1.8703005539728035, 2.08022374355454, 2.2925375838348625, 2.506880497773192, 2.722806691712224, 2.939804658024897, 3.1573184052169228, 3.3747705343303336, 3.59158620386292, 3.8072169885405716, 4.0211636416851855, 4.232996816427008, 4.442374885728392, 4.649058121599604, 4.852918644998945, 5.05394573344698], \"xaxis\": \"x2\", \"y\": [0, 0, 0, 0, 0, 0, 0, 0, 0, 0, 0, 0, 0, 0, 0, 0, 0, 0, 0, 0, 0, 0, 0, 0, 0, 0, 0, 0, 0, 0, 0, 0, 0, 0, 0, 0, 0, 0, 0, 0, 0, 0, 0, 0, 0, 0, 0, 0, 0, 0], \"yaxis\": \"y2\"}],\n",
       "                        {\"annotations\": [{\"font\": {\"size\": 16}, \"showarrow\": false, \"text\": \"X reduced to 2D w/ numpy\", \"x\": 0.2375, \"xanchor\": \"center\", \"xref\": \"paper\", \"y\": 1.0, \"yanchor\": \"bottom\", \"yref\": \"paper\"}, {\"font\": {\"size\": 16}, \"showarrow\": false, \"text\": \"X reduced to 1D w/ numpy\", \"x\": 0.7625, \"xanchor\": \"center\", \"xref\": \"paper\", \"y\": 1.0, \"yanchor\": \"bottom\", \"yref\": \"paper\"}], \"autosize\": false, \"height\": 400, \"margin\": {\"b\": 10, \"l\": 10, \"r\": 10, \"t\": 30}, \"showlegend\": false, \"template\": {\"data\": {\"bar\": [{\"error_x\": {\"color\": \"rgb(51,51,51)\"}, \"error_y\": {\"color\": \"rgb(51,51,51)\"}, \"marker\": {\"line\": {\"color\": \"rgb(237,237,237)\", \"width\": 0.5}}, \"type\": \"bar\"}], \"barpolar\": [{\"marker\": {\"line\": {\"color\": \"rgb(237,237,237)\", \"width\": 0.5}}, \"type\": \"barpolar\"}], \"carpet\": [{\"aaxis\": {\"endlinecolor\": \"rgb(51,51,51)\", \"gridcolor\": \"white\", \"linecolor\": \"white\", \"minorgridcolor\": \"white\", \"startlinecolor\": \"rgb(51,51,51)\"}, \"baxis\": {\"endlinecolor\": \"rgb(51,51,51)\", \"gridcolor\": \"white\", \"linecolor\": \"white\", \"minorgridcolor\": \"white\", \"startlinecolor\": \"rgb(51,51,51)\"}, \"type\": \"carpet\"}], \"choropleth\": [{\"colorbar\": {\"outlinewidth\": 0, \"tickcolor\": \"rgb(237,237,237)\", \"ticklen\": 6, \"ticks\": \"inside\"}, \"type\": \"choropleth\"}], \"contour\": [{\"colorbar\": {\"outlinewidth\": 0, \"tickcolor\": \"rgb(237,237,237)\", \"ticklen\": 6, \"ticks\": \"inside\"}, \"colorscale\": [[0, \"rgb(20,44,66)\"], [1, \"rgb(90,179,244)\"]], \"type\": \"contour\"}], \"contourcarpet\": [{\"colorbar\": {\"outlinewidth\": 0, \"tickcolor\": \"rgb(237,237,237)\", \"ticklen\": 6, \"ticks\": \"inside\"}, \"type\": \"contourcarpet\"}], \"heatmap\": [{\"colorbar\": {\"outlinewidth\": 0, \"tickcolor\": \"rgb(237,237,237)\", \"ticklen\": 6, \"ticks\": \"inside\"}, \"colorscale\": [[0, \"rgb(20,44,66)\"], [1, \"rgb(90,179,244)\"]], \"type\": \"heatmap\"}], \"heatmapgl\": [{\"colorbar\": {\"outlinewidth\": 0, \"tickcolor\": \"rgb(237,237,237)\", \"ticklen\": 6, \"ticks\": \"inside\"}, \"colorscale\": [[0, \"rgb(20,44,66)\"], [1, \"rgb(90,179,244)\"]], \"type\": \"heatmapgl\"}], \"histogram\": [{\"marker\": {\"colorbar\": {\"outlinewidth\": 0, \"tickcolor\": \"rgb(237,237,237)\", \"ticklen\": 6, \"ticks\": \"inside\"}}, \"type\": \"histogram\"}], \"histogram2d\": [{\"colorbar\": {\"outlinewidth\": 0, \"tickcolor\": \"rgb(237,237,237)\", \"ticklen\": 6, \"ticks\": \"inside\"}, \"colorscale\": [[0, \"rgb(20,44,66)\"], [1, \"rgb(90,179,244)\"]], \"type\": \"histogram2d\"}], \"histogram2dcontour\": [{\"colorbar\": {\"outlinewidth\": 0, \"tickcolor\": \"rgb(237,237,237)\", \"ticklen\": 6, \"ticks\": \"inside\"}, \"colorscale\": [[0, \"rgb(20,44,66)\"], [1, \"rgb(90,179,244)\"]], \"type\": \"histogram2dcontour\"}], \"mesh3d\": [{\"colorbar\": {\"outlinewidth\": 0, \"tickcolor\": \"rgb(237,237,237)\", \"ticklen\": 6, \"ticks\": \"inside\"}, \"type\": \"mesh3d\"}], \"parcoords\": [{\"line\": {\"colorbar\": {\"outlinewidth\": 0, \"tickcolor\": \"rgb(237,237,237)\", \"ticklen\": 6, \"ticks\": \"inside\"}}, \"type\": \"parcoords\"}], \"pie\": [{\"automargin\": true, \"type\": \"pie\"}], \"scatter\": [{\"marker\": {\"colorbar\": {\"outlinewidth\": 0, \"tickcolor\": \"rgb(237,237,237)\", \"ticklen\": 6, \"ticks\": \"inside\"}}, \"type\": \"scatter\"}], \"scatter3d\": [{\"line\": {\"colorbar\": {\"outlinewidth\": 0, \"tickcolor\": \"rgb(237,237,237)\", \"ticklen\": 6, \"ticks\": \"inside\"}}, \"marker\": {\"colorbar\": {\"outlinewidth\": 0, \"tickcolor\": \"rgb(237,237,237)\", \"ticklen\": 6, \"ticks\": \"inside\"}}, \"type\": \"scatter3d\"}], \"scattercarpet\": [{\"marker\": {\"colorbar\": {\"outlinewidth\": 0, \"tickcolor\": \"rgb(237,237,237)\", \"ticklen\": 6, \"ticks\": \"inside\"}}, \"type\": \"scattercarpet\"}], \"scattergeo\": [{\"marker\": {\"colorbar\": {\"outlinewidth\": 0, \"tickcolor\": \"rgb(237,237,237)\", \"ticklen\": 6, \"ticks\": \"inside\"}}, \"type\": \"scattergeo\"}], \"scattergl\": [{\"marker\": {\"colorbar\": {\"outlinewidth\": 0, \"tickcolor\": \"rgb(237,237,237)\", \"ticklen\": 6, \"ticks\": \"inside\"}}, \"type\": \"scattergl\"}], \"scattermapbox\": [{\"marker\": {\"colorbar\": {\"outlinewidth\": 0, \"tickcolor\": \"rgb(237,237,237)\", \"ticklen\": 6, \"ticks\": \"inside\"}}, \"type\": \"scattermapbox\"}], \"scatterpolar\": [{\"marker\": {\"colorbar\": {\"outlinewidth\": 0, \"tickcolor\": \"rgb(237,237,237)\", \"ticklen\": 6, \"ticks\": \"inside\"}}, \"type\": \"scatterpolar\"}], \"scatterpolargl\": [{\"marker\": {\"colorbar\": {\"outlinewidth\": 0, \"tickcolor\": \"rgb(237,237,237)\", \"ticklen\": 6, \"ticks\": \"inside\"}}, \"type\": \"scatterpolargl\"}], \"scatterternary\": [{\"marker\": {\"colorbar\": {\"outlinewidth\": 0, \"tickcolor\": \"rgb(237,237,237)\", \"ticklen\": 6, \"ticks\": \"inside\"}}, \"type\": \"scatterternary\"}], \"surface\": [{\"colorbar\": {\"outlinewidth\": 0, \"tickcolor\": \"rgb(237,237,237)\", \"ticklen\": 6, \"ticks\": \"inside\"}, \"colorscale\": [[0, \"rgb(20,44,66)\"], [1, \"rgb(90,179,244)\"]], \"type\": \"surface\"}], \"table\": [{\"cells\": {\"fill\": {\"color\": \"rgb(237,237,237)\"}, \"line\": {\"color\": \"white\"}}, \"header\": {\"fill\": {\"color\": \"rgb(217,217,217)\"}, \"line\": {\"color\": \"white\"}}, \"type\": \"table\"}]}, \"layout\": {\"annotationdefaults\": {\"arrowhead\": 0, \"arrowwidth\": 1}, \"coloraxis\": {\"colorbar\": {\"outlinewidth\": 0, \"tickcolor\": \"rgb(237,237,237)\", \"ticklen\": 6, \"ticks\": \"inside\"}}, \"colorscale\": {\"sequential\": [[0, \"rgb(20,44,66)\"], [1, \"rgb(90,179,244)\"]], \"sequentialminus\": [[0, \"rgb(20,44,66)\"], [1, \"rgb(90,179,244)\"]]}, \"colorway\": [\"#F8766D\", \"#A3A500\", \"#00BF7D\", \"#00B0F6\", \"#E76BF3\"], \"font\": {\"color\": \"rgb(51,51,51)\"}, \"geo\": {\"bgcolor\": \"white\", \"lakecolor\": \"white\", \"landcolor\": \"rgb(237,237,237)\", \"showlakes\": true, \"showland\": true, \"subunitcolor\": \"white\"}, \"hoverlabel\": {\"align\": \"left\"}, \"hovermode\": \"closest\", \"paper_bgcolor\": \"white\", \"plot_bgcolor\": \"rgb(237,237,237)\", \"polar\": {\"angularaxis\": {\"gridcolor\": \"white\", \"linecolor\": \"white\", \"showgrid\": true, \"tickcolor\": \"rgb(51,51,51)\", \"ticks\": \"outside\"}, \"bgcolor\": \"rgb(237,237,237)\", \"radialaxis\": {\"gridcolor\": \"white\", \"linecolor\": \"white\", \"showgrid\": true, \"tickcolor\": \"rgb(51,51,51)\", \"ticks\": \"outside\"}}, \"scene\": {\"xaxis\": {\"backgroundcolor\": \"rgb(237,237,237)\", \"gridcolor\": \"white\", \"gridwidth\": 2, \"linecolor\": \"white\", \"showbackground\": true, \"showgrid\": true, \"tickcolor\": \"rgb(51,51,51)\", \"ticks\": \"outside\", \"zerolinecolor\": \"white\"}, \"yaxis\": {\"backgroundcolor\": \"rgb(237,237,237)\", \"gridcolor\": \"white\", \"gridwidth\": 2, \"linecolor\": \"white\", \"showbackground\": true, \"showgrid\": true, \"tickcolor\": \"rgb(51,51,51)\", \"ticks\": \"outside\", \"zerolinecolor\": \"white\"}, \"zaxis\": {\"backgroundcolor\": \"rgb(237,237,237)\", \"gridcolor\": \"white\", \"gridwidth\": 2, \"linecolor\": \"white\", \"showbackground\": true, \"showgrid\": true, \"tickcolor\": \"rgb(51,51,51)\", \"ticks\": \"outside\", \"zerolinecolor\": \"white\"}}, \"shapedefaults\": {\"fillcolor\": \"black\", \"line\": {\"width\": 0}, \"opacity\": 0.3}, \"ternary\": {\"aaxis\": {\"gridcolor\": \"white\", \"linecolor\": \"white\", \"showgrid\": true, \"tickcolor\": \"rgb(51,51,51)\", \"ticks\": \"outside\"}, \"baxis\": {\"gridcolor\": \"white\", \"linecolor\": \"white\", \"showgrid\": true, \"tickcolor\": \"rgb(51,51,51)\", \"ticks\": \"outside\"}, \"bgcolor\": \"rgb(237,237,237)\", \"caxis\": {\"gridcolor\": \"white\", \"linecolor\": \"white\", \"showgrid\": true, \"tickcolor\": \"rgb(51,51,51)\", \"ticks\": \"outside\"}}, \"xaxis\": {\"automargin\": true, \"gridcolor\": \"white\", \"linecolor\": \"white\", \"showgrid\": true, \"tickcolor\": \"rgb(51,51,51)\", \"ticks\": \"outside\", \"title\": {\"standoff\": 15}, \"zerolinecolor\": \"white\"}, \"yaxis\": {\"automargin\": true, \"gridcolor\": \"white\", \"linecolor\": \"white\", \"showgrid\": true, \"tickcolor\": \"rgb(51,51,51)\", \"ticks\": \"outside\", \"title\": {\"standoff\": 15}, \"zerolinecolor\": \"white\"}}}, \"width\": 1000, \"xaxis\": {\"anchor\": \"y\", \"domain\": [0.0, 0.475], \"fixedrange\": true, \"title\": {\"standoff\": 5, \"text\": \"1st Principal Comopnent\"}}, \"xaxis2\": {\"anchor\": \"y2\", \"domain\": [0.525, 1.0], \"fixedrange\": true, \"title\": {\"standoff\": 5, \"text\": \"1st Principal Comopnent\"}}, \"yaxis\": {\"anchor\": \"x\", \"domain\": [0.0, 1.0], \"fixedrange\": true, \"title\": {\"standoff\": 0, \"text\": \"2nd Principal Comopnent\"}}, \"yaxis2\": {\"anchor\": \"x2\", \"domain\": [0.0, 1.0], \"fixedrange\": true, \"visible\": false}},\n",
       "                        {\"displayModeBar\": false, \"scrollZoom\": false, \"responsive\": true}\n",
       "                    ).then(function(){\n",
       "                            \n",
       "var gd = document.getElementById('d0f36d32-c69b-4ffb-a3ec-4f7ae0b916da');\n",
       "var x = new MutationObserver(function (mutations, observer) {{\n",
       "        var display = window.getComputedStyle(gd).display;\n",
       "        if (!display || display === 'none') {{\n",
       "            console.log([gd, 'removed!']);\n",
       "            Plotly.purge(gd);\n",
       "            observer.disconnect();\n",
       "        }}\n",
       "}});\n",
       "\n",
       "// Listen for the removal of the full notebook cells\n",
       "var notebookContainer = gd.closest('#notebook-container');\n",
       "if (notebookContainer) {{\n",
       "    x.observe(notebookContainer, {childList: true});\n",
       "}}\n",
       "\n",
       "// Listen for the clearing of the current output cell\n",
       "var outputEl = gd.closest('.output');\n",
       "if (outputEl) {{\n",
       "    x.observe(outputEl, {childList: true});\n",
       "}}\n",
       "\n",
       "                        })\n",
       "                };\n",
       "                });\n",
       "            </script>\n",
       "        </div>"
      ]
     },
     "metadata": {},
     "output_type": "display_data"
    }
   ],
   "source": [
    "#@title (plot dimensionality reduced helix shape with numpy_pca) { display-mode: \"form\" }\n",
    "trace1 = go.Scatter(\n",
    "    x=np_X_reduced_2d[:, 0], y=np_X_reduced_2d[:, 1], mode='markers', \n",
    "    marker=dict(size=10, color=row_index, colorscale='Viridis',)\n",
    ")\n",
    "trace2 = go.Scatter(\n",
    "    x=np_X_reduced_1d[:, 0], y=[0] * np_X_reduced_1d.shape[0], mode='markers', \n",
    "    marker=dict(size=10, color=row_index, colorscale='Viridis',)\n",
    ")\n",
    "layout = dict(\n",
    "    height=400, width=1000, autosize=False,\n",
    "    margin=dict(l=10, r=10, b=10, t=30), \n",
    "    template=\"ggplot2\", showlegend=False, \n",
    "    xaxis={\"fixedrange\": True, \"title\": {\"text\": \"1st Principal Comopnent\", \"standoff\": 5}}, \n",
    "    yaxis={\"fixedrange\": True, \"title\": {\"text\": \"2nd Principal Comopnent\", \"standoff\": 0}}, \n",
    "    xaxis2={\"fixedrange\": True,\"title\": {\"text\": \"1st Principal Comopnent\", \"standoff\": 5}}, \n",
    "    yaxis2={\"fixedrange\": True, \"visible\": False}, \n",
    ")\n",
    "\n",
    "fig = make_subplots(\n",
    "    rows=1, cols=2, horizontal_spacing=0.05,\n",
    "    subplot_titles=(\"X reduced to 2D w/ numpy\", \"X reduced to 1D w/ numpy\")\n",
    ")\n",
    "fig.add_trace(trace1, row=1, col=1)\n",
    "fig.add_trace(trace2, row=1, col=2)\n",
    "fig.update_layout(layout)\n",
    "fig.show(config={'displayModeBar': False, 'scrollZoom': False})"
   ]
  },
  {
   "cell_type": "code",
   "execution_count": null,
   "metadata": {},
   "outputs": [],
   "source": []
  },
  {
   "cell_type": "code",
   "execution_count": null,
   "metadata": {},
   "outputs": [],
   "source": []
  },
  {
   "cell_type": "markdown",
   "metadata": {},
   "source": [
    "## PCA with high-dimension data\n",
    "\n",
    "> Wine Data: https://scikit-learn.org/stable/modules/generated/sklearn.datasets.load_wine.html  \n",
    "> 13 features, classify wine quality by given features   \n",
    "\n",
    "+ **With features of different units, it's suggested to _standarize_ before applying PCA**\n",
    "  + standarization = centering + scaling\n",
    "  + `sklearn.decomposition.PCA` only centers data\n"
   ]
  },
  {
   "cell_type": "code",
   "execution_count": 41,
   "metadata": {},
   "outputs": [],
   "source": [
    "from sklearn.datasets import load_wine\n",
    "from sklearn.preprocessing import StandardScaler"
   ]
  },
  {
   "cell_type": "code",
   "execution_count": 42,
   "metadata": {},
   "outputs": [
    {
     "data": {
      "text/plain": [
       "((178, 13), (178,))"
      ]
     },
     "execution_count": 42,
     "metadata": {},
     "output_type": "execute_result"
    }
   ],
   "source": [
    "X, y = load_wine(return_X_y=True)\n",
    "X.shape, y.shape"
   ]
  },
  {
   "cell_type": "code",
   "execution_count": 43,
   "metadata": {},
   "outputs": [
    {
     "data": {
      "text/html": [
       "<div>\n",
       "<style scoped>\n",
       "    .dataframe tbody tr th:only-of-type {\n",
       "        vertical-align: middle;\n",
       "    }\n",
       "\n",
       "    .dataframe tbody tr th {\n",
       "        vertical-align: top;\n",
       "    }\n",
       "\n",
       "    .dataframe thead th {\n",
       "        text-align: right;\n",
       "    }\n",
       "</style>\n",
       "<table border=\"1\" class=\"dataframe\">\n",
       "  <thead>\n",
       "    <tr style=\"text-align: right;\">\n",
       "      <th></th>\n",
       "      <th>0</th>\n",
       "      <th>1</th>\n",
       "      <th>2</th>\n",
       "      <th>3</th>\n",
       "      <th>4</th>\n",
       "      <th>5</th>\n",
       "      <th>6</th>\n",
       "      <th>7</th>\n",
       "      <th>8</th>\n",
       "      <th>9</th>\n",
       "      <th>10</th>\n",
       "      <th>11</th>\n",
       "      <th>12</th>\n",
       "    </tr>\n",
       "  </thead>\n",
       "  <tbody>\n",
       "    <tr>\n",
       "      <th>mean</th>\n",
       "      <td>13.0006</td>\n",
       "      <td>2.3363</td>\n",
       "      <td>2.3665</td>\n",
       "      <td>19.4949</td>\n",
       "      <td>99.7416</td>\n",
       "      <td>2.2951</td>\n",
       "      <td>2.0293</td>\n",
       "      <td>0.3619</td>\n",
       "      <td>1.5909</td>\n",
       "      <td>5.0581</td>\n",
       "      <td>0.9574</td>\n",
       "      <td>2.6117</td>\n",
       "      <td>746.8933</td>\n",
       "    </tr>\n",
       "    <tr>\n",
       "      <th>std</th>\n",
       "      <td>0.8118</td>\n",
       "      <td>1.1171</td>\n",
       "      <td>0.2743</td>\n",
       "      <td>3.3396</td>\n",
       "      <td>14.2825</td>\n",
       "      <td>0.6259</td>\n",
       "      <td>0.9989</td>\n",
       "      <td>0.1245</td>\n",
       "      <td>0.5724</td>\n",
       "      <td>2.3183</td>\n",
       "      <td>0.2286</td>\n",
       "      <td>0.7100</td>\n",
       "      <td>314.9075</td>\n",
       "    </tr>\n",
       "    <tr>\n",
       "      <th>min</th>\n",
       "      <td>11.0300</td>\n",
       "      <td>0.7400</td>\n",
       "      <td>1.3600</td>\n",
       "      <td>10.6000</td>\n",
       "      <td>70.0000</td>\n",
       "      <td>0.9800</td>\n",
       "      <td>0.3400</td>\n",
       "      <td>0.1300</td>\n",
       "      <td>0.4100</td>\n",
       "      <td>1.2800</td>\n",
       "      <td>0.4800</td>\n",
       "      <td>1.2700</td>\n",
       "      <td>278.0000</td>\n",
       "    </tr>\n",
       "    <tr>\n",
       "      <th>25%</th>\n",
       "      <td>12.3625</td>\n",
       "      <td>1.6025</td>\n",
       "      <td>2.2100</td>\n",
       "      <td>17.2000</td>\n",
       "      <td>88.0000</td>\n",
       "      <td>1.7425</td>\n",
       "      <td>1.2050</td>\n",
       "      <td>0.2700</td>\n",
       "      <td>1.2500</td>\n",
       "      <td>3.2200</td>\n",
       "      <td>0.7825</td>\n",
       "      <td>1.9375</td>\n",
       "      <td>500.5000</td>\n",
       "    </tr>\n",
       "    <tr>\n",
       "      <th>50%</th>\n",
       "      <td>13.0500</td>\n",
       "      <td>1.8650</td>\n",
       "      <td>2.3600</td>\n",
       "      <td>19.5000</td>\n",
       "      <td>98.0000</td>\n",
       "      <td>2.3550</td>\n",
       "      <td>2.1350</td>\n",
       "      <td>0.3400</td>\n",
       "      <td>1.5550</td>\n",
       "      <td>4.6900</td>\n",
       "      <td>0.9650</td>\n",
       "      <td>2.7800</td>\n",
       "      <td>673.5000</td>\n",
       "    </tr>\n",
       "    <tr>\n",
       "      <th>75%</th>\n",
       "      <td>13.6775</td>\n",
       "      <td>3.0825</td>\n",
       "      <td>2.5575</td>\n",
       "      <td>21.5000</td>\n",
       "      <td>107.0000</td>\n",
       "      <td>2.8000</td>\n",
       "      <td>2.8750</td>\n",
       "      <td>0.4375</td>\n",
       "      <td>1.9500</td>\n",
       "      <td>6.2000</td>\n",
       "      <td>1.1200</td>\n",
       "      <td>3.1700</td>\n",
       "      <td>985.0000</td>\n",
       "    </tr>\n",
       "    <tr>\n",
       "      <th>max</th>\n",
       "      <td>14.8300</td>\n",
       "      <td>5.8000</td>\n",
       "      <td>3.2300</td>\n",
       "      <td>30.0000</td>\n",
       "      <td>162.0000</td>\n",
       "      <td>3.8800</td>\n",
       "      <td>5.0800</td>\n",
       "      <td>0.6600</td>\n",
       "      <td>3.5800</td>\n",
       "      <td>13.0000</td>\n",
       "      <td>1.7100</td>\n",
       "      <td>4.0000</td>\n",
       "      <td>1680.0000</td>\n",
       "    </tr>\n",
       "  </tbody>\n",
       "</table>\n",
       "</div>"
      ],
      "text/plain": [
       "           0       1       2        3         4       5       6       7   \\\n",
       "mean  13.0006  2.3363  2.3665  19.4949   99.7416  2.2951  2.0293  0.3619   \n",
       "std    0.8118  1.1171  0.2743   3.3396   14.2825  0.6259  0.9989  0.1245   \n",
       "min   11.0300  0.7400  1.3600  10.6000   70.0000  0.9800  0.3400  0.1300   \n",
       "25%   12.3625  1.6025  2.2100  17.2000   88.0000  1.7425  1.2050  0.2700   \n",
       "50%   13.0500  1.8650  2.3600  19.5000   98.0000  2.3550  2.1350  0.3400   \n",
       "75%   13.6775  3.0825  2.5575  21.5000  107.0000  2.8000  2.8750  0.4375   \n",
       "max   14.8300  5.8000  3.2300  30.0000  162.0000  3.8800  5.0800  0.6600   \n",
       "\n",
       "          8        9       10      11         12  \n",
       "mean  1.5909   5.0581  0.9574  2.6117   746.8933  \n",
       "std   0.5724   2.3183  0.2286  0.7100   314.9075  \n",
       "min   0.4100   1.2800  0.4800  1.2700   278.0000  \n",
       "25%   1.2500   3.2200  0.7825  1.9375   500.5000  \n",
       "50%   1.5550   4.6900  0.9650  2.7800   673.5000  \n",
       "75%   1.9500   6.2000  1.1200  3.1700   985.0000  \n",
       "max   3.5800  13.0000  1.7100  4.0000  1680.0000  "
      ]
     },
     "execution_count": 43,
     "metadata": {},
     "output_type": "execute_result"
    }
   ],
   "source": [
    "(\n",
    "    pd.DataFrame(X).describe().iloc[1:, :]\n",
    "    .style.applymap(lambda s: 'color: red' if s >= 100 else '')\n",
    "    .format(\"{0:,.4f}\") # well, styler doesn't work with colab extension\n",
    ").data.round(4)\n",
    "# note the last feature has different units than others "
   ]
  },
  {
   "cell_type": "code",
   "execution_count": null,
   "metadata": {},
   "outputs": [],
   "source": []
  },
  {
   "cell_type": "markdown",
   "metadata": {},
   "source": [
    "### Using PCA for visualization\n",
    "\n",
    "+ the importance of scaling data"
   ]
  },
  {
   "cell_type": "code",
   "execution_count": 44,
   "metadata": {},
   "outputs": [
    {
     "data": {
      "text/plain": [
       "((178, 3), (178, 3))"
      ]
     },
     "execution_count": 44,
     "metadata": {},
     "output_type": "execute_result"
    }
   ],
   "source": [
    "pca_wine_3d = PCA(n_components=3)\n",
    "wine_X_3d = pca_wine_3d.fit_transform(X)\n",
    "\n",
    "scaler = StandardScaler()\n",
    "pca_wine_3d_scaled = PCA(n_components=3)\n",
    "wine_X_3d_scaled = pca_wine_3d_scaled.fit_transform(scaler.fit_transform(X))\n",
    "\n",
    "wine_X_3d.shape, wine_X_3d_scaled.shape"
   ]
  },
  {
   "cell_type": "code",
   "execution_count": 45,
   "metadata": {},
   "outputs": [
    {
     "data": {
      "application/vnd.plotly.v1+json": {
       "config": {
        "displayModeBar": false,
        "plotlyServerURL": "https://plot.ly",
        "scrollZoom": false
       },
       "data": [
        {
         "marker": {
          "color": [
           0,
           0,
           0,
           0,
           0,
           0,
           0,
           0,
           0,
           0,
           0,
           0,
           0,
           0,
           0,
           0,
           0,
           0,
           0,
           0,
           0,
           0,
           0,
           0,
           0,
           0,
           0,
           0,
           0,
           0,
           0,
           0,
           0,
           0,
           0,
           0,
           0,
           0,
           0,
           0,
           0,
           0,
           0,
           0,
           0,
           0,
           0,
           0,
           0,
           0,
           0,
           0,
           0,
           0,
           0,
           0,
           0,
           0,
           0,
           1,
           1,
           1,
           1,
           1,
           1,
           1,
           1,
           1,
           1,
           1,
           1,
           1,
           1,
           1,
           1,
           1,
           1,
           1,
           1,
           1,
           1,
           1,
           1,
           1,
           1,
           1,
           1,
           1,
           1,
           1,
           1,
           1,
           1,
           1,
           1,
           1,
           1,
           1,
           1,
           1,
           1,
           1,
           1,
           1,
           1,
           1,
           1,
           1,
           1,
           1,
           1,
           1,
           1,
           1,
           1,
           1,
           1,
           1,
           1,
           1,
           1,
           1,
           1,
           1,
           1,
           1,
           1,
           1,
           1,
           1,
           2,
           2,
           2,
           2,
           2,
           2,
           2,
           2,
           2,
           2,
           2,
           2,
           2,
           2,
           2,
           2,
           2,
           2,
           2,
           2,
           2,
           2,
           2,
           2,
           2,
           2,
           2,
           2,
           2,
           2,
           2,
           2,
           2,
           2,
           2,
           2,
           2,
           2,
           2,
           2,
           2,
           2,
           2,
           2,
           2,
           2,
           2,
           2
          ],
          "colorscale": [
           [
            0,
            "#440154"
           ],
           [
            0.1111111111111111,
            "#482878"
           ],
           [
            0.2222222222222222,
            "#3e4989"
           ],
           [
            0.3333333333333333,
            "#31688e"
           ],
           [
            0.4444444444444444,
            "#26828e"
           ],
           [
            0.5555555555555556,
            "#1f9e89"
           ],
           [
            0.6666666666666666,
            "#35b779"
           ],
           [
            0.7777777777777778,
            "#6ece58"
           ],
           [
            0.8888888888888888,
            "#b5de2b"
           ],
           [
            1,
            "#fde725"
           ]
          ],
          "size": 3
         },
         "mode": "markers",
         "scene": "scene",
         "type": "scatter3d",
         "x": [
          318.5629792879365,
          303.0974196593862,
          438.06113291723614,
          733.2401393508106,
          -11.571428495905954,
          703.2311917377222,
          542.9715808665927,
          548.4018598404369,
          298.03686280061186,
          298.04955313546816,
          763.0797119412471,
          532.943227731998,
          572.8344103911644,
          402.9253582860968,
          800.0533938569715,
          563.2455779988175,
          533.3796506359128,
          383.31759107727527,
          933.1183874996058,
          98.40317747596005,
          33.59359400185373,
          23.14643754027097,
          288.0930302174046,
          267.9815125349914,
          98.01988577277822,
          83.49874396134186,
          447.9255962223425,
          537.9191650213772,
          168.21046760464964,
          288.0082470812646,
          538.0264521021908,
          768.0929388553869,
          243.15075090189163,
          488.6012800452355,
          348.23100699681953,
          173.07995742609643,
          133.28642354659135,
          358.0185591752664,
          273.0444315214037,
          13.643002113365204,
          48.42964224993001,
          287.8840921689911,
          348.09534818044665,
          -66.81465538610283,
          138.22700988344212,
          333.25480582916634,
          318.1118484666387,
          238.11148507872267,
          313.1199153878398,
          513.1877480212281,
          402.93901715897334,
          517.9289632654716,
          443.2664112949329,
          628.2860709851128,
          313.3976126756323,
          373.33329122238007,
          223.41710635795033,
          523.0728513966158,
          538.1820973229432,
          -227.0326904524968,
          -66.85012199724915,
          -296.8244368914156,
          -116.97047258185783,
          -327.05912559515144,
          -391.7524864360501,
          -68.90576044269486,
          -245.212523977079,
          -237.2414102925167,
          3.2961559909800395,
          -27.966120730539263,
          123.13013830856292,
          -337.1041224880131,
          -275.0960258796874,
          238.71675654886133,
          139.09405663995804,
          -318.8763289023296,
          -355.0602525141371,
          -246.633597451916,
          3.7716896555328105,
          -283.8422476447662,
          -469.0593503092665,
          -33.13133924615621,
          -117.29039200980701,
          -232.13298838412305,
          -226.95329942011867,
          -296.85215173438576,
          -252.04639192844036,
          -185.10885737349258,
          -67.18075184447459,
          -122.43132640120474,
          -267.1853332030438,
          -297.10441467528625,
          -252.21388507177025,
          -457.0222149421968,
          -401.85127408999614,
          191.18339677250677,
          -121.27917775374159,
          -319.0882728046859,
          -87.08029256129834,
          -341.0409001673491,
          -36.93161455099824,
          -185.07371349407907,
          -308.88238661249596,
          -332.0892963829008,
          -75.1531377520264,
          -432.00974192285355,
          -237.20669708725688,
          -259.14836773379614,
          -434.9577801123811,
          -66.9906957701296,
          -184.73643852532706,
          -422.042873624879,
          -139.8186631613139,
          -313.06094816289715,
          -362.1296331136066,
          -340.1150062142457,
          -252.10947206109927,
          -401.69597348176717,
          -375.17109236646644,
          -183.09792918191033,
          -121.94524134844445,
          -281.5345691197325,
          -381.8267782342637,
          -367.0893800459942,
          -367.15717469661234,
          -369.1036009666214,
          -395.0788364569407,
          -281.030368709101,
          -405.06128780288554,
          -167.23764181767572,
          -116.47300035905566,
          -216.7845399781076,
          -186.9151119656017,
          -146.7695296248623,
          -97.13297359792644,
          -51.98204686718351,
          -27.09793074985338,
          -231.95153407062097,
          -167.07624576452397,
          -156.8680445428576,
          -146.94648958055137,
          32.90429274889572,
          -226.92620968566476,
          -197.00434749401984,
          108.31267730325982,
          83.11826261248201,
          -332.19583999008904,
          -122.12609208783446,
          -97.01938926807351,
          -196.62480660405083,
          -246.4491992318414,
          -266.6287880497013,
          -321.57074093518065,
          -71.89765870622593,
          -106.81661780127227,
          -22.020256798528916,
          -267.03173230557616,
          132.99984125218964,
          -86.91399859078021,
          -127.06128965116436,
          -227.0688357517346,
          -66.75543117637739,
          -176.76509842511706,
          -71.76839793240195,
          -132.04824836043468,
          -227.0778445532603,
          -51.68950645984451,
          -62.08501112430402,
          3.1827646534930305,
          -116.67481804945264,
          -236.92120794183774,
          -277.08357825603923,
          -87.02740263137345,
          -6.980210958028627,
          3.1316046787553815,
          88.45807368612955,
          93.45624185410918,
          -186.94319027310937
         ],
         "y": [
          21.49213073453999,
          -5.364717683064025,
          -6.537309449440059,
          0.19272903207213463,
          18.48999460836036,
          -0.332158674253281,
          -13.518966641596878,
          11.449432383558477,
          -8.18015783540833,
          -7.101542937561728,
          -8.334317226298749,
          -14.28763377047139,
          -21.005014330071106,
          -16.102635218597193,
          -12.118447191589329,
          2.2148286640862658,
          10.804802233662494,
          8.477419817562927,
          -8.354478439743355,
          14.392659413302267,
          25.567956497752526,
          1.8174730862651105,
          -3.9630417496650234,
          -9.570704013405841,
          -5.495846062188414,
          22.8916215499594,
          -14.797331250759305,
          -15.38834606502354,
          4.255310963149653,
          -8.959731549015741,
          -8.212738820938178,
          -7.379897374639952,
          -0.14391492761480645,
          23.56532504324064,
          4.038080148998218,
          -2.7929216497768654,
          7.772729575349438,
          -8.157984118124054,
          -6.725074307758908,
          27.846832147749087,
          16.321949760522187,
          -14.885118535217169,
          -5.043426088455583,
          4.384829918309579,
          4.730688359804041,
          5.319331158248506,
          -3.4869449391169307,
          -3.051521001293944,
          -2.3053631635876326,
          -0.8637592352155229,
          -15.053302848806691,
          -14.997554888546457,
          3.2605020440732755,
          4.04114538079589,
          12.608913514882232,
          9.664198626315429,
          14.21689241173699,
          -7.096625255912914,
          -1.356780128101634,
          -7.9949679691344695,
          2.31986653622257,
          5.46847569800989,
          -3.726383423155147,
          -6.948130808142174,
          11.171678256222837,
          -0.5586205371242082,
          -17.49363929942054,
          -17.531025550917995,
          10.095811600653025,
          51.63012518592642,
          1.059834514550686,
          -7.623855122175797,
          -7.753152131800827,
          35.25182736823365,
          -1.2074761987360016,
          2.8107711323253226,
          -7.530701831829718,
          16.558436650558402,
          36.03109236303353,
          6.361860804858207,
          -5.458923979087489,
          -13.187104957216395,
          -19.57861246799193,
          -10.530103259648024,
          -1.776058791556486,
          4.452803088679315,
          -5.212617588104979,
          -8.318582024009322,
          -14.524690218444075,
          -27.504038698491346,
          -14.053890086022562,
          -8.415031614551141,
          -15.251570245283116,
          -3.69733792677712,
          5.331400215799386,
          58.793762379561855,
          36.41751488931709,
          -9.193078195295865,
          -10.226572689125986,
          -5.7505655865789125,
          -2.1704159280460393,
          -8.520519018587814,
          3.7516565521730803,
          -7.883728753439601,
          -13.41382794481085,
          -2.0329467337495344,
          -15.56196793290348,
          -11.078816347723368,
          -0.059526029523990526,
          -4.5714576404105305,
          10.516463160565285,
          -4.244921941762483,
          5.735552074296887,
          -6.167094011040851,
          -9.259295397921372,
          -8.68973442964271,
          -9.275870146862664,
          15.425890267706624,
          -13.185050253814747,
          -9.553544319548774,
          -1.588894278078246,
          24.508261186546665,
          9.189109755405713,
          -7.188215890256349,
          -11.1963202216613,
          -8.175804911790456,
          -6.679831873374488,
          -2.535860067717703,
          -4.451073669629204,
          -16.73118572505876,
          24.266020059797498,
          8.130449556224939,
          1.7100573556775913,
          8.92033411356218,
          -13.058283826880885,
          -4.812293096844399,
          -10.229996223962068,
          0.5349074098240212,
          -8.756723111031365,
          4.163162488055388,
          -1.0967289642032647,
          -11.305365635407659,
          1.3882783668811005,
          -4.22842869552922,
          10.351330443795758,
          0.8068696950290812,
          -13.813298892465175,
          -11.46992585963707,
          -5.9064425753235215,
          16.873113924850283,
          27.81009537953356,
          17.15023199752925,
          22.164340097201006,
          -0.3996563997193709,
          5.206123065088719,
          -6.22943925484084,
          -5.923089144009852,
          -4.867705439544285,
          0.07963577715357723,
          -8.291416841194485,
          -7.6186302994348125,
          8.470289897435142,
          9.473190002016775,
          7.510637841257727,
          -7.255030312061558,
          -7.593379303886883,
          12.358084974597826,
          -10.5540152958016,
          5.391361501575981,
          14.533370347154182,
          0.4630369975531666,
          -8.740331907970258,
          -7.104595748581734,
          -4.541136569158687,
          2.33519051132836,
          18.776284558356128,
          18.670819123425385,
          -0.21333080312167543
         ],
         "z": [
          3.1307347048124314,
          6.822835495267985,
          -1.1132229813677603,
          -0.9172570156159457,
          -0.5544220764538567,
          0.9493753343135404,
          2.126942829290759,
          0.04049242022917899,
          3.8809751711362,
          1.5584553269055035,
          -1.8862903746692825,
          0.13033523958243898,
          0.3726148589301781,
          5.675139863234845,
          3.0465299070444685,
          -0.5255109845710316,
          -2.47652734401302,
          -1.9897450127087422,
          -1.9329127593191024,
          4.103746161566875,
          4.033586149690667,
          0.887160840916196,
          2.053713808520309,
          0.7584118315838397,
          -0.3872976607905848,
          -4.278836526584909,
          1.21983445149397,
          0.16469232934214556,
          -0.10338440781075951,
          2.1614982056626917,
          -5.16839627920827,
          -3.2299624131290425,
          1.6808027280199183,
          -1.1716264175970004,
          -0.44767499520541687,
          -1.509791984186951,
          3.719266075471163,
          0.07320060546610797,
          3.0347923708207696,
          6.640550726108924,
          3.3612101270787127,
          -0.8069365283241539,
          2.838968369028409,
          2.3665429800657343,
          2.193165842062909,
          -0.7837581291545935,
          1.9938573800045625,
          2.2273271441802813,
          -0.8559035268130569,
          -0.9638927665023357,
          4.252680542396476,
          -0.29543347718325397,
          3.2253348673124917,
          -0.357931527532076,
          2.004699364162205,
          -2.2920457516604,
          2.3878650381890663,
          0.12928836917025163,
          0.23097851091683586,
          9.947131337767138,
          4.126899332646671,
          3.6617552215439018,
          2.21999884149989,
          2.0857080285211933,
          3.0247446387234387,
          1.895069221949943,
          4.9932359322801165,
          0.6560142273250195,
          3.217792254383268,
          4.99946128119875,
          -0.8110228828001341,
          -3.3355762596312957,
          -2.9311772376189156,
          -9.005075737158652,
          -1.1982546783342458,
          5.007321550644133,
          4.801951375096364,
          3.4401594036205836,
          6.131874734582472,
          -1.3088627653246028,
          3.201314861820311,
          0.8942199036692884,
          -3.397196627503831,
          -2.43010911011648,
          3.0905958793243156,
          3.645455008096163,
          -1.4523108311782549,
          -4.8159312935868686,
          -1.47148702950457,
          -3.0803859615490623,
          2.3435504155541693,
          -0.9727154519195761,
          -0.01055997363103514,
          4.019284914658161,
          3.8437198057476394,
          2.368811543771195,
          0.3231710329592311,
          5.131485634540779,
          1.5397074203801733,
          3.480188977223779,
          2.590309581823764,
          2.2509767061181,
          0.6457357499334231,
          2.0412984683883963,
          -0.26944060999436126,
          -0.012978552046819051,
          1.547246613860729,
          -1.5999728457364657,
          3.0950524791575598,
          0.6490086918742773,
          1.7028908621079872,
          1.0798031835078412,
          0.5340291891297326,
          0.4295837386826433,
          -0.8390443466871075,
          0.34593057020584467,
          0.5577057418652016,
          0.24785618801488715,
          4.609454691510674,
          1.9084831633534785,
          0.6556354295327333,
          -6.485045869937728,
          -4.133342046481044,
          -0.2186550266388126,
          0.3655088712389393,
          0.6398487191912647,
          0.061894557072458306,
          -6.785925299912556,
          -2.207215363184763,
          -1.7368791369547747,
          2.7892495021738424,
          0.23992681020541112,
          -3.8561465240976576,
          -1.3644812992645314,
          1.6758577178581116,
          0.1607301223929318,
          -1.8376558359591793,
          -4.831493112675964,
          -0.17737762526839823,
          -3.703076586415877,
          -1.0096025360789098,
          -1.3413769751850217,
          -2.9629536749922525,
          -0.12287404169145358,
          -0.48108542975832413,
          -1.7968429693435477,
          -0.17093583700294745,
          -3.0006437106280037,
          -2.982826293556555,
          -2.2538996313115796,
          -3.7507492905304587,
          -2.6831192631387726,
          -4.424342787525048,
          -0.7077531625492999,
          -0.7332940172726528,
          -3.8648328232759046,
          -0.7032844576439913,
          -8.753798412442475,
          -7.171313675163066,
          -4.577280887569149,
          -1.855085433730602,
          -0.5491365352489265,
          -1.842872924242458,
          1.012225851264598,
          -3.6633280994633877,
          -3.1040062972136284,
          -4.743612647165987,
          -1.942136043211371,
          -5.857239690699431,
          -5.754956502189537,
          0.9701937431228111,
          -0.8396936183760281,
          -1.960515821904533,
          -2.4747068615945778,
          -4.309930609696322,
          -2.237576509448463,
          -1.7883915219577402,
          -5.630509838777131
         ]
        },
        {
         "marker": {
          "color": [
           0,
           0,
           0,
           0,
           0,
           0,
           0,
           0,
           0,
           0,
           0,
           0,
           0,
           0,
           0,
           0,
           0,
           0,
           0,
           0,
           0,
           0,
           0,
           0,
           0,
           0,
           0,
           0,
           0,
           0,
           0,
           0,
           0,
           0,
           0,
           0,
           0,
           0,
           0,
           0,
           0,
           0,
           0,
           0,
           0,
           0,
           0,
           0,
           0,
           0,
           0,
           0,
           0,
           0,
           0,
           0,
           0,
           0,
           0,
           1,
           1,
           1,
           1,
           1,
           1,
           1,
           1,
           1,
           1,
           1,
           1,
           1,
           1,
           1,
           1,
           1,
           1,
           1,
           1,
           1,
           1,
           1,
           1,
           1,
           1,
           1,
           1,
           1,
           1,
           1,
           1,
           1,
           1,
           1,
           1,
           1,
           1,
           1,
           1,
           1,
           1,
           1,
           1,
           1,
           1,
           1,
           1,
           1,
           1,
           1,
           1,
           1,
           1,
           1,
           1,
           1,
           1,
           1,
           1,
           1,
           1,
           1,
           1,
           1,
           1,
           1,
           1,
           1,
           1,
           1,
           2,
           2,
           2,
           2,
           2,
           2,
           2,
           2,
           2,
           2,
           2,
           2,
           2,
           2,
           2,
           2,
           2,
           2,
           2,
           2,
           2,
           2,
           2,
           2,
           2,
           2,
           2,
           2,
           2,
           2,
           2,
           2,
           2,
           2,
           2,
           2,
           2,
           2,
           2,
           2,
           2,
           2,
           2,
           2,
           2,
           2,
           2,
           2
          ],
          "colorscale": [
           [
            0,
            "#440154"
           ],
           [
            0.1111111111111111,
            "#482878"
           ],
           [
            0.2222222222222222,
            "#3e4989"
           ],
           [
            0.3333333333333333,
            "#31688e"
           ],
           [
            0.4444444444444444,
            "#26828e"
           ],
           [
            0.5555555555555556,
            "#1f9e89"
           ],
           [
            0.6666666666666666,
            "#35b779"
           ],
           [
            0.7777777777777778,
            "#6ece58"
           ],
           [
            0.8888888888888888,
            "#b5de2b"
           ],
           [
            1,
            "#fde725"
           ]
          ],
          "size": 3
         },
         "mode": "markers",
         "scene": "scene2",
         "type": "scatter3d",
         "x": [
          3.316750812214777,
          2.2094649169188503,
          2.516740146610385,
          3.7570656097732096,
          1.0089084937957171,
          3.050253922418082,
          2.449089669596232,
          2.059436871437915,
          2.510874297398988,
          2.7536281876339093,
          3.4797366827312124,
          1.7547529012945884,
          2.1134623403150963,
          3.458156819336723,
          4.3127839067655644,
          2.3051882008279736,
          2.1719552737415144,
          1.8989711765627635,
          3.5419850819434715,
          2.0845222047303142,
          3.1244025351672007,
          1.0865700683322415,
          2.5352240799037156,
          1.6449883412544697,
          1.7615758722693,
          0.9900791016088576,
          1.77527762811337,
          1.2354239643099059,
          2.188406334451962,
          2.256108981283707,
          2.5002200257894276,
          2.6774110474440165,
          1.628579116430919,
          1.902690862238149,
          1.4103885265954068,
          1.9038262321944863,
          1.3848622303748408,
          1.1222074104413107,
          1.5021945006181914,
          2.529801092371813,
          2.588095425854404,
          0.6684819937541878,
          3.0708069904120094,
          0.46220913751600834,
          2.1013519305380157,
          1.13616617756102,
          2.7266009636408044,
          2.8213392741922503,
          2.009850850912359,
          2.7074913042663953,
          3.2149174747738245,
          2.8589598267172946,
          3.5056043559232264,
          2.224791380532175,
          2.146987823563867,
          2.469329483797789,
          2.7415179142774533,
          2.173740920965309,
          3.139380151828997,
          -0.9285819689218588,
          -1.5424801378968822,
          -1.8362497634669421,
          0.030606834086677387,
          2.050261607576315,
          -0.6096808271776243,
          0.9002278387071431,
          2.248507190798393,
          0.18338402668475304,
          -0.8128050273520728,
          1.975620498798552,
          -1.5722162196263008,
          1.6576818088332874,
          -0.725372388035358,
          2.562227173170362,
          1.8325675700495476,
          -0.8679929031954148,
          0.3700144042947795,
          -1.457377044906139,
          1.2629308497284975,
          0.3761503719342409,
          0.762063904109596,
          1.034577967165186,
          -0.49487675568032946,
          -2.538977084295121,
          0.8353201453942973,
          0.7879046149897073,
          -0.8068321559655406,
          -0.5580426248756835,
          -1.1151110419194468,
          -0.5557228299517035,
          -1.3492852824437325,
          -1.5644826057199073,
          -1.932555610631466,
          0.7466659419884487,
          0.9574553638036404,
          2.543865184199554,
          -0.543952588776229,
          1.0310497503881468,
          2.2519094221481244,
          1.4102160153374597,
          0.7977197926930398,
          -0.5495317266494677,
          -0.1611737399485456,
          -0.6597949416843618,
          0.3923544081850808,
          -1.772499077960036,
          -0.3662673573520666,
          -1.6206725727874811,
          0.08253578349332556,
          1.578275070932382,
          1.420569247824018,
          -0.2787027536488559,
          -1.3031449662482792,
          -0.4570718656526257,
          -0.49418584704437657,
          0.48207440977309096,
          -0.25288887765320217,
          -0.10722763772912568,
          -2.4330126025502192,
          -0.5510895391746513,
          0.7396219285682223,
          1.3363217334183322,
          -1.1770869962477724,
          -0.46233500801967875,
          0.9784740793566495,
          -0.09680972631598667,
          0.038487145949024165,
          -1.5971585012074712,
          -0.47956491608312646,
          -1.7928334730311435,
          -1.327101656141602,
          -2.384500834743531,
          -2.9369401021466133,
          -2.146811133816064,
          -2.3698694883330433,
          -3.063841568720354,
          -3.915753783711889,
          -3.936463390715961,
          -3.0942761177622757,
          -2.374471628006923,
          -2.778812947632515,
          -2.286561284738471,
          -2.985633487449467,
          -2.375194698227107,
          -2.2098655255958706,
          -2.625621004692721,
          -4.280638778751087,
          -3.582641372001103,
          -2.8070637200816586,
          -2.899659333023911,
          -2.320736976549204,
          -2.5498309472261362,
          -1.8125412848422986,
          -2.76014464192395,
          -2.7371505006679917,
          -3.6048688681834222,
          -2.889825996873507,
          -3.3921560768357195,
          -1.0481818968536771,
          -1.6099122828479346,
          -3.1431309667439735,
          -2.2401568962695437,
          -2.8476737761195197,
          -2.5974970566487636,
          -2.949299373134845,
          -3.5300322663493127,
          -2.4061105404785508,
          -2.929084726967455,
          -2.18141277881262,
          -2.380927787135638,
          -3.211617215041248,
          -3.677918720973818,
          -2.46555579804045,
          -3.3705241454428587,
          -2.6019558512247367,
          -2.677839460864501,
          -2.3870170912797186,
          -3.208758164198021
         ],
         "y": [
          -1.4434626343180046,
          0.33339288708029907,
          -1.0311512962743192,
          -2.756371913710711,
          -0.8698308214172026,
          -2.12240111463419,
          -1.1748501316494735,
          -1.6089630683635059,
          -0.9180709573337771,
          -0.7894376738336067,
          -1.3023332371235934,
          -0.6119772287456317,
          -0.6757063391426189,
          -1.1306298761729365,
          -2.095975575341261,
          -1.662551729989056,
          -2.327305336191417,
          -1.6313688786428369,
          -2.5183436693066463,
          -1.0611379935838592,
          -0.7868971056508928,
          -0.24174355133283887,
          0.09184062072088071,
          0.5162789300672347,
          0.317148932684382,
          -0.940667338190631,
          -0.6861751342850242,
          0.08980704136063912,
          -0.6895696206616231,
          -0.19146193688666494,
          -1.2408338348969412,
          -1.4718736461032487,
          -0.0527044505753229,
          -1.633060434769982,
          -0.6979343246113558,
          -0.1767109510954552,
          -0.658639853661149,
          -0.11410976029688866,
          0.7694320064310075,
          -1.8030019760618257,
          -0.7796163041925064,
          -0.16996094061987496,
          -1.1559189566098826,
          -0.3307421321922742,
          0.07100892095406697,
          -1.777107392977636,
          -1.191334691957182,
          -0.6462585991417032,
          -1.2470294606787589,
          -1.751967407206337,
          -0.16699199499679226,
          -0.745278803989588,
          -1.6127338560350108,
          -1.8751679995630244,
          -1.0167515377576588,
          -1.3290083106496202,
          -1.4365487835125132,
          -1.2121998406977945,
          -1.7315791159925122,
          3.0734861631889236,
          1.3814435080942262,
          0.8299841230557158,
          1.2627861442114021,
          1.9250326046501003,
          1.908058805085187,
          0.7639114736096088,
          1.8845924845501318,
          2.427146114703569,
          0.22051398690226853,
          1.4032832253096157,
          0.8849831369082206,
          0.9567121974591515,
          1.0636454007060951,
          -0.26019855065459296,
          1.2878781978605252,
          2.444101185580861,
          2.153906975156987,
          1.3833517690762585,
          0.7708495299701172,
          1.0270434033558238,
          3.375053809963534,
          1.450709738244091,
          2.381243526767369,
          0.08744335730498237,
          1.4736705514008672,
          2.0266265224624767,
          2.2338303908439108,
          2.372985428849454,
          1.802247191665452,
          2.657540035392291,
          2.1180014697848164,
          1.8522145217655497,
          1.5594954568986201,
          2.3129317092207398,
          2.2235284346674598,
          -0.16927402279973802,
          0.368926545877318,
          2.5655693487335225,
          1.4327413803542544,
          2.166191769370384,
          2.37694880308186,
          2.2931286432456246,
          1.1644833215600159,
          2.679961185989634,
          2.0987317087655355,
          1.717288469376142,
          2.1693532978292813,
          1.3555833880259562,
          2.3062345877483246,
          1.4620342902048165,
          1.41820663763375,
          1.9305680886704677,
          0.7631723136577914,
          2.269415607589673,
          1.9390450494868317,
          3.8717838484072367,
          2.821492374701591,
          1.9289220425669593,
          1.2571410404943917,
          2.2221615507766206,
          1.4089566673657117,
          -0.2533369311683025,
          0.663966839801573,
          0.6182881794850432,
          1.4455704988958276,
          2.1099979931352246,
          1.266762109157885,
          1.208143574128486,
          1.9388406603940482,
          1.1502881044421043,
          -0.1703892320490281,
          -0.3745826055246937,
          -0.2638618300683805,
          -0.36825495188646107,
          0.4596348092311638,
          -0.353412835458405,
          -0.15458251944173368,
          -0.6596872334097819,
          -0.3488427592737969,
          -0.2919803515599939,
          -0.28680487288217477,
          -0.3725078446852996,
          -0.48921790834701157,
          -0.4823337172448772,
          -1.160052504157644,
          -0.5631607642108346,
          -0.649670964023706,
          -1.2727027497273014,
          -1.5705337870411977,
          -2.0410570079384636,
          -2.356366075556673,
          -2.0452830910195234,
          -1.5276459462687493,
          -2.138932347642612,
          -0.40988627088179236,
          -1.8023842175839666,
          -1.9252186131303424,
          -1.3118763884735958,
          -3.5150896912197283,
          -2.406638159574328,
          -0.7381610441757985,
          -1.1754652881188639,
          -0.5560439658826741,
          -0.6979655372009199,
          -1.5553089642839837,
          -0.8825267962042359,
          -2.5923561750423962,
          -1.2744469479044835,
          -2.0775373127345147,
          -2.588667432418588,
          0.2512491044255899,
          -0.8477478441497649,
          -2.1937983036540927,
          -2.216289139861136,
          -1.7572293509792736,
          -2.760899131674546,
          -2.2973466797128186,
          -2.7689195660475723
         ],
         "z": [
          -0.16573904461441885,
          -2.026457373807536,
          0.9828186702120623,
          -0.17619184219949144,
          2.0266882192354077,
          -0.6293958270439116,
          -0.9770948907141953,
          0.14628188306155882,
          -1.7709690272289413,
          -0.9842474895182357,
          -0.42273521658084584,
          -1.190878319630174,
          -0.8650864256166536,
          -1.2042763525381888,
          -1.2639127523579978,
          0.21790261559595797,
          0.8317298659860074,
          0.7949137923810701,
          -0.4854585076662916,
          -0.1647466784994737,
          -0.36488708298884626,
          0.9369615996106451,
          -0.31193265934796943,
          0.14388509467079463,
          0.8902856474056888,
          3.820908008194836,
          -0.0867004064887629,
          -1.3868965448964365,
          1.394566880850359,
          -1.0926572575082931,
          1.3860178547156785,
          -0.33226172837509377,
          -0.1671287062453338,
          1.1720821191753446,
          0.479743025168661,
          0.4508350400372086,
          0.45843858085206163,
          -0.0391072766897495,
          -1.4261773458904614,
          -0.34315238897969025,
          -0.11847746611373595,
          -0.7833625480611438,
          -0.312758083934154,
          -0.20147649625677075,
          -0.6558494150434345,
          0.028705735784753026,
          -0.5397732611476712,
          -1.1555524107274069,
          -0.05729398793992199,
          -0.6431136120007935,
          -1.973571679901372,
          0.004719502164697596,
          -0.520774530076174,
          0.339549850354209,
          -0.9577627619503276,
          0.5134374530359691,
          -0.6124733957169582,
          0.2617795927707903,
          -0.2856614126164493,
          -4.5850640071482065,
          -0.87468311244581,
          -1.6057021863206196,
          -1.7844080104188553,
          -0.00736877734981729,
          0.6793579379775346,
          0.5733613020971907,
          -2.0318401928675853,
          -1.0697455602477983,
          -0.707005395800968,
          -1.238276219684867,
          -0.6289979502315961,
          1.9525842166061977,
          0.08033222861543614,
          3.374393962239754,
          0.4582800273995565,
          -1.5633331789503793,
          -2.449386348303738,
          -0.22730690232730588,
          -1.1842245173752441,
          1.7944662945426593,
          -0.3574700555394656,
          -0.36301177316396077,
          1.335743176284865,
          0.47425139276914846,
          0.6100935756921047,
          -0.25472340396955107,
          0.7728557971982635,
          2.307611404012002,
          0.9592533076886528,
          0.8491268977432243,
          -0.04765232084869266,
          0.7810670309346306,
          -0.08927467610867912,
          0.11467976874541606,
          0.14244477369872494,
          0.7886969907454735,
          1.308895931856856,
          -1.086390173817739,
          -0.23020824379781463,
          0.7488964107708801,
          -1.5681125312755262,
          -1.4989353232010787,
          1.0037131028373552,
          -0.7649208684795146,
          -0.4718500076097387,
          0.9470331744608655,
          -0.4813242347422907,
          0.287159000695616,
          -0.4635749893739545,
          1.7796459547332817,
          0.13927582948819123,
          0.07867055304723383,
          1.999596510486854,
          1.0613389675926632,
          1.3239380723766918,
          1.3442712233930714,
          -0.3026397845306412,
          0.6901482425075105,
          -1.9030274044113487,
          -0.3562288302125351,
          1.1253454920042354,
          5.345388179195741,
          3.0102218879464293,
          0.4834423663441837,
          1.4812369749959473,
          0.43482611561678824,
          0.6875779128728084,
          3.361175555386425,
          1.2965075188296682,
          0.7828001731822654,
          -1.1800133553094876,
          -0.7238225948116628,
          -0.1676398159837221,
          -0.4533013014691862,
          -1.101399788592058,
          -1.0991241041153397,
          0.2218277998410477,
          1.712215419214537,
          -1.0268314134224488,
          1.2419143328305633,
          0.6096701239723721,
          -0.9716430323608535,
          0.9469529317999698,
          -0.2528839940533316,
          -1.2451252259210643,
          -0.8559610818033767,
          -1.4581969616385648,
          -0.11078403762472566,
          -0.47252793457208575,
          -0.4959598102350926,
          0.43768174361876133,
          -0.31226799865093124,
          1.3625897815878691,
          -0.9646286882006778,
          -1.1904046839669857,
          -0.09403686133597068,
          -0.7823225555084455,
          1.6020259689000202,
          1.1600385659132277,
          0.5485596972407103,
          -0.09099872392222215,
          -0.10137693249612094,
          0.8042152181010286,
          -0.8849395211306326,
          -0.9834007272249402,
          -0.46602912777853805,
          0.42822621079957834,
          -1.213358271505147,
          0.763782551558119,
          1.418044029496814,
          -0.8471291521285012,
          -1.3394202310855157,
          -0.9187809604264889,
          -0.3425695124143203,
          0.20758135498125174,
          -0.9409418766769935,
          -0.550696197011087,
          1.0139136641131152
         ]
        }
       ],
       "layout": {
        "annotations": [
         {
          "font": {
           "size": 16
          },
          "showarrow": false,
          "text": "Wine reduced to 3D",
          "x": 0.2475,
          "xanchor": "center",
          "xref": "paper",
          "y": 1,
          "yanchor": "bottom",
          "yref": "paper"
         },
         {
          "font": {
           "size": 16
          },
          "showarrow": false,
          "text": "Wine scaled & reduced to 3D",
          "x": 0.7525,
          "xanchor": "center",
          "xref": "paper",
          "y": 1,
          "yanchor": "bottom",
          "yref": "paper"
         }
        ],
        "autosize": false,
        "height": 500,
        "margin": {
         "b": 0,
         "l": 0,
         "r": 0,
         "t": 30
        },
        "scene": {
         "aspectmode": "cube",
         "aspectratio": {
          "x": 1,
          "y": 1,
          "z": 1
         },
         "domain": {
          "x": [
           0,
           0.495
          ],
          "y": [
           0,
           1
          ]
         },
         "xaxis": {
          "title": {
           "text": "PC1"
          },
          "type": "linear"
         },
         "yaxis": {
          "title": {
           "text": "PC2"
          },
          "type": "linear"
         },
         "zaxis": {
          "title": {
           "text": "PC3"
          },
          "type": "linear"
         }
        },
        "scene2": {
         "aspectmode": "cube",
         "aspectratio": {
          "x": 1,
          "y": 1,
          "z": 1
         },
         "domain": {
          "x": [
           0.505,
           1
          ],
          "y": [
           0,
           1
          ]
         },
         "xaxis": {
          "title": {
           "text": "PC1"
          },
          "type": "linear"
         },
         "yaxis": {
          "title": {
           "text": "PC2"
          },
          "type": "linear"
         },
         "zaxis": {
          "title": {
           "text": "PC3"
          },
          "type": "linear"
         }
        },
        "showlegend": false,
        "template": {
         "data": {
          "bar": [
           {
            "error_x": {
             "color": "rgb(51,51,51)"
            },
            "error_y": {
             "color": "rgb(51,51,51)"
            },
            "marker": {
             "line": {
              "color": "rgb(237,237,237)",
              "width": 0.5
             }
            },
            "type": "bar"
           }
          ],
          "barpolar": [
           {
            "marker": {
             "line": {
              "color": "rgb(237,237,237)",
              "width": 0.5
             }
            },
            "type": "barpolar"
           }
          ],
          "carpet": [
           {
            "aaxis": {
             "endlinecolor": "rgb(51,51,51)",
             "gridcolor": "white",
             "linecolor": "white",
             "minorgridcolor": "white",
             "startlinecolor": "rgb(51,51,51)"
            },
            "baxis": {
             "endlinecolor": "rgb(51,51,51)",
             "gridcolor": "white",
             "linecolor": "white",
             "minorgridcolor": "white",
             "startlinecolor": "rgb(51,51,51)"
            },
            "type": "carpet"
           }
          ],
          "choropleth": [
           {
            "colorbar": {
             "outlinewidth": 0,
             "tickcolor": "rgb(237,237,237)",
             "ticklen": 6,
             "ticks": "inside"
            },
            "type": "choropleth"
           }
          ],
          "contour": [
           {
            "colorbar": {
             "outlinewidth": 0,
             "tickcolor": "rgb(237,237,237)",
             "ticklen": 6,
             "ticks": "inside"
            },
            "colorscale": [
             [
              0,
              "rgb(20,44,66)"
             ],
             [
              1,
              "rgb(90,179,244)"
             ]
            ],
            "type": "contour"
           }
          ],
          "contourcarpet": [
           {
            "colorbar": {
             "outlinewidth": 0,
             "tickcolor": "rgb(237,237,237)",
             "ticklen": 6,
             "ticks": "inside"
            },
            "type": "contourcarpet"
           }
          ],
          "heatmap": [
           {
            "colorbar": {
             "outlinewidth": 0,
             "tickcolor": "rgb(237,237,237)",
             "ticklen": 6,
             "ticks": "inside"
            },
            "colorscale": [
             [
              0,
              "rgb(20,44,66)"
             ],
             [
              1,
              "rgb(90,179,244)"
             ]
            ],
            "type": "heatmap"
           }
          ],
          "heatmapgl": [
           {
            "colorbar": {
             "outlinewidth": 0,
             "tickcolor": "rgb(237,237,237)",
             "ticklen": 6,
             "ticks": "inside"
            },
            "colorscale": [
             [
              0,
              "rgb(20,44,66)"
             ],
             [
              1,
              "rgb(90,179,244)"
             ]
            ],
            "type": "heatmapgl"
           }
          ],
          "histogram": [
           {
            "marker": {
             "colorbar": {
              "outlinewidth": 0,
              "tickcolor": "rgb(237,237,237)",
              "ticklen": 6,
              "ticks": "inside"
             }
            },
            "type": "histogram"
           }
          ],
          "histogram2d": [
           {
            "colorbar": {
             "outlinewidth": 0,
             "tickcolor": "rgb(237,237,237)",
             "ticklen": 6,
             "ticks": "inside"
            },
            "colorscale": [
             [
              0,
              "rgb(20,44,66)"
             ],
             [
              1,
              "rgb(90,179,244)"
             ]
            ],
            "type": "histogram2d"
           }
          ],
          "histogram2dcontour": [
           {
            "colorbar": {
             "outlinewidth": 0,
             "tickcolor": "rgb(237,237,237)",
             "ticklen": 6,
             "ticks": "inside"
            },
            "colorscale": [
             [
              0,
              "rgb(20,44,66)"
             ],
             [
              1,
              "rgb(90,179,244)"
             ]
            ],
            "type": "histogram2dcontour"
           }
          ],
          "mesh3d": [
           {
            "colorbar": {
             "outlinewidth": 0,
             "tickcolor": "rgb(237,237,237)",
             "ticklen": 6,
             "ticks": "inside"
            },
            "type": "mesh3d"
           }
          ],
          "parcoords": [
           {
            "line": {
             "colorbar": {
              "outlinewidth": 0,
              "tickcolor": "rgb(237,237,237)",
              "ticklen": 6,
              "ticks": "inside"
             }
            },
            "type": "parcoords"
           }
          ],
          "pie": [
           {
            "automargin": true,
            "type": "pie"
           }
          ],
          "scatter": [
           {
            "marker": {
             "colorbar": {
              "outlinewidth": 0,
              "tickcolor": "rgb(237,237,237)",
              "ticklen": 6,
              "ticks": "inside"
             }
            },
            "type": "scatter"
           }
          ],
          "scatter3d": [
           {
            "line": {
             "colorbar": {
              "outlinewidth": 0,
              "tickcolor": "rgb(237,237,237)",
              "ticklen": 6,
              "ticks": "inside"
             }
            },
            "marker": {
             "colorbar": {
              "outlinewidth": 0,
              "tickcolor": "rgb(237,237,237)",
              "ticklen": 6,
              "ticks": "inside"
             }
            },
            "type": "scatter3d"
           }
          ],
          "scattercarpet": [
           {
            "marker": {
             "colorbar": {
              "outlinewidth": 0,
              "tickcolor": "rgb(237,237,237)",
              "ticklen": 6,
              "ticks": "inside"
             }
            },
            "type": "scattercarpet"
           }
          ],
          "scattergeo": [
           {
            "marker": {
             "colorbar": {
              "outlinewidth": 0,
              "tickcolor": "rgb(237,237,237)",
              "ticklen": 6,
              "ticks": "inside"
             }
            },
            "type": "scattergeo"
           }
          ],
          "scattergl": [
           {
            "marker": {
             "colorbar": {
              "outlinewidth": 0,
              "tickcolor": "rgb(237,237,237)",
              "ticklen": 6,
              "ticks": "inside"
             }
            },
            "type": "scattergl"
           }
          ],
          "scattermapbox": [
           {
            "marker": {
             "colorbar": {
              "outlinewidth": 0,
              "tickcolor": "rgb(237,237,237)",
              "ticklen": 6,
              "ticks": "inside"
             }
            },
            "type": "scattermapbox"
           }
          ],
          "scatterpolar": [
           {
            "marker": {
             "colorbar": {
              "outlinewidth": 0,
              "tickcolor": "rgb(237,237,237)",
              "ticklen": 6,
              "ticks": "inside"
             }
            },
            "type": "scatterpolar"
           }
          ],
          "scatterpolargl": [
           {
            "marker": {
             "colorbar": {
              "outlinewidth": 0,
              "tickcolor": "rgb(237,237,237)",
              "ticklen": 6,
              "ticks": "inside"
             }
            },
            "type": "scatterpolargl"
           }
          ],
          "scatterternary": [
           {
            "marker": {
             "colorbar": {
              "outlinewidth": 0,
              "tickcolor": "rgb(237,237,237)",
              "ticklen": 6,
              "ticks": "inside"
             }
            },
            "type": "scatterternary"
           }
          ],
          "surface": [
           {
            "colorbar": {
             "outlinewidth": 0,
             "tickcolor": "rgb(237,237,237)",
             "ticklen": 6,
             "ticks": "inside"
            },
            "colorscale": [
             [
              0,
              "rgb(20,44,66)"
             ],
             [
              1,
              "rgb(90,179,244)"
             ]
            ],
            "type": "surface"
           }
          ],
          "table": [
           {
            "cells": {
             "fill": {
              "color": "rgb(237,237,237)"
             },
             "line": {
              "color": "white"
             }
            },
            "header": {
             "fill": {
              "color": "rgb(217,217,217)"
             },
             "line": {
              "color": "white"
             }
            },
            "type": "table"
           }
          ]
         },
         "layout": {
          "annotationdefaults": {
           "arrowhead": 0,
           "arrowwidth": 1
          },
          "coloraxis": {
           "colorbar": {
            "outlinewidth": 0,
            "tickcolor": "rgb(237,237,237)",
            "ticklen": 6,
            "ticks": "inside"
           }
          },
          "colorscale": {
           "sequential": [
            [
             0,
             "rgb(20,44,66)"
            ],
            [
             1,
             "rgb(90,179,244)"
            ]
           ],
           "sequentialminus": [
            [
             0,
             "rgb(20,44,66)"
            ],
            [
             1,
             "rgb(90,179,244)"
            ]
           ]
          },
          "colorway": [
           "#F8766D",
           "#A3A500",
           "#00BF7D",
           "#00B0F6",
           "#E76BF3"
          ],
          "font": {
           "color": "rgb(51,51,51)"
          },
          "geo": {
           "bgcolor": "white",
           "lakecolor": "white",
           "landcolor": "rgb(237,237,237)",
           "showlakes": true,
           "showland": true,
           "subunitcolor": "white"
          },
          "hoverlabel": {
           "align": "left"
          },
          "hovermode": "closest",
          "paper_bgcolor": "white",
          "plot_bgcolor": "rgb(237,237,237)",
          "polar": {
           "angularaxis": {
            "gridcolor": "white",
            "linecolor": "white",
            "showgrid": true,
            "tickcolor": "rgb(51,51,51)",
            "ticks": "outside"
           },
           "bgcolor": "rgb(237,237,237)",
           "radialaxis": {
            "gridcolor": "white",
            "linecolor": "white",
            "showgrid": true,
            "tickcolor": "rgb(51,51,51)",
            "ticks": "outside"
           }
          },
          "scene": {
           "xaxis": {
            "backgroundcolor": "rgb(237,237,237)",
            "gridcolor": "white",
            "gridwidth": 2,
            "linecolor": "white",
            "showbackground": true,
            "showgrid": true,
            "tickcolor": "rgb(51,51,51)",
            "ticks": "outside",
            "zerolinecolor": "white"
           },
           "yaxis": {
            "backgroundcolor": "rgb(237,237,237)",
            "gridcolor": "white",
            "gridwidth": 2,
            "linecolor": "white",
            "showbackground": true,
            "showgrid": true,
            "tickcolor": "rgb(51,51,51)",
            "ticks": "outside",
            "zerolinecolor": "white"
           },
           "zaxis": {
            "backgroundcolor": "rgb(237,237,237)",
            "gridcolor": "white",
            "gridwidth": 2,
            "linecolor": "white",
            "showbackground": true,
            "showgrid": true,
            "tickcolor": "rgb(51,51,51)",
            "ticks": "outside",
            "zerolinecolor": "white"
           }
          },
          "shapedefaults": {
           "fillcolor": "black",
           "line": {
            "width": 0
           },
           "opacity": 0.3
          },
          "ternary": {
           "aaxis": {
            "gridcolor": "white",
            "linecolor": "white",
            "showgrid": true,
            "tickcolor": "rgb(51,51,51)",
            "ticks": "outside"
           },
           "baxis": {
            "gridcolor": "white",
            "linecolor": "white",
            "showgrid": true,
            "tickcolor": "rgb(51,51,51)",
            "ticks": "outside"
           },
           "bgcolor": "rgb(237,237,237)",
           "caxis": {
            "gridcolor": "white",
            "linecolor": "white",
            "showgrid": true,
            "tickcolor": "rgb(51,51,51)",
            "ticks": "outside"
           }
          },
          "xaxis": {
           "automargin": true,
           "gridcolor": "white",
           "linecolor": "white",
           "showgrid": true,
           "tickcolor": "rgb(51,51,51)",
           "ticks": "outside",
           "title": {
            "standoff": 15
           },
           "zerolinecolor": "white"
          },
          "yaxis": {
           "automargin": true,
           "gridcolor": "white",
           "linecolor": "white",
           "showgrid": true,
           "tickcolor": "rgb(51,51,51)",
           "ticks": "outside",
           "title": {
            "standoff": 15
           },
           "zerolinecolor": "white"
          }
         }
        },
        "width": 1000
       }
      },
      "image/png": "[encoded data removed]",
      "text/html": [
       "<div>\n",
       "        \n",
       "        \n",
       "            <div id=\"d76f28d3-0b89-498d-88d1-629a4403d425\" class=\"plotly-graph-div\" style=\"height:500px; width:1000px;\"></div>\n",
       "            <script type=\"text/javascript\">\n",
       "                require([\"plotly\"], function(Plotly) {\n",
       "                    window.PLOTLYENV=window.PLOTLYENV || {};\n",
       "                    \n",
       "                if (document.getElementById(\"d76f28d3-0b89-498d-88d1-629a4403d425\")) {\n",
       "                    Plotly.newPlot(\n",
       "                        'd76f28d3-0b89-498d-88d1-629a4403d425',\n",
       "                        [{\"marker\": {\"color\": [0, 0, 0, 0, 0, 0, 0, 0, 0, 0, 0, 0, 0, 0, 0, 0, 0, 0, 0, 0, 0, 0, 0, 0, 0, 0, 0, 0, 0, 0, 0, 0, 0, 0, 0, 0, 0, 0, 0, 0, 0, 0, 0, 0, 0, 0, 0, 0, 0, 0, 0, 0, 0, 0, 0, 0, 0, 0, 0, 1, 1, 1, 1, 1, 1, 1, 1, 1, 1, 1, 1, 1, 1, 1, 1, 1, 1, 1, 1, 1, 1, 1, 1, 1, 1, 1, 1, 1, 1, 1, 1, 1, 1, 1, 1, 1, 1, 1, 1, 1, 1, 1, 1, 1, 1, 1, 1, 1, 1, 1, 1, 1, 1, 1, 1, 1, 1, 1, 1, 1, 1, 1, 1, 1, 1, 1, 1, 1, 1, 1, 2, 2, 2, 2, 2, 2, 2, 2, 2, 2, 2, 2, 2, 2, 2, 2, 2, 2, 2, 2, 2, 2, 2, 2, 2, 2, 2, 2, 2, 2, 2, 2, 2, 2, 2, 2, 2, 2, 2, 2, 2, 2, 2, 2, 2, 2, 2, 2], \"colorscale\": [[0.0, \"#440154\"], [0.1111111111111111, \"#482878\"], [0.2222222222222222, \"#3e4989\"], [0.3333333333333333, \"#31688e\"], [0.4444444444444444, \"#26828e\"], [0.5555555555555556, \"#1f9e89\"], [0.6666666666666666, \"#35b779\"], [0.7777777777777778, \"#6ece58\"], [0.8888888888888888, \"#b5de2b\"], [1.0, \"#fde725\"]], \"size\": 3}, \"mode\": \"markers\", \"scene\": \"scene\", \"type\": \"scatter3d\", \"x\": [318.5629792879365, 303.0974196593862, 438.06113291723614, 733.2401393508106, -11.571428495905954, 703.2311917377222, 542.9715808665927, 548.4018598404369, 298.03686280061186, 298.04955313546816, 763.0797119412471, 532.943227731998, 572.8344103911644, 402.9253582860968, 800.0533938569715, 563.2455779988175, 533.3796506359128, 383.31759107727527, 933.1183874996058, 98.40317747596005, 33.59359400185373, 23.14643754027097, 288.0930302174046, 267.9815125349914, 98.01988577277822, 83.49874396134186, 447.9255962223425, 537.9191650213772, 168.21046760464964, 288.0082470812646, 538.0264521021908, 768.0929388553869, 243.15075090189163, 488.6012800452355, 348.23100699681953, 173.07995742609643, 133.28642354659135, 358.0185591752664, 273.0444315214037, 13.643002113365204, 48.42964224993001, 287.8840921689911, 348.09534818044665, -66.81465538610283, 138.22700988344212, 333.25480582916634, 318.1118484666387, 238.11148507872267, 313.1199153878398, 513.1877480212281, 402.93901715897334, 517.9289632654716, 443.2664112949329, 628.2860709851128, 313.3976126756323, 373.33329122238007, 223.41710635795033, 523.0728513966158, 538.1820973229432, -227.0326904524968, -66.85012199724915, -296.8244368914156, -116.97047258185783, -327.05912559515144, -391.7524864360501, -68.90576044269486, -245.212523977079, -237.2414102925167, 3.2961559909800395, -27.966120730539263, 123.13013830856292, -337.1041224880131, -275.0960258796874, 238.71675654886133, 139.09405663995804, -318.8763289023296, -355.0602525141371, -246.633597451916, 3.7716896555328105, -283.8422476447662, -469.0593503092665, -33.13133924615621, -117.29039200980701, -232.13298838412305, -226.95329942011867, -296.85215173438576, -252.04639192844036, -185.10885737349258, -67.18075184447459, -122.43132640120474, -267.1853332030438, -297.10441467528625, -252.21388507177025, -457.0222149421968, -401.85127408999614, 191.18339677250677, -121.27917775374159, -319.0882728046859, -87.08029256129834, -341.0409001673491, -36.93161455099824, -185.07371349407907, -308.88238661249596, -332.0892963829008, -75.1531377520264, -432.00974192285355, -237.20669708725688, -259.14836773379614, -434.9577801123811, -66.9906957701296, -184.73643852532706, -422.042873624879, -139.8186631613139, -313.06094816289715, -362.1296331136066, -340.1150062142457, -252.10947206109927, -401.69597348176717, -375.17109236646644, -183.09792918191033, -121.94524134844445, -281.5345691197325, -381.8267782342637, -367.0893800459942, -367.15717469661234, -369.1036009666214, -395.0788364569407, -281.030368709101, -405.06128780288554, -167.23764181767572, -116.47300035905566, -216.7845399781076, -186.9151119656017, -146.7695296248623, -97.13297359792644, -51.98204686718351, -27.09793074985338, -231.95153407062097, -167.07624576452397, -156.8680445428576, -146.94648958055137, 32.90429274889572, -226.92620968566476, -197.00434749401984, 108.31267730325982, 83.11826261248201, -332.19583999008904, -122.12609208783446, -97.01938926807351, -196.62480660405083, -246.4491992318414, -266.6287880497013, -321.57074093518065, -71.89765870622593, -106.81661780127227, -22.020256798528916, -267.03173230557616, 132.99984125218964, -86.91399859078021, -127.06128965116436, -227.0688357517346, -66.75543117637739, -176.76509842511706, -71.76839793240195, -132.04824836043468, -227.0778445532603, -51.68950645984451, -62.08501112430402, 3.1827646534930305, -116.67481804945264, -236.92120794183774, -277.08357825603923, -87.02740263137345, -6.980210958028627, 3.1316046787553815, 88.45807368612955, 93.45624185410918, -186.94319027310937], \"y\": [21.49213073453999, -5.364717683064025, -6.537309449440059, 0.19272903207213463, 18.48999460836036, -0.332158674253281, -13.518966641596878, 11.449432383558477, -8.18015783540833, -7.101542937561728, -8.334317226298749, -14.28763377047139, -21.005014330071106, -16.102635218597193, -12.118447191589329, 2.2148286640862658, 10.804802233662494, 8.477419817562927, -8.354478439743355, 14.392659413302267, 25.567956497752526, 1.8174730862651105, -3.9630417496650234, -9.570704013405841, -5.495846062188414, 22.8916215499594, -14.797331250759305, -15.38834606502354, 4.255310963149653, -8.959731549015741, -8.212738820938178, -7.379897374639952, -0.14391492761480645, 23.56532504324064, 4.038080148998218, -2.7929216497768654, 7.772729575349438, -8.157984118124054, -6.725074307758908, 27.846832147749087, 16.321949760522187, -14.885118535217169, -5.043426088455583, 4.384829918309579, 4.730688359804041, 5.319331158248506, -3.4869449391169307, -3.051521001293944, -2.3053631635876326, -0.8637592352155229, -15.053302848806691, -14.997554888546457, 3.2605020440732755, 4.04114538079589, 12.608913514882232, 9.664198626315429, 14.21689241173699, -7.096625255912914, -1.356780128101634, -7.9949679691344695, 2.31986653622257, 5.46847569800989, -3.726383423155147, -6.948130808142174, 11.171678256222837, -0.5586205371242082, -17.49363929942054, -17.531025550917995, 10.095811600653025, 51.63012518592642, 1.059834514550686, -7.623855122175797, -7.753152131800827, 35.25182736823365, -1.2074761987360016, 2.8107711323253226, -7.530701831829718, 16.558436650558402, 36.03109236303353, 6.361860804858207, -5.458923979087489, -13.187104957216395, -19.57861246799193, -10.530103259648024, -1.776058791556486, 4.452803088679315, -5.212617588104979, -8.318582024009322, -14.524690218444075, -27.504038698491346, -14.053890086022562, -8.415031614551141, -15.251570245283116, -3.69733792677712, 5.331400215799386, 58.793762379561855, 36.41751488931709, -9.193078195295865, -10.226572689125986, -5.7505655865789125, -2.1704159280460393, -8.520519018587814, 3.7516565521730803, -7.883728753439601, -13.41382794481085, -2.0329467337495344, -15.56196793290348, -11.078816347723368, -0.059526029523990526, -4.5714576404105305, 10.516463160565285, -4.244921941762483, 5.735552074296887, -6.167094011040851, -9.259295397921372, -8.68973442964271, -9.275870146862664, 15.425890267706624, -13.185050253814747, -9.553544319548774, -1.588894278078246, 24.508261186546665, 9.189109755405713, -7.188215890256349, -11.1963202216613, -8.175804911790456, -6.679831873374488, -2.535860067717703, -4.451073669629204, -16.73118572505876, 24.266020059797498, 8.130449556224939, 1.7100573556775913, 8.92033411356218, -13.058283826880885, -4.812293096844399, -10.229996223962068, 0.5349074098240212, -8.756723111031365, 4.163162488055388, -1.0967289642032647, -11.305365635407659, 1.3882783668811005, -4.22842869552922, 10.351330443795758, 0.8068696950290812, -13.813298892465175, -11.46992585963707, -5.9064425753235215, 16.873113924850283, 27.81009537953356, 17.15023199752925, 22.164340097201006, -0.3996563997193709, 5.206123065088719, -6.22943925484084, -5.923089144009852, -4.867705439544285, 0.07963577715357723, -8.291416841194485, -7.6186302994348125, 8.470289897435142, 9.473190002016775, 7.510637841257727, -7.255030312061558, -7.593379303886883, 12.358084974597826, -10.5540152958016, 5.391361501575981, 14.533370347154182, 0.4630369975531666, -8.740331907970258, -7.104595748581734, -4.541136569158687, 2.33519051132836, 18.776284558356128, 18.670819123425385, -0.21333080312167543], \"z\": [3.1307347048124314, 6.822835495267985, -1.1132229813677603, -0.9172570156159457, -0.5544220764538567, 0.9493753343135404, 2.126942829290759, 0.04049242022917899, 3.8809751711362, 1.5584553269055035, -1.8862903746692825, 0.13033523958243898, 0.3726148589301781, 5.675139863234845, 3.0465299070444685, -0.5255109845710316, -2.47652734401302, -1.9897450127087422, -1.9329127593191024, 4.103746161566875, 4.033586149690667, 0.887160840916196, 2.053713808520309, 0.7584118315838397, -0.3872976607905848, -4.278836526584909, 1.21983445149397, 0.16469232934214556, -0.10338440781075951, 2.1614982056626917, -5.16839627920827, -3.2299624131290425, 1.6808027280199183, -1.1716264175970004, -0.44767499520541687, -1.509791984186951, 3.719266075471163, 0.07320060546610797, 3.0347923708207696, 6.640550726108924, 3.3612101270787127, -0.8069365283241539, 2.838968369028409, 2.3665429800657343, 2.193165842062909, -0.7837581291545935, 1.9938573800045625, 2.2273271441802813, -0.8559035268130569, -0.9638927665023357, 4.252680542396476, -0.29543347718325397, 3.2253348673124917, -0.357931527532076, 2.004699364162205, -2.2920457516604, 2.3878650381890663, 0.12928836917025163, 0.23097851091683586, 9.947131337767138, 4.126899332646671, 3.6617552215439018, 2.21999884149989, 2.0857080285211933, 3.0247446387234387, 1.895069221949943, 4.9932359322801165, 0.6560142273250195, 3.217792254383268, 4.99946128119875, -0.8110228828001341, -3.3355762596312957, -2.9311772376189156, -9.005075737158652, -1.1982546783342458, 5.007321550644133, 4.801951375096364, 3.4401594036205836, 6.131874734582472, -1.3088627653246028, 3.201314861820311, 0.8942199036692884, -3.397196627503831, -2.43010911011648, 3.0905958793243156, 3.645455008096163, -1.4523108311782549, -4.8159312935868686, -1.47148702950457, -3.0803859615490623, 2.3435504155541693, -0.9727154519195761, -0.01055997363103514, 4.019284914658161, 3.8437198057476394, 2.368811543771195, 0.3231710329592311, 5.131485634540779, 1.5397074203801733, 3.480188977223779, 2.590309581823764, 2.2509767061181, 0.6457357499334231, 2.0412984683883963, -0.26944060999436126, -0.012978552046819051, 1.547246613860729, -1.5999728457364657, 3.0950524791575598, 0.6490086918742773, 1.7028908621079872, 1.0798031835078412, 0.5340291891297326, 0.4295837386826433, -0.8390443466871075, 0.34593057020584467, 0.5577057418652016, 0.24785618801488715, 4.609454691510674, 1.9084831633534785, 0.6556354295327333, -6.485045869937728, -4.133342046481044, -0.2186550266388126, 0.3655088712389393, 0.6398487191912647, 0.061894557072458306, -6.785925299912556, -2.207215363184763, -1.7368791369547747, 2.7892495021738424, 0.23992681020541112, -3.8561465240976576, -1.3644812992645314, 1.6758577178581116, 0.1607301223929318, -1.8376558359591793, -4.831493112675964, -0.17737762526839823, -3.703076586415877, -1.0096025360789098, -1.3413769751850217, -2.9629536749922525, -0.12287404169145358, -0.48108542975832413, -1.7968429693435477, -0.17093583700294745, -3.0006437106280037, -2.982826293556555, -2.2538996313115796, -3.7507492905304587, -2.6831192631387726, -4.424342787525048, -0.7077531625492999, -0.7332940172726528, -3.8648328232759046, -0.7032844576439913, -8.753798412442475, -7.171313675163066, -4.577280887569149, -1.855085433730602, -0.5491365352489265, -1.842872924242458, 1.012225851264598, -3.6633280994633877, -3.1040062972136284, -4.743612647165987, -1.942136043211371, -5.857239690699431, -5.754956502189537, 0.9701937431228111, -0.8396936183760281, -1.960515821904533, -2.4747068615945778, -4.309930609696322, -2.237576509448463, -1.7883915219577402, -5.630509838777131]}, {\"marker\": {\"color\": [0, 0, 0, 0, 0, 0, 0, 0, 0, 0, 0, 0, 0, 0, 0, 0, 0, 0, 0, 0, 0, 0, 0, 0, 0, 0, 0, 0, 0, 0, 0, 0, 0, 0, 0, 0, 0, 0, 0, 0, 0, 0, 0, 0, 0, 0, 0, 0, 0, 0, 0, 0, 0, 0, 0, 0, 0, 0, 0, 1, 1, 1, 1, 1, 1, 1, 1, 1, 1, 1, 1, 1, 1, 1, 1, 1, 1, 1, 1, 1, 1, 1, 1, 1, 1, 1, 1, 1, 1, 1, 1, 1, 1, 1, 1, 1, 1, 1, 1, 1, 1, 1, 1, 1, 1, 1, 1, 1, 1, 1, 1, 1, 1, 1, 1, 1, 1, 1, 1, 1, 1, 1, 1, 1, 1, 1, 1, 1, 1, 1, 2, 2, 2, 2, 2, 2, 2, 2, 2, 2, 2, 2, 2, 2, 2, 2, 2, 2, 2, 2, 2, 2, 2, 2, 2, 2, 2, 2, 2, 2, 2, 2, 2, 2, 2, 2, 2, 2, 2, 2, 2, 2, 2, 2, 2, 2, 2, 2], \"colorscale\": [[0.0, \"#440154\"], [0.1111111111111111, \"#482878\"], [0.2222222222222222, \"#3e4989\"], [0.3333333333333333, \"#31688e\"], [0.4444444444444444, \"#26828e\"], [0.5555555555555556, \"#1f9e89\"], [0.6666666666666666, \"#35b779\"], [0.7777777777777778, \"#6ece58\"], [0.8888888888888888, \"#b5de2b\"], [1.0, \"#fde725\"]], \"size\": 3}, \"mode\": \"markers\", \"scene\": \"scene2\", \"type\": \"scatter3d\", \"x\": [3.316750812214777, 2.2094649169188503, 2.516740146610385, 3.7570656097732096, 1.0089084937957171, 3.050253922418082, 2.449089669596232, 2.059436871437915, 2.510874297398988, 2.7536281876339093, 3.4797366827312124, 1.7547529012945884, 2.1134623403150963, 3.458156819336723, 4.3127839067655644, 2.3051882008279736, 2.1719552737415144, 1.8989711765627635, 3.5419850819434715, 2.0845222047303142, 3.1244025351672007, 1.0865700683322415, 2.5352240799037156, 1.6449883412544697, 1.7615758722693, 0.9900791016088576, 1.77527762811337, 1.2354239643099059, 2.188406334451962, 2.256108981283707, 2.5002200257894276, 2.6774110474440165, 1.628579116430919, 1.902690862238149, 1.4103885265954068, 1.9038262321944863, 1.3848622303748408, 1.1222074104413107, 1.5021945006181914, 2.529801092371813, 2.588095425854404, 0.6684819937541878, 3.0708069904120094, 0.46220913751600834, 2.1013519305380157, 1.13616617756102, 2.7266009636408044, 2.8213392741922503, 2.009850850912359, 2.7074913042663953, 3.2149174747738245, 2.8589598267172946, 3.5056043559232264, 2.224791380532175, 2.146987823563867, 2.469329483797789, 2.7415179142774533, 2.173740920965309, 3.139380151828997, -0.9285819689218588, -1.5424801378968822, -1.8362497634669421, 0.030606834086677387, 2.050261607576315, -0.6096808271776243, 0.9002278387071431, 2.248507190798393, 0.18338402668475304, -0.8128050273520728, 1.975620498798552, -1.5722162196263008, 1.6576818088332874, -0.725372388035358, 2.562227173170362, 1.8325675700495476, -0.8679929031954148, 0.3700144042947795, -1.457377044906139, 1.2629308497284975, 0.3761503719342409, 0.762063904109596, 1.034577967165186, -0.49487675568032946, -2.538977084295121, 0.8353201453942973, 0.7879046149897073, -0.8068321559655406, -0.5580426248756835, -1.1151110419194468, -0.5557228299517035, -1.3492852824437325, -1.5644826057199073, -1.932555610631466, 0.7466659419884487, 0.9574553638036404, 2.543865184199554, -0.543952588776229, 1.0310497503881468, 2.2519094221481244, 1.4102160153374597, 0.7977197926930398, -0.5495317266494677, -0.1611737399485456, -0.6597949416843618, 0.3923544081850808, -1.772499077960036, -0.3662673573520666, -1.6206725727874811, 0.08253578349332556, 1.578275070932382, 1.420569247824018, -0.2787027536488559, -1.3031449662482792, -0.4570718656526257, -0.49418584704437657, 0.48207440977309096, -0.25288887765320217, -0.10722763772912568, -2.4330126025502192, -0.5510895391746513, 0.7396219285682223, 1.3363217334183322, -1.1770869962477724, -0.46233500801967875, 0.9784740793566495, -0.09680972631598667, 0.038487145949024165, -1.5971585012074712, -0.47956491608312646, -1.7928334730311435, -1.327101656141602, -2.384500834743531, -2.9369401021466133, -2.146811133816064, -2.3698694883330433, -3.063841568720354, -3.915753783711889, -3.936463390715961, -3.0942761177622757, -2.374471628006923, -2.778812947632515, -2.286561284738471, -2.985633487449467, -2.375194698227107, -2.2098655255958706, -2.625621004692721, -4.280638778751087, -3.582641372001103, -2.8070637200816586, -2.899659333023911, -2.320736976549204, -2.5498309472261362, -1.8125412848422986, -2.76014464192395, -2.7371505006679917, -3.6048688681834222, -2.889825996873507, -3.3921560768357195, -1.0481818968536771, -1.6099122828479346, -3.1431309667439735, -2.2401568962695437, -2.8476737761195197, -2.5974970566487636, -2.949299373134845, -3.5300322663493127, -2.4061105404785508, -2.929084726967455, -2.18141277881262, -2.380927787135638, -3.211617215041248, -3.677918720973818, -2.46555579804045, -3.3705241454428587, -2.6019558512247367, -2.677839460864501, -2.3870170912797186, -3.208758164198021], \"y\": [-1.4434626343180046, 0.33339288708029907, -1.0311512962743192, -2.756371913710711, -0.8698308214172026, -2.12240111463419, -1.1748501316494735, -1.6089630683635059, -0.9180709573337771, -0.7894376738336067, -1.3023332371235934, -0.6119772287456317, -0.6757063391426189, -1.1306298761729365, -2.095975575341261, -1.662551729989056, -2.327305336191417, -1.6313688786428369, -2.5183436693066463, -1.0611379935838592, -0.7868971056508928, -0.24174355133283887, 0.09184062072088071, 0.5162789300672347, 0.317148932684382, -0.940667338190631, -0.6861751342850242, 0.08980704136063912, -0.6895696206616231, -0.19146193688666494, -1.2408338348969412, -1.4718736461032487, -0.0527044505753229, -1.633060434769982, -0.6979343246113558, -0.1767109510954552, -0.658639853661149, -0.11410976029688866, 0.7694320064310075, -1.8030019760618257, -0.7796163041925064, -0.16996094061987496, -1.1559189566098826, -0.3307421321922742, 0.07100892095406697, -1.777107392977636, -1.191334691957182, -0.6462585991417032, -1.2470294606787589, -1.751967407206337, -0.16699199499679226, -0.745278803989588, -1.6127338560350108, -1.8751679995630244, -1.0167515377576588, -1.3290083106496202, -1.4365487835125132, -1.2121998406977945, -1.7315791159925122, 3.0734861631889236, 1.3814435080942262, 0.8299841230557158, 1.2627861442114021, 1.9250326046501003, 1.908058805085187, 0.7639114736096088, 1.8845924845501318, 2.427146114703569, 0.22051398690226853, 1.4032832253096157, 0.8849831369082206, 0.9567121974591515, 1.0636454007060951, -0.26019855065459296, 1.2878781978605252, 2.444101185580861, 2.153906975156987, 1.3833517690762585, 0.7708495299701172, 1.0270434033558238, 3.375053809963534, 1.450709738244091, 2.381243526767369, 0.08744335730498237, 1.4736705514008672, 2.0266265224624767, 2.2338303908439108, 2.372985428849454, 1.802247191665452, 2.657540035392291, 2.1180014697848164, 1.8522145217655497, 1.5594954568986201, 2.3129317092207398, 2.2235284346674598, -0.16927402279973802, 0.368926545877318, 2.5655693487335225, 1.4327413803542544, 2.166191769370384, 2.37694880308186, 2.2931286432456246, 1.1644833215600159, 2.679961185989634, 2.0987317087655355, 1.717288469376142, 2.1693532978292813, 1.3555833880259562, 2.3062345877483246, 1.4620342902048165, 1.41820663763375, 1.9305680886704677, 0.7631723136577914, 2.269415607589673, 1.9390450494868317, 3.8717838484072367, 2.821492374701591, 1.9289220425669593, 1.2571410404943917, 2.2221615507766206, 1.4089566673657117, -0.2533369311683025, 0.663966839801573, 0.6182881794850432, 1.4455704988958276, 2.1099979931352246, 1.266762109157885, 1.208143574128486, 1.9388406603940482, 1.1502881044421043, -0.1703892320490281, -0.3745826055246937, -0.2638618300683805, -0.36825495188646107, 0.4596348092311638, -0.353412835458405, -0.15458251944173368, -0.6596872334097819, -0.3488427592737969, -0.2919803515599939, -0.28680487288217477, -0.3725078446852996, -0.48921790834701157, -0.4823337172448772, -1.160052504157644, -0.5631607642108346, -0.649670964023706, -1.2727027497273014, -1.5705337870411977, -2.0410570079384636, -2.356366075556673, -2.0452830910195234, -1.5276459462687493, -2.138932347642612, -0.40988627088179236, -1.8023842175839666, -1.9252186131303424, -1.3118763884735958, -3.5150896912197283, -2.406638159574328, -0.7381610441757985, -1.1754652881188639, -0.5560439658826741, -0.6979655372009199, -1.5553089642839837, -0.8825267962042359, -2.5923561750423962, -1.2744469479044835, -2.0775373127345147, -2.588667432418588, 0.2512491044255899, -0.8477478441497649, -2.1937983036540927, -2.216289139861136, -1.7572293509792736, -2.760899131674546, -2.2973466797128186, -2.7689195660475723], \"z\": [-0.16573904461441885, -2.026457373807536, 0.9828186702120623, -0.17619184219949144, 2.0266882192354077, -0.6293958270439116, -0.9770948907141953, 0.14628188306155882, -1.7709690272289413, -0.9842474895182357, -0.42273521658084584, -1.190878319630174, -0.8650864256166536, -1.2042763525381888, -1.2639127523579978, 0.21790261559595797, 0.8317298659860074, 0.7949137923810701, -0.4854585076662916, -0.1647466784994737, -0.36488708298884626, 0.9369615996106451, -0.31193265934796943, 0.14388509467079463, 0.8902856474056888, 3.820908008194836, -0.0867004064887629, -1.3868965448964365, 1.394566880850359, -1.0926572575082931, 1.3860178547156785, -0.33226172837509377, -0.1671287062453338, 1.1720821191753446, 0.479743025168661, 0.4508350400372086, 0.45843858085206163, -0.0391072766897495, -1.4261773458904614, -0.34315238897969025, -0.11847746611373595, -0.7833625480611438, -0.312758083934154, -0.20147649625677075, -0.6558494150434345, 0.028705735784753026, -0.5397732611476712, -1.1555524107274069, -0.05729398793992199, -0.6431136120007935, -1.973571679901372, 0.004719502164697596, -0.520774530076174, 0.339549850354209, -0.9577627619503276, 0.5134374530359691, -0.6124733957169582, 0.2617795927707903, -0.2856614126164493, -4.5850640071482065, -0.87468311244581, -1.6057021863206196, -1.7844080104188553, -0.00736877734981729, 0.6793579379775346, 0.5733613020971907, -2.0318401928675853, -1.0697455602477983, -0.707005395800968, -1.238276219684867, -0.6289979502315961, 1.9525842166061977, 0.08033222861543614, 3.374393962239754, 0.4582800273995565, -1.5633331789503793, -2.449386348303738, -0.22730690232730588, -1.1842245173752441, 1.7944662945426593, -0.3574700555394656, -0.36301177316396077, 1.335743176284865, 0.47425139276914846, 0.6100935756921047, -0.25472340396955107, 0.7728557971982635, 2.307611404012002, 0.9592533076886528, 0.8491268977432243, -0.04765232084869266, 0.7810670309346306, -0.08927467610867912, 0.11467976874541606, 0.14244477369872494, 0.7886969907454735, 1.308895931856856, -1.086390173817739, -0.23020824379781463, 0.7488964107708801, -1.5681125312755262, -1.4989353232010787, 1.0037131028373552, -0.7649208684795146, -0.4718500076097387, 0.9470331744608655, -0.4813242347422907, 0.287159000695616, -0.4635749893739545, 1.7796459547332817, 0.13927582948819123, 0.07867055304723383, 1.999596510486854, 1.0613389675926632, 1.3239380723766918, 1.3442712233930714, -0.3026397845306412, 0.6901482425075105, -1.9030274044113487, -0.3562288302125351, 1.1253454920042354, 5.345388179195741, 3.0102218879464293, 0.4834423663441837, 1.4812369749959473, 0.43482611561678824, 0.6875779128728084, 3.361175555386425, 1.2965075188296682, 0.7828001731822654, -1.1800133553094876, -0.7238225948116628, -0.1676398159837221, -0.4533013014691862, -1.101399788592058, -1.0991241041153397, 0.2218277998410477, 1.712215419214537, -1.0268314134224488, 1.2419143328305633, 0.6096701239723721, -0.9716430323608535, 0.9469529317999698, -0.2528839940533316, -1.2451252259210643, -0.8559610818033767, -1.4581969616385648, -0.11078403762472566, -0.47252793457208575, -0.4959598102350926, 0.43768174361876133, -0.31226799865093124, 1.3625897815878691, -0.9646286882006778, -1.1904046839669857, -0.09403686133597068, -0.7823225555084455, 1.6020259689000202, 1.1600385659132277, 0.5485596972407103, -0.09099872392222215, -0.10137693249612094, 0.8042152181010286, -0.8849395211306326, -0.9834007272249402, -0.46602912777853805, 0.42822621079957834, -1.213358271505147, 0.763782551558119, 1.418044029496814, -0.8471291521285012, -1.3394202310855157, -0.9187809604264889, -0.3425695124143203, 0.20758135498125174, -0.9409418766769935, -0.550696197011087, 1.0139136641131152]}],\n",
       "                        {\"annotations\": [{\"font\": {\"size\": 16}, \"showarrow\": false, \"text\": \"Wine reduced to 3D\", \"x\": 0.2475, \"xanchor\": \"center\", \"xref\": \"paper\", \"y\": 1.0, \"yanchor\": \"bottom\", \"yref\": \"paper\"}, {\"font\": {\"size\": 16}, \"showarrow\": false, \"text\": \"Wine scaled & reduced to 3D\", \"x\": 0.7525, \"xanchor\": \"center\", \"xref\": \"paper\", \"y\": 1.0, \"yanchor\": \"bottom\", \"yref\": \"paper\"}], \"autosize\": false, \"height\": 500, \"margin\": {\"b\": 0, \"l\": 0, \"r\": 0, \"t\": 30}, \"scene\": {\"aspectmode\": \"cube\", \"domain\": {\"x\": [0.0, 0.495], \"y\": [0.0, 1.0]}, \"xaxis\": {\"title\": {\"text\": \"PC1\"}}, \"yaxis\": {\"title\": {\"text\": \"PC2\"}}, \"zaxis\": {\"title\": {\"text\": \"PC3\"}}}, \"scene2\": {\"aspectmode\": \"cube\", \"domain\": {\"x\": [0.505, 1.0], \"y\": [0.0, 1.0]}, \"xaxis\": {\"title\": {\"text\": \"PC1\"}}, \"yaxis\": {\"title\": {\"text\": \"PC2\"}}, \"zaxis\": {\"title\": {\"text\": \"PC3\"}}}, \"showlegend\": false, \"template\": {\"data\": {\"bar\": [{\"error_x\": {\"color\": \"rgb(51,51,51)\"}, \"error_y\": {\"color\": \"rgb(51,51,51)\"}, \"marker\": {\"line\": {\"color\": \"rgb(237,237,237)\", \"width\": 0.5}}, \"type\": \"bar\"}], \"barpolar\": [{\"marker\": {\"line\": {\"color\": \"rgb(237,237,237)\", \"width\": 0.5}}, \"type\": \"barpolar\"}], \"carpet\": [{\"aaxis\": {\"endlinecolor\": \"rgb(51,51,51)\", \"gridcolor\": \"white\", \"linecolor\": \"white\", \"minorgridcolor\": \"white\", \"startlinecolor\": \"rgb(51,51,51)\"}, \"baxis\": {\"endlinecolor\": \"rgb(51,51,51)\", \"gridcolor\": \"white\", \"linecolor\": \"white\", \"minorgridcolor\": \"white\", \"startlinecolor\": \"rgb(51,51,51)\"}, \"type\": \"carpet\"}], \"choropleth\": [{\"colorbar\": {\"outlinewidth\": 0, \"tickcolor\": \"rgb(237,237,237)\", \"ticklen\": 6, \"ticks\": \"inside\"}, \"type\": \"choropleth\"}], \"contour\": [{\"colorbar\": {\"outlinewidth\": 0, \"tickcolor\": \"rgb(237,237,237)\", \"ticklen\": 6, \"ticks\": \"inside\"}, \"colorscale\": [[0, \"rgb(20,44,66)\"], [1, \"rgb(90,179,244)\"]], \"type\": \"contour\"}], \"contourcarpet\": [{\"colorbar\": {\"outlinewidth\": 0, \"tickcolor\": \"rgb(237,237,237)\", \"ticklen\": 6, \"ticks\": \"inside\"}, \"type\": \"contourcarpet\"}], \"heatmap\": [{\"colorbar\": {\"outlinewidth\": 0, \"tickcolor\": \"rgb(237,237,237)\", \"ticklen\": 6, \"ticks\": \"inside\"}, \"colorscale\": [[0, \"rgb(20,44,66)\"], [1, \"rgb(90,179,244)\"]], \"type\": \"heatmap\"}], \"heatmapgl\": [{\"colorbar\": {\"outlinewidth\": 0, \"tickcolor\": \"rgb(237,237,237)\", \"ticklen\": 6, \"ticks\": \"inside\"}, \"colorscale\": [[0, \"rgb(20,44,66)\"], [1, \"rgb(90,179,244)\"]], \"type\": \"heatmapgl\"}], \"histogram\": [{\"marker\": {\"colorbar\": {\"outlinewidth\": 0, \"tickcolor\": \"rgb(237,237,237)\", \"ticklen\": 6, \"ticks\": \"inside\"}}, \"type\": \"histogram\"}], \"histogram2d\": [{\"colorbar\": {\"outlinewidth\": 0, \"tickcolor\": \"rgb(237,237,237)\", \"ticklen\": 6, \"ticks\": \"inside\"}, \"colorscale\": [[0, \"rgb(20,44,66)\"], [1, \"rgb(90,179,244)\"]], \"type\": \"histogram2d\"}], \"histogram2dcontour\": [{\"colorbar\": {\"outlinewidth\": 0, \"tickcolor\": \"rgb(237,237,237)\", \"ticklen\": 6, \"ticks\": \"inside\"}, \"colorscale\": [[0, \"rgb(20,44,66)\"], [1, \"rgb(90,179,244)\"]], \"type\": \"histogram2dcontour\"}], \"mesh3d\": [{\"colorbar\": {\"outlinewidth\": 0, \"tickcolor\": \"rgb(237,237,237)\", \"ticklen\": 6, \"ticks\": \"inside\"}, \"type\": \"mesh3d\"}], \"parcoords\": [{\"line\": {\"colorbar\": {\"outlinewidth\": 0, \"tickcolor\": \"rgb(237,237,237)\", \"ticklen\": 6, \"ticks\": \"inside\"}}, \"type\": \"parcoords\"}], \"pie\": [{\"automargin\": true, \"type\": \"pie\"}], \"scatter\": [{\"marker\": {\"colorbar\": {\"outlinewidth\": 0, \"tickcolor\": \"rgb(237,237,237)\", \"ticklen\": 6, \"ticks\": \"inside\"}}, \"type\": \"scatter\"}], \"scatter3d\": [{\"line\": {\"colorbar\": {\"outlinewidth\": 0, \"tickcolor\": \"rgb(237,237,237)\", \"ticklen\": 6, \"ticks\": \"inside\"}}, \"marker\": {\"colorbar\": {\"outlinewidth\": 0, \"tickcolor\": \"rgb(237,237,237)\", \"ticklen\": 6, \"ticks\": \"inside\"}}, \"type\": \"scatter3d\"}], \"scattercarpet\": [{\"marker\": {\"colorbar\": {\"outlinewidth\": 0, \"tickcolor\": \"rgb(237,237,237)\", \"ticklen\": 6, \"ticks\": \"inside\"}}, \"type\": \"scattercarpet\"}], \"scattergeo\": [{\"marker\": {\"colorbar\": {\"outlinewidth\": 0, \"tickcolor\": \"rgb(237,237,237)\", \"ticklen\": 6, \"ticks\": \"inside\"}}, \"type\": \"scattergeo\"}], \"scattergl\": [{\"marker\": {\"colorbar\": {\"outlinewidth\": 0, \"tickcolor\": \"rgb(237,237,237)\", \"ticklen\": 6, \"ticks\": \"inside\"}}, \"type\": \"scattergl\"}], \"scattermapbox\": [{\"marker\": {\"colorbar\": {\"outlinewidth\": 0, \"tickcolor\": \"rgb(237,237,237)\", \"ticklen\": 6, \"ticks\": \"inside\"}}, \"type\": \"scattermapbox\"}], \"scatterpolar\": [{\"marker\": {\"colorbar\": {\"outlinewidth\": 0, \"tickcolor\": \"rgb(237,237,237)\", \"ticklen\": 6, \"ticks\": \"inside\"}}, \"type\": \"scatterpolar\"}], \"scatterpolargl\": [{\"marker\": {\"colorbar\": {\"outlinewidth\": 0, \"tickcolor\": \"rgb(237,237,237)\", \"ticklen\": 6, \"ticks\": \"inside\"}}, \"type\": \"scatterpolargl\"}], \"scatterternary\": [{\"marker\": {\"colorbar\": {\"outlinewidth\": 0, \"tickcolor\": \"rgb(237,237,237)\", \"ticklen\": 6, \"ticks\": \"inside\"}}, \"type\": \"scatterternary\"}], \"surface\": [{\"colorbar\": {\"outlinewidth\": 0, \"tickcolor\": \"rgb(237,237,237)\", \"ticklen\": 6, \"ticks\": \"inside\"}, \"colorscale\": [[0, \"rgb(20,44,66)\"], [1, \"rgb(90,179,244)\"]], \"type\": \"surface\"}], \"table\": [{\"cells\": {\"fill\": {\"color\": \"rgb(237,237,237)\"}, \"line\": {\"color\": \"white\"}}, \"header\": {\"fill\": {\"color\": \"rgb(217,217,217)\"}, \"line\": {\"color\": \"white\"}}, \"type\": \"table\"}]}, \"layout\": {\"annotationdefaults\": {\"arrowhead\": 0, \"arrowwidth\": 1}, \"coloraxis\": {\"colorbar\": {\"outlinewidth\": 0, \"tickcolor\": \"rgb(237,237,237)\", \"ticklen\": 6, \"ticks\": \"inside\"}}, \"colorscale\": {\"sequential\": [[0, \"rgb(20,44,66)\"], [1, \"rgb(90,179,244)\"]], \"sequentialminus\": [[0, \"rgb(20,44,66)\"], [1, \"rgb(90,179,244)\"]]}, \"colorway\": [\"#F8766D\", \"#A3A500\", \"#00BF7D\", \"#00B0F6\", \"#E76BF3\"], \"font\": {\"color\": \"rgb(51,51,51)\"}, \"geo\": {\"bgcolor\": \"white\", \"lakecolor\": \"white\", \"landcolor\": \"rgb(237,237,237)\", \"showlakes\": true, \"showland\": true, \"subunitcolor\": \"white\"}, \"hoverlabel\": {\"align\": \"left\"}, \"hovermode\": \"closest\", \"paper_bgcolor\": \"white\", \"plot_bgcolor\": \"rgb(237,237,237)\", \"polar\": {\"angularaxis\": {\"gridcolor\": \"white\", \"linecolor\": \"white\", \"showgrid\": true, \"tickcolor\": \"rgb(51,51,51)\", \"ticks\": \"outside\"}, \"bgcolor\": \"rgb(237,237,237)\", \"radialaxis\": {\"gridcolor\": \"white\", \"linecolor\": \"white\", \"showgrid\": true, \"tickcolor\": \"rgb(51,51,51)\", \"ticks\": \"outside\"}}, \"scene\": {\"xaxis\": {\"backgroundcolor\": \"rgb(237,237,237)\", \"gridcolor\": \"white\", \"gridwidth\": 2, \"linecolor\": \"white\", \"showbackground\": true, \"showgrid\": true, \"tickcolor\": \"rgb(51,51,51)\", \"ticks\": \"outside\", \"zerolinecolor\": \"white\"}, \"yaxis\": {\"backgroundcolor\": \"rgb(237,237,237)\", \"gridcolor\": \"white\", \"gridwidth\": 2, \"linecolor\": \"white\", \"showbackground\": true, \"showgrid\": true, \"tickcolor\": \"rgb(51,51,51)\", \"ticks\": \"outside\", \"zerolinecolor\": \"white\"}, \"zaxis\": {\"backgroundcolor\": \"rgb(237,237,237)\", \"gridcolor\": \"white\", \"gridwidth\": 2, \"linecolor\": \"white\", \"showbackground\": true, \"showgrid\": true, \"tickcolor\": \"rgb(51,51,51)\", \"ticks\": \"outside\", \"zerolinecolor\": \"white\"}}, \"shapedefaults\": {\"fillcolor\": \"black\", \"line\": {\"width\": 0}, \"opacity\": 0.3}, \"ternary\": {\"aaxis\": {\"gridcolor\": \"white\", \"linecolor\": \"white\", \"showgrid\": true, \"tickcolor\": \"rgb(51,51,51)\", \"ticks\": \"outside\"}, \"baxis\": {\"gridcolor\": \"white\", \"linecolor\": \"white\", \"showgrid\": true, \"tickcolor\": \"rgb(51,51,51)\", \"ticks\": \"outside\"}, \"bgcolor\": \"rgb(237,237,237)\", \"caxis\": {\"gridcolor\": \"white\", \"linecolor\": \"white\", \"showgrid\": true, \"tickcolor\": \"rgb(51,51,51)\", \"ticks\": \"outside\"}}, \"xaxis\": {\"automargin\": true, \"gridcolor\": \"white\", \"linecolor\": \"white\", \"showgrid\": true, \"tickcolor\": \"rgb(51,51,51)\", \"ticks\": \"outside\", \"title\": {\"standoff\": 15}, \"zerolinecolor\": \"white\"}, \"yaxis\": {\"automargin\": true, \"gridcolor\": \"white\", \"linecolor\": \"white\", \"showgrid\": true, \"tickcolor\": \"rgb(51,51,51)\", \"ticks\": \"outside\", \"title\": {\"standoff\": 15}, \"zerolinecolor\": \"white\"}}}, \"width\": 1000},\n",
       "                        {\"displayModeBar\": false, \"scrollZoom\": false, \"responsive\": true}\n",
       "                    ).then(function(){\n",
       "                            \n",
       "var gd = document.getElementById('d76f28d3-0b89-498d-88d1-629a4403d425');\n",
       "var x = new MutationObserver(function (mutations, observer) {{\n",
       "        var display = window.getComputedStyle(gd).display;\n",
       "        if (!display || display === 'none') {{\n",
       "            console.log([gd, 'removed!']);\n",
       "            Plotly.purge(gd);\n",
       "            observer.disconnect();\n",
       "        }}\n",
       "}});\n",
       "\n",
       "// Listen for the removal of the full notebook cells\n",
       "var notebookContainer = gd.closest('#notebook-container');\n",
       "if (notebookContainer) {{\n",
       "    x.observe(notebookContainer, {childList: true});\n",
       "}}\n",
       "\n",
       "// Listen for the clearing of the current output cell\n",
       "var outputEl = gd.closest('.output');\n",
       "if (outputEl) {{\n",
       "    x.observe(outputEl, {childList: true});\n",
       "}}\n",
       "\n",
       "                        })\n",
       "                };\n",
       "                });\n",
       "            </script>\n",
       "        </div>"
      ]
     },
     "metadata": {},
     "output_type": "display_data"
    }
   ],
   "source": [
    "trace1 = go.Scatter3d(\n",
    "    x=wine_X_3d[:, 0], y=wine_X_3d[:, 1], z=wine_X_3d[:, 2], mode='markers', \n",
    "    marker=dict(size=3,  color=y, colorscale='Viridis',)\n",
    ")\n",
    "trace2 = go.Scatter3d(\n",
    "    x=wine_X_3d_scaled[:, 0], y=wine_X_3d_scaled[:, 1], z=wine_X_3d_scaled[:, 2], \n",
    "    mode='markers', \n",
    "    marker=dict(size=3,  color=y, colorscale='Viridis',)\n",
    ")\n",
    "layout = dict(\n",
    "    height=500, width=1000, autosize=False,\n",
    "    margin=dict(l=0, r=0, b=0, t=30),\n",
    "    template=\"ggplot2\", showlegend=False,\n",
    ")\n",
    "scenes = {\n",
    "    \"scene\": dict(xaxis_title=\"PC1\", yaxis_title=\"PC2\", \n",
    "                  zaxis_title=\"PC3\", aspectmode=\"cube\"),\n",
    "    \"scene2\": dict(xaxis_title=\"PC1\", yaxis_title=\"PC2\",\n",
    "                   zaxis_title=\"PC3\", aspectmode=\"cube\"),\n",
    "}\n",
    "\n",
    "fig = make_subplots(\n",
    "    rows=1, cols=2, horizontal_spacing=0.01,\n",
    "    subplot_titles=(\"Wine reduced to 3D\", \"Wine scaled & reduced to 3D\"), \n",
    "    specs=[[{'type': 'scatter3d'}, {'type': 'scatter3d'}]]\n",
    ")\n",
    "fig.add_trace(trace1, row=1, col=1)\n",
    "fig.add_trace(trace2, row=1, col=2)\n",
    "fig.update_layout(layout)\n",
    "fig.update_layout(scenes)\n",
    "fig.show(config={'displayModeBar': False, 'scrollZoom': False})\n",
    "\n",
    "# Note: the left chart has different units and classes are hardly separable"
   ]
  },
  {
   "cell_type": "code",
   "execution_count": null,
   "metadata": {},
   "outputs": [],
   "source": []
  },
  {
   "cell_type": "markdown",
   "metadata": {},
   "source": [
    "### Finding the number of components to reduce\n",
    "\n",
    "+ the importance of scaling data\n",
    "+ `explained_variance_`\n",
    "+ `explained_variance_ratio_`"
   ]
  },
  {
   "cell_type": "code",
   "execution_count": 46,
   "metadata": {},
   "outputs": [],
   "source": [
    "scaler = StandardScaler()\n",
    "scaled_X = scaler.fit_transform(X)"
   ]
  },
  {
   "cell_type": "code",
   "execution_count": 47,
   "metadata": {},
   "outputs": [
    {
     "data": {
      "text/plain": [
       "array([9.92017895e+04, 1.72535300e+02, 9.43810000e+00, 4.99120000e+00,\n",
       "       1.22880000e+00, 8.41100000e-01, 2.79000000e-01, 1.51400000e-01,\n",
       "       1.12100000e-01, 7.17000000e-02, 3.76000000e-02, 2.11000000e-02,\n",
       "       8.20000000e-03])"
      ]
     },
     "metadata": {},
     "output_type": "display_data"
    },
    {
     "data": {
      "text/plain": [
       "array([4.73243698, 2.51108093, 1.45424187, 0.92416587, 0.85804868,\n",
       "       0.64528221, 0.55414147, 0.35046627, 0.29051203, 0.25232001,\n",
       "       0.22706428, 0.16972374, 0.10396199])"
      ]
     },
     "metadata": {},
     "output_type": "display_data"
    }
   ],
   "source": [
    "pca_wine = PCA()\n",
    "pca_wine_scaled = PCA()\n",
    "\n",
    "pca_wine.fit(X)\n",
    "pca_wine_scaled.fit(scaled_X)\n",
    "\n",
    "display(pca_wine.explained_variance_.round(4))\n",
    "display(pca_wine_scaled.explained_variance_)"
   ]
  },
  {
   "cell_type": "code",
   "execution_count": 48,
   "metadata": {},
   "outputs": [
    {
     "data": {
      "text/html": [
       "<div>\n",
       "<style scoped>\n",
       "    .dataframe tbody tr th:only-of-type {\n",
       "        vertical-align: middle;\n",
       "    }\n",
       "\n",
       "    .dataframe tbody tr th {\n",
       "        vertical-align: top;\n",
       "    }\n",
       "\n",
       "    .dataframe thead th {\n",
       "        text-align: right;\n",
       "    }\n",
       "</style>\n",
       "<table border=\"1\" class=\"dataframe\">\n",
       "  <thead>\n",
       "    <tr style=\"text-align: right;\">\n",
       "      <th></th>\n",
       "      <th></th>\n",
       "      <th>PC1</th>\n",
       "      <th>PC2</th>\n",
       "      <th>PC3</th>\n",
       "      <th>PC4</th>\n",
       "      <th>PC5</th>\n",
       "      <th>PC6</th>\n",
       "      <th>PC7</th>\n",
       "      <th>PC8</th>\n",
       "      <th>PC9</th>\n",
       "      <th>PC10</th>\n",
       "      <th>PC11</th>\n",
       "      <th>PC12</th>\n",
       "      <th>PC13</th>\n",
       "    </tr>\n",
       "  </thead>\n",
       "  <tbody>\n",
       "    <tr>\n",
       "      <th rowspan=\"2\" valign=\"top\">unscaled</th>\n",
       "      <th>explained variance</th>\n",
       "      <td>99201.7895</td>\n",
       "      <td>172.5353</td>\n",
       "      <td>9.4381</td>\n",
       "      <td>4.9912</td>\n",
       "      <td>1.2288</td>\n",
       "      <td>0.8411</td>\n",
       "      <td>0.2790</td>\n",
       "      <td>0.1514</td>\n",
       "      <td>0.1121</td>\n",
       "      <td>0.0717</td>\n",
       "      <td>0.0376</td>\n",
       "      <td>0.0211</td>\n",
       "      <td>0.0082</td>\n",
       "    </tr>\n",
       "    <tr>\n",
       "      <th>ratio</th>\n",
       "      <td>0.9981</td>\n",
       "      <td>0.9998</td>\n",
       "      <td>0.9999</td>\n",
       "      <td>1.0000</td>\n",
       "      <td>1.0000</td>\n",
       "      <td>1.0000</td>\n",
       "      <td>1.0000</td>\n",
       "      <td>1.0000</td>\n",
       "      <td>1.0000</td>\n",
       "      <td>1.0000</td>\n",
       "      <td>1.0000</td>\n",
       "      <td>1.0000</td>\n",
       "      <td>1.0000</td>\n",
       "    </tr>\n",
       "    <tr>\n",
       "      <th rowspan=\"2\" valign=\"top\">scaled</th>\n",
       "      <th>explained variance</th>\n",
       "      <td>4.7324</td>\n",
       "      <td>2.5111</td>\n",
       "      <td>1.4542</td>\n",
       "      <td>0.9242</td>\n",
       "      <td>0.8580</td>\n",
       "      <td>0.6453</td>\n",
       "      <td>0.5541</td>\n",
       "      <td>0.3505</td>\n",
       "      <td>0.2905</td>\n",
       "      <td>0.2523</td>\n",
       "      <td>0.2271</td>\n",
       "      <td>0.1697</td>\n",
       "      <td>0.1040</td>\n",
       "    </tr>\n",
       "    <tr>\n",
       "      <th>ratio</th>\n",
       "      <td>0.3620</td>\n",
       "      <td>0.5541</td>\n",
       "      <td>0.6653</td>\n",
       "      <td>0.7360</td>\n",
       "      <td>0.8016</td>\n",
       "      <td>0.8510</td>\n",
       "      <td>0.8934</td>\n",
       "      <td>0.9202</td>\n",
       "      <td>0.9424</td>\n",
       "      <td>0.9617</td>\n",
       "      <td>0.9791</td>\n",
       "      <td>0.9920</td>\n",
       "      <td>1.0000</td>\n",
       "    </tr>\n",
       "  </tbody>\n",
       "</table>\n",
       "</div>"
      ],
      "text/plain": [
       "                                    PC1       PC2     PC3     PC4     PC5  \\\n",
       "unscaled explained variance  99201.7895  172.5353  9.4381  4.9912  1.2288   \n",
       "         ratio                   0.9981    0.9998  0.9999  1.0000  1.0000   \n",
       "scaled   explained variance      4.7324    2.5111  1.4542  0.9242  0.8580   \n",
       "         ratio                   0.3620    0.5541  0.6653  0.7360  0.8016   \n",
       "\n",
       "                                PC6     PC7     PC8     PC9    PC10    PC11  \\\n",
       "unscaled explained variance  0.8411  0.2790  0.1514  0.1121  0.0717  0.0376   \n",
       "         ratio               1.0000  1.0000  1.0000  1.0000  1.0000  1.0000   \n",
       "scaled   explained variance  0.6453  0.5541  0.3505  0.2905  0.2523  0.2271   \n",
       "         ratio               0.8510  0.8934  0.9202  0.9424  0.9617  0.9791   \n",
       "\n",
       "                               PC12    PC13  \n",
       "unscaled explained variance  0.0211  0.0082  \n",
       "         ratio               1.0000  1.0000  \n",
       "scaled   explained variance  0.1697  0.1040  \n",
       "         ratio               0.9920  1.0000  "
      ]
     },
     "execution_count": 48,
     "metadata": {},
     "output_type": "execute_result"
    }
   ],
   "source": [
    "scaled_exp_var = pca_wine_scaled.explained_variance_\n",
    "exp_var = pca_wine.explained_variance_\n",
    "\n",
    "pd.DataFrame(\n",
    "    [exp_var, \n",
    "     exp_var.cumsum() / exp_var.sum(), # pca_wine.explained_variance_ratio_\n",
    "     scaled_exp_var,  \n",
    "     scaled_exp_var.cumsum() / scaled_exp_var.sum()], \n",
    "    index=[[\"unscaled\", \"unscaled\", \"scaled\", \"scaled\"], \n",
    "           [\"explained variance\", \"ratio\", \"explained variance\", \"ratio\"]],\n",
    "    columns=[f\"PC{i}\" for i in range(1, X.shape[1]+1)]\n",
    ").round(4)"
   ]
  },
  {
   "cell_type": "markdown",
   "metadata": {},
   "source": [
    "Key observations: \n",
    "\n",
    "+ Unscaled data\n",
    "  + Seems to retain larger variance at the first component, but it's actually affected by the different units of last feature\n",
    "  + The first component captures the majority of ratio, renders other components useless\n",
    "+ Scaled data\n",
    "  + Each component captures certain amount of variance, with the first compoennt has the greatest\n",
    "  \n",
    "  "
   ]
  },
  {
   "cell_type": "code",
   "execution_count": 49,
   "metadata": {},
   "outputs": [
    {
     "data": {
      "text/plain": [
       "10"
      ]
     },
     "execution_count": 49,
     "metadata": {},
     "output_type": "execute_result"
    }
   ],
   "source": [
    "# sklearn PCA can find the component based on given ratio\n",
    "# when n_components is between 0 and 1\n",
    "ratio_pca = PCA(n_components=0.95) # retain 95% variance\n",
    "ratio_pca.fit(scaled_X)\n",
    "ratio_pca.n_components_ # from PC1 to PC10 "
   ]
  },
  {
   "cell_type": "code",
   "execution_count": null,
   "metadata": {},
   "outputs": [],
   "source": []
  },
  {
   "cell_type": "code",
   "execution_count": 50,
   "metadata": {},
   "outputs": [
    {
     "data": {
      "text/plain": [
       "(6, 8)"
      ]
     },
     "metadata": {},
     "output_type": "display_data"
    },
    {
     "data": {
      "text/html": [
       "<div>\n",
       "<style scoped>\n",
       "    .dataframe tbody tr th:only-of-type {\n",
       "        vertical-align: middle;\n",
       "    }\n",
       "\n",
       "    .dataframe tbody tr th {\n",
       "        vertical-align: top;\n",
       "    }\n",
       "\n",
       "    .dataframe thead th {\n",
       "        text-align: right;\n",
       "    }\n",
       "</style>\n",
       "<table border=\"1\" class=\"dataframe\">\n",
       "  <thead>\n",
       "    <tr style=\"text-align: right;\">\n",
       "      <th></th>\n",
       "      <th>Apple</th>\n",
       "      <th>Banana</th>\n",
       "      <th>Bell Pepper</th>\n",
       "      <th>Blue Crab</th>\n",
       "      <th>Broccoli</th>\n",
       "      <th>Carrot</th>\n",
       "      <th>Pear</th>\n",
       "      <th>Shrimp</th>\n",
       "    </tr>\n",
       "  </thead>\n",
       "  <tbody>\n",
       "    <tr>\n",
       "      <th>Calories</th>\n",
       "      <td>130</td>\n",
       "      <td>110</td>\n",
       "      <td>25</td>\n",
       "      <td>100</td>\n",
       "      <td>45</td>\n",
       "      <td>30</td>\n",
       "      <td>100</td>\n",
       "      <td>100</td>\n",
       "    </tr>\n",
       "    <tr>\n",
       "      <th>Sodium</th>\n",
       "      <td>0</td>\n",
       "      <td>0</td>\n",
       "      <td>40</td>\n",
       "      <td>330</td>\n",
       "      <td>80</td>\n",
       "      <td>60</td>\n",
       "      <td>0</td>\n",
       "      <td>240</td>\n",
       "    </tr>\n",
       "    <tr>\n",
       "      <th>Potassium</th>\n",
       "      <td>260</td>\n",
       "      <td>450</td>\n",
       "      <td>220</td>\n",
       "      <td>300</td>\n",
       "      <td>460</td>\n",
       "      <td>250</td>\n",
       "      <td>190</td>\n",
       "      <td>220</td>\n",
       "    </tr>\n",
       "    <tr>\n",
       "      <th>Carbohydrate</th>\n",
       "      <td>34</td>\n",
       "      <td>30</td>\n",
       "      <td>6</td>\n",
       "      <td>0</td>\n",
       "      <td>8</td>\n",
       "      <td>7</td>\n",
       "      <td>26</td>\n",
       "      <td>0</td>\n",
       "    </tr>\n",
       "    <tr>\n",
       "      <th>Vitamin A</th>\n",
       "      <td>2</td>\n",
       "      <td>2</td>\n",
       "      <td>4</td>\n",
       "      <td>0</td>\n",
       "      <td>6</td>\n",
       "      <td>110</td>\n",
       "      <td>0</td>\n",
       "      <td>4</td>\n",
       "    </tr>\n",
       "    <tr>\n",
       "      <th>Vitamin C</th>\n",
       "      <td>8</td>\n",
       "      <td>15</td>\n",
       "      <td>190</td>\n",
       "      <td>4</td>\n",
       "      <td>220</td>\n",
       "      <td>10</td>\n",
       "      <td>10</td>\n",
       "      <td>4</td>\n",
       "    </tr>\n",
       "  </tbody>\n",
       "</table>\n",
       "</div>"
      ],
      "text/plain": [
       "              Apple  Banana  Bell Pepper  Blue Crab  Broccoli  Carrot  Pear  \\\n",
       "Calories        130     110           25        100        45      30   100   \n",
       "Sodium            0       0           40        330        80      60     0   \n",
       "Potassium       260     450          220        300       460     250   190   \n",
       "Carbohydrate     34      30            6          0         8       7    26   \n",
       "Vitamin A         2       2            4          0         6     110     0   \n",
       "Vitamin C         8      15          190          4       220      10    10   \n",
       "\n",
       "              Shrimp  \n",
       "Calories         100  \n",
       "Sodium           240  \n",
       "Potassium        220  \n",
       "Carbohydrate       0  \n",
       "Vitamin A          4  \n",
       "Vitamin C          4  "
      ]
     },
     "execution_count": 50,
     "metadata": {},
     "output_type": "execute_result"
    }
   ],
   "source": [
    "indices = ['Calories', 'Sodium', 'Potassium', 'Carbohydrate', 'Vitamin A', 'Vitamin C']\n",
    "d = {\n",
    "    'Apple': [130, 0, 260, 34, 2, 8], \n",
    "    'Banana': [110, 0, 450, 30, 2, 15], \n",
    "    'Bell Pepper': [25, 40, 220, 6, 4, 190], \n",
    "    'Blue Crab': [100, 330, 300, 0, 0, 4], \n",
    "    'Broccoli': [45, 80, 460, 8, 6, 220], \n",
    "    'Carrot': [30, 60, 250, 7, 110, 10], \n",
    "    'Pear': [100, 0, 190, 26, 0, 10], \n",
    "    'Shrimp': [100, 240, 220, 0, 4, 4]\n",
    "    }\n",
    "df =  pd.DataFrame(d, index=indices)\n",
    "display(df.shape) # m by n = 6 by 8\n",
    "df"
   ]
  },
  {
   "cell_type": "code",
   "execution_count": 55,
   "metadata": {},
   "outputs": [
    {
     "data": {
      "text/plain": [
       "array([[ -47.84407935,   14.32229913, -111.7714007 ],\n",
       "       [ -21.03813897,  286.8162579 ,   71.59134174],\n",
       "       [ 610.82401082,  -48.19007223,  -21.53865454],\n",
       "       [-225.04121045,  -57.70746438,  -59.48316717],\n",
       "       [-229.71884372,  -43.12534273,  -45.5692072 ],\n",
       "       [ -87.18173834, -152.11567768,  166.77108786]])"
      ]
     },
     "execution_count": 55,
     "metadata": {},
     "output_type": "execute_result"
    }
   ],
   "source": [
    "pca = PCA(n_components=3, random_state=42)\n",
    "reduced_X = pca.fit_transform(df.values) \n",
    "reduced_X"
   ]
  },
  {
   "cell_type": "code",
   "execution_count": 59,
   "metadata": {},
   "outputs": [
    {
     "data": {
      "text/html": [
       "<div>\n",
       "<style scoped>\n",
       "    .dataframe tbody tr th:only-of-type {\n",
       "        vertical-align: middle;\n",
       "    }\n",
       "\n",
       "    .dataframe tbody tr th {\n",
       "        vertical-align: top;\n",
       "    }\n",
       "\n",
       "    .dataframe thead th {\n",
       "        text-align: right;\n",
       "    }\n",
       "</style>\n",
       "<table border=\"1\" class=\"dataframe\">\n",
       "  <thead>\n",
       "    <tr style=\"text-align: right;\">\n",
       "      <th></th>\n",
       "      <th>Apple</th>\n",
       "      <th>Banana</th>\n",
       "      <th>Bell Pepper</th>\n",
       "      <th>Blue Crab</th>\n",
       "      <th>Broccoli</th>\n",
       "      <th>Carrot</th>\n",
       "      <th>Pear</th>\n",
       "      <th>Shrimp</th>\n",
       "    </tr>\n",
       "  </thead>\n",
       "  <tbody>\n",
       "    <tr>\n",
       "      <th>Component 1</th>\n",
       "      <td>0.295338</td>\n",
       "      <td>0.536281</td>\n",
       "      <td>0.233151</td>\n",
       "      <td>0.351588</td>\n",
       "      <td>0.523330</td>\n",
       "      <td>0.251189</td>\n",
       "      <td>0.214745</td>\n",
       "      <td>0.253219</td>\n",
       "    </tr>\n",
       "    <tr>\n",
       "      <th>Component 2</th>\n",
       "      <td>-0.123168</td>\n",
       "      <td>-0.214014</td>\n",
       "      <td>-0.249220</td>\n",
       "      <td>0.716196</td>\n",
       "      <td>-0.289635</td>\n",
       "      <td>-0.009528</td>\n",
       "      <td>-0.094991</td>\n",
       "      <td>0.520556</td>\n",
       "    </tr>\n",
       "    <tr>\n",
       "      <th>Component 3</th>\n",
       "      <td>-0.405939</td>\n",
       "      <td>-0.414707</td>\n",
       "      <td>0.514045</td>\n",
       "      <td>0.129170</td>\n",
       "      <td>0.518937</td>\n",
       "      <td>-0.159264</td>\n",
       "      <td>-0.294088</td>\n",
       "      <td>0.033995</td>\n",
       "    </tr>\n",
       "  </tbody>\n",
       "</table>\n",
       "</div>"
      ],
      "text/plain": [
       "                Apple    Banana  Bell Pepper  Blue Crab  Broccoli    Carrot  \\\n",
       "Component 1  0.295338  0.536281     0.233151   0.351588  0.523330  0.251189   \n",
       "Component 2 -0.123168 -0.214014    -0.249220   0.716196 -0.289635 -0.009528   \n",
       "Component 3 -0.405939 -0.414707     0.514045   0.129170  0.518937 -0.159264   \n",
       "\n",
       "                 Pear    Shrimp  \n",
       "Component 1  0.214745  0.253219  \n",
       "Component 2 -0.094991  0.520556  \n",
       "Component 3 -0.294088  0.033995  "
      ]
     },
     "execution_count": 59,
     "metadata": {},
     "output_type": "execute_result"
    }
   ],
   "source": [
    "pd.DataFrame(pca.components_, columns=d.keys(), index=[f\"PComponent {i}\" for i in range(1, 4)])"
   ]
  },
  {
   "cell_type": "code",
   "execution_count": 57,
   "metadata": {},
   "outputs": [
    {
     "data": {
      "text/html": [
       "<div>\n",
       "<style scoped>\n",
       "    .dataframe tbody tr th:only-of-type {\n",
       "        vertical-align: middle;\n",
       "    }\n",
       "\n",
       "    .dataframe tbody tr th {\n",
       "        vertical-align: top;\n",
       "    }\n",
       "\n",
       "    .dataframe thead th {\n",
       "        text-align: right;\n",
       "    }\n",
       "</style>\n",
       "<table border=\"1\" class=\"dataframe\">\n",
       "  <thead>\n",
       "    <tr style=\"text-align: right;\">\n",
       "      <th></th>\n",
       "      <th>PComponent 1</th>\n",
       "      <th>PComponent 2</th>\n",
       "      <th>PComponent 3</th>\n",
       "    </tr>\n",
       "  </thead>\n",
       "  <tbody>\n",
       "    <tr>\n",
       "      <th>Calories</th>\n",
       "      <td>-47.844079</td>\n",
       "      <td>14.322299</td>\n",
       "      <td>-111.771401</td>\n",
       "    </tr>\n",
       "    <tr>\n",
       "      <th>Sodium</th>\n",
       "      <td>-21.038139</td>\n",
       "      <td>286.816258</td>\n",
       "      <td>71.591342</td>\n",
       "    </tr>\n",
       "    <tr>\n",
       "      <th>Potassium</th>\n",
       "      <td>610.824011</td>\n",
       "      <td>-48.190072</td>\n",
       "      <td>-21.538655</td>\n",
       "    </tr>\n",
       "    <tr>\n",
       "      <th>Carbohydrate</th>\n",
       "      <td>-225.041210</td>\n",
       "      <td>-57.707464</td>\n",
       "      <td>-59.483167</td>\n",
       "    </tr>\n",
       "    <tr>\n",
       "      <th>Vitamin A</th>\n",
       "      <td>-229.718844</td>\n",
       "      <td>-43.125343</td>\n",
       "      <td>-45.569207</td>\n",
       "    </tr>\n",
       "    <tr>\n",
       "      <th>Vitamin C</th>\n",
       "      <td>-87.181738</td>\n",
       "      <td>-152.115678</td>\n",
       "      <td>166.771088</td>\n",
       "    </tr>\n",
       "  </tbody>\n",
       "</table>\n",
       "</div>"
      ],
      "text/plain": [
       "              PComponent 1  PComponent 2  PComponent 3\n",
       "Calories        -47.844079     14.322299   -111.771401\n",
       "Sodium          -21.038139    286.816258     71.591342\n",
       "Potassium       610.824011    -48.190072    -21.538655\n",
       "Carbohydrate   -225.041210    -57.707464    -59.483167\n",
       "Vitamin A      -229.718844    -43.125343    -45.569207\n",
       "Vitamin C       -87.181738   -152.115678    166.771088"
      ]
     },
     "execution_count": 57,
     "metadata": {},
     "output_type": "execute_result"
    }
   ],
   "source": [
    "pd.DataFrame(reduced_X, columns=[f\"PComponent {i}\" for i in range(1, 4)], index=indices)"
   ]
  },
  {
   "cell_type": "code",
   "execution_count": 14,
   "metadata": {},
   "outputs": [],
   "source": [
    "def highlight_max(data):\n",
    "    # attr = 'background-color: {}'.format(\"gray\")\n",
    "    attr = \"color: yellow\"\n",
    "    is_max = data == data.max()\n",
    "    return [attr if v else '' for v in is_max]"
   ]
  },
  {
   "cell_type": "code",
   "execution_count": 15,
   "metadata": {},
   "outputs": [
    {
     "data": {
      "text/html": [
       "<style  type=\"text/css\" >\n",
       "    #T_14505072_e9d5_11ea_8553_bbec9f2eca90row0_col0 {\n",
       "            color:  yellow;\n",
       "        }    #T_14505072_e9d5_11ea_8553_bbec9f2eca90row0_col1 {\n",
       "            color:  yellow;\n",
       "        }    #T_14505072_e9d5_11ea_8553_bbec9f2eca90row0_col5 {\n",
       "            color:  yellow;\n",
       "        }    #T_14505072_e9d5_11ea_8553_bbec9f2eca90row0_col6 {\n",
       "            color:  yellow;\n",
       "        }    #T_14505072_e9d5_11ea_8553_bbec9f2eca90row1_col3 {\n",
       "            color:  yellow;\n",
       "        }    #T_14505072_e9d5_11ea_8553_bbec9f2eca90row1_col7 {\n",
       "            color:  yellow;\n",
       "        }    #T_14505072_e9d5_11ea_8553_bbec9f2eca90row2_col2 {\n",
       "            color:  yellow;\n",
       "        }    #T_14505072_e9d5_11ea_8553_bbec9f2eca90row2_col4 {\n",
       "            color:  yellow;\n",
       "        }</style><table id=\"T_14505072_e9d5_11ea_8553_bbec9f2eca90\" ><thead>    <tr>        <th class=\"blank level0\" ></th>        <th class=\"col_heading level0 col0\" >Apple</th>        <th class=\"col_heading level0 col1\" >Banana</th>        <th class=\"col_heading level0 col2\" >Bell Pepper</th>        <th class=\"col_heading level0 col3\" >Blue Crab</th>        <th class=\"col_heading level0 col4\" >Broccoli</th>        <th class=\"col_heading level0 col5\" >Carrot</th>        <th class=\"col_heading level0 col6\" >Pear</th>        <th class=\"col_heading level0 col7\" >Shrimp</th>    </tr></thead><tbody>\n",
       "                <tr>\n",
       "                        <th id=\"T_14505072_e9d5_11ea_8553_bbec9f2eca90level0_row0\" class=\"row_heading level0 row0\" >Component 1</th>\n",
       "                        <td id=\"T_14505072_e9d5_11ea_8553_bbec9f2eca90row0_col0\" class=\"data row0 col0\" >10.836401</td>\n",
       "                        <td id=\"T_14505072_e9d5_11ea_8553_bbec9f2eca90row0_col1\" class=\"data row0 col1\" >16.247684</td>\n",
       "                        <td id=\"T_14505072_e9d5_11ea_8553_bbec9f2eca90row0_col2\" class=\"data row0 col2\" >0.000000</td>\n",
       "                        <td id=\"T_14505072_e9d5_11ea_8553_bbec9f2eca90row0_col3\" class=\"data row0 col3\" >0.000000</td>\n",
       "                        <td id=\"T_14505072_e9d5_11ea_8553_bbec9f2eca90row0_col4\" class=\"data row0 col4\" >5.551840</td>\n",
       "                        <td id=\"T_14505072_e9d5_11ea_8553_bbec9f2eca90row0_col5\" class=\"data row0 col5\" >6.606530</td>\n",
       "                        <td id=\"T_14505072_e9d5_11ea_8553_bbec9f2eca90row0_col6\" class=\"data row0 col6\" >7.973981</td>\n",
       "                        <td id=\"T_14505072_e9d5_11ea_8553_bbec9f2eca90row0_col7\" class=\"data row0 col7\" >0.537650</td>\n",
       "            </tr>\n",
       "            <tr>\n",
       "                        <th id=\"T_14505072_e9d5_11ea_8553_bbec9f2eca90level0_row1\" class=\"row_heading level0 row1\" >Component 2</th>\n",
       "                        <td id=\"T_14505072_e9d5_11ea_8553_bbec9f2eca90row1_col0\" class=\"data row1 col0\" >0.048688</td>\n",
       "                        <td id=\"T_14505072_e9d5_11ea_8553_bbec9f2eca90row1_col1\" class=\"data row1 col1\" >0.000000</td>\n",
       "                        <td id=\"T_14505072_e9d5_11ea_8553_bbec9f2eca90row1_col2\" class=\"data row1 col2\" >0.360612</td>\n",
       "                        <td id=\"T_14505072_e9d5_11ea_8553_bbec9f2eca90row1_col3\" class=\"data row1 col3\" >18.479891</td>\n",
       "                        <td id=\"T_14505072_e9d5_11ea_8553_bbec9f2eca90row1_col4\" class=\"data row1 col4\" >2.142205</td>\n",
       "                        <td id=\"T_14505072_e9d5_11ea_8553_bbec9f2eca90row1_col5\" class=\"data row1 col5\" >2.996111</td>\n",
       "                        <td id=\"T_14505072_e9d5_11ea_8553_bbec9f2eca90row1_col6\" class=\"data row1 col6\" >0.041290</td>\n",
       "                        <td id=\"T_14505072_e9d5_11ea_8553_bbec9f2eca90row1_col7\" class=\"data row1 col7\" >13.543097</td>\n",
       "            </tr>\n",
       "            <tr>\n",
       "                        <th id=\"T_14505072_e9d5_11ea_8553_bbec9f2eca90level0_row2\" class=\"row_heading level0 row2\" >Component 3</th>\n",
       "                        <td id=\"T_14505072_e9d5_11ea_8553_bbec9f2eca90row2_col0\" class=\"data row2 col0\" >0.000000</td>\n",
       "                        <td id=\"T_14505072_e9d5_11ea_8553_bbec9f2eca90row2_col1\" class=\"data row2 col1\" >1.732044</td>\n",
       "                        <td id=\"T_14505072_e9d5_11ea_8553_bbec9f2eca90row2_col2\" class=\"data row2 col2\" >12.156798</td>\n",
       "                        <td id=\"T_14505072_e9d5_11ea_8553_bbec9f2eca90row2_col3\" class=\"data row2 col3\" >0.457296</td>\n",
       "                        <td id=\"T_14505072_e9d5_11ea_8553_bbec9f2eca90row2_col4\" class=\"data row2 col4\" >15.349220</td>\n",
       "                        <td id=\"T_14505072_e9d5_11ea_8553_bbec9f2eca90row2_col5\" class=\"data row2 col5\" >1.548065</td>\n",
       "                        <td id=\"T_14505072_e9d5_11ea_8553_bbec9f2eca90row2_col6\" class=\"data row2 col6\" >0.000000</td>\n",
       "                        <td id=\"T_14505072_e9d5_11ea_8553_bbec9f2eca90row2_col7\" class=\"data row2 col7\" >0.000000</td>\n",
       "            </tr>\n",
       "    </tbody></table>"
      ],
      "text/plain": [
       "<pandas.io.formats.style.Styler at 0x7f0fe6866c50>"
      ]
     },
     "execution_count": 15,
     "metadata": {},
     "output_type": "execute_result"
    }
   ],
   "source": [
    "# the components\n",
    "(\n",
    "    pd.DataFrame(H, columns=d.keys(), index=[f\"Component {i}\" for i in range(1, 4)])\n",
    "    .style.apply(highlight_max, axis=0)\n",
    ") # highlight by each column's largest\n",
    "# p by n = 3 by 8"
   ]
  },
  {
   "cell_type": "code",
   "execution_count": null,
   "metadata": {},
   "outputs": [],
   "source": []
  },
  {
   "cell_type": "markdown",
   "metadata": {},
   "source": [
    "## Appendix "
   ]
  },
  {
   "cell_type": "markdown",
   "metadata": {},
   "source": [
    "### 1. Covariance Matrix \n",
    "\n",
    "+ NOT the same as _Correlation Matrix_, which can be viewed as a _normalized Covariance Matrix_\n",
    "+ Computes Variance and Co-variance"
   ]
  },
  {
   "cell_type": "code",
   "execution_count": 2,
   "metadata": {},
   "outputs": [
    {
     "data": {
      "text/plain": [
       "(50, 3)"
      ]
     },
     "metadata": {},
     "output_type": "display_data"
    }
   ],
   "source": [
    "# Helix equation\n",
    "t = np.linspace(0, 10, 50)\n",
    "x, y, z = np.cos(t) + 3 , np.sin(t) + 10, t # transform to all >= 0\n",
    "\n",
    "X = np.c_[x, y, z]; row_index = np.array(range(X.shape[0]))\n",
    "display(X.shape)"
   ]
  },
  {
   "cell_type": "code",
   "execution_count": 3,
   "metadata": {},
   "outputs": [
    {
     "data": {
      "text/plain": [
       "(50, 3)"
      ]
     },
     "execution_count": 3,
     "metadata": {},
     "output_type": "execute_result"
    }
   ],
   "source": [
    "data = X - np.mean(X, axis=0) # data is centered\n",
    "data.shape"
   ]
  },
  {
   "cell_type": "code",
   "execution_count": 4,
   "metadata": {},
   "outputs": [
    {
     "data": {
      "text/html": [
       "<div>\n",
       "<style scoped>\n",
       "    .dataframe tbody tr th:only-of-type {\n",
       "        vertical-align: middle;\n",
       "    }\n",
       "\n",
       "    .dataframe tbody tr th {\n",
       "        vertical-align: top;\n",
       "    }\n",
       "\n",
       "    .dataframe thead th {\n",
       "        text-align: right;\n",
       "    }\n",
       "</style>\n",
       "<table border=\"1\" class=\"dataframe\">\n",
       "  <thead>\n",
       "    <tr style=\"text-align: right;\">\n",
       "      <th></th>\n",
       "      <th>data_x</th>\n",
       "      <th>data_y</th>\n",
       "      <th>data_z</th>\n",
       "    </tr>\n",
       "  </thead>\n",
       "  <tbody>\n",
       "    <tr>\n",
       "      <th>data_x</th>\n",
       "      <td>0.537186</td>\n",
       "      <td>0.028406</td>\n",
       "      <td>-0.549443</td>\n",
       "    </tr>\n",
       "    <tr>\n",
       "      <th>data_y</th>\n",
       "      <td>0.028406</td>\n",
       "      <td>0.449562</td>\n",
       "      <td>-0.162532</td>\n",
       "    </tr>\n",
       "    <tr>\n",
       "      <th>data_z</th>\n",
       "      <td>-0.549443</td>\n",
       "      <td>-0.162532</td>\n",
       "      <td>8.850479</td>\n",
       "    </tr>\n",
       "  </tbody>\n",
       "</table>\n",
       "</div>"
      ],
      "text/plain": [
       "          data_x    data_y    data_z\n",
       "data_x  0.537186  0.028406 -0.549443\n",
       "data_y  0.028406  0.449562 -0.162532\n",
       "data_z -0.549443 -0.162532  8.850479"
      ]
     },
     "execution_count": 4,
     "metadata": {},
     "output_type": "execute_result"
    }
   ],
   "source": [
    "covariance_matrix = np.cov(data, rowvar=False)\n",
    "\n",
    "pd.DataFrame(covariance_matrix, \n",
    "             index=[\"data_x\", \"data_y\", \"data_z\"], \n",
    "             columns=[\"data_x\", \"data_y\", \"data_z\"])"
   ]
  },
  {
   "cell_type": "markdown",
   "metadata": {},
   "source": [
    "> **Variance**: Sum of squared different between mean and $x$, divided by $(n - 1)$\n",
    "\n",
    "+ How much variance is in the given feature? \n",
    "+ Measures how far each data point in the set is from the mean and therefore from every other number in the set\n",
    "+ The spread between data points in the given feature\n",
    "\n",
    "Note that the higher variance, the more information is with the given feature"
   ]
  },
  {
   "cell_type": "code",
   "execution_count": 21,
   "metadata": {},
   "outputs": [
    {
     "data": {
      "text/plain": [
       "0.5371856194320673"
      ]
     },
     "execution_count": 21,
     "metadata": {},
     "output_type": "execute_result"
    }
   ],
   "source": [
    "data_x = X[:, 0]\n",
    "(\n",
    "    sum((data_x - np.mean(data_x, axis=0))**2) \n",
    "    / (data_x.shape[0] - 1)\n",
    ")"
   ]
  },
  {
   "cell_type": "markdown",
   "metadata": {},
   "source": [
    "> **Co-variance**: Sum of difference between two centered features, divided by $(n-1)$\n",
    "\n",
    "+ How feature A changes with feature B? \n",
    "  + Positive: the two features move together as the same direction\n",
    "  + Negative: the two features move inversely at the opposite director\n",
    "\n",
    "Note this only captures the linear relationship between two features, _cannot measure non-linear relationship_  \n",
    "Note with modelling, we want features to be as uncorrelated as possible"
   ]
  },
  {
   "cell_type": "code",
   "execution_count": 22,
   "metadata": {},
   "outputs": [
    {
     "data": {
      "text/plain": [
       "0.028405738444683856"
      ]
     },
     "execution_count": 22,
     "metadata": {},
     "output_type": "execute_result"
    }
   ],
   "source": [
    "data_x = X[:, 0]\n",
    "data_y = X[:, 1]\n",
    "\n",
    "(\n",
    "    sum((data_x - np.mean(data_x, axis=0)) * (data_y - np.mean(data_y, axis=0))) \n",
    "    / (data_x.shape[0] - 1)\n",
    ")"
   ]
  },
  {
   "cell_type": "code",
   "execution_count": 23,
   "metadata": {},
   "outputs": [
    {
     "data": {
      "application/vnd.plotly.v1+json": {
       "config": {
        "displayModeBar": false,
        "plotlyServerURL": "https://plot.ly"
       },
       "data": [
        {
         "mode": "markers",
         "type": "scatter",
         "x": [
          4,
          3.979247521056497,
          3.9178514149905888,
          3.8183599245989672,
          3.684902440000452,
          3.5230181084730106,
          3.339425932379255,
          3.1417458972563406,
          2.938182704637146,
          2.737185236258675,
          2.5470958835813713,
          2.3758042971828743,
          2.230419927143053,
          2.116976945617838,
          2.04018379877801,
          2.003227782949167,
          2.0076427560119567,
          2.0532454746953355,
          2.138143200080817,
          2.258812255651574,
          2.4102442773378776,
          2.5861540854568927,
          2.7792405508307305,
          2.9814896278454963,
          3.184506977077008,
          3.3798663719950794,
          3.559459429140805,
          3.715832146240554,
          3.842494280256423,
          3.9341887246502054,
          3.9871097053688658,
          3.9990607393363353,
          3.96954579939109,
          3.8997899018725932,
          3.7926882623697216,
          3.65268612991967,
          3.4855942871338694,
          3.2983478739104073,
          3.098718544744615,
          2.894991906536532,
          2.695623624825445,
          2.5088884717477775,
          2.342536881968041,
          2.2034732712144813,
          2.0974694687950386,
          2.028925158064996,
          2.0006852677545965,
          2.0139218933219074,
          2.068085649180191,
          2.1609284709235475
         ],
         "xaxis": "x",
         "y": [
          10,
          10.2026679365482,
          10.396924148924922,
          10.57470604121618,
          10.728634783469351,
          10.852321569719619,
          10.940632785112486,
          10.989903076372125,
          10.998087482134718,
          10.964846308983763,
          10.891559230411003,
          10.781268023526264,
          10.638550320226603,
          10.469329612777202,
          10.280629399514357,
          10.080281674842814,
          9.876601862637822,
          9.678043684927381,
          9.492848290515486,
          9.328702206448067,
          9.192418309031664,
          9.089653055689217,
          9.024671713932955,
          9.00017133161591,
          9.017168796074369,
          9.074958628261797,
          9.171142263626958,
          9.3017276044346,
          9.461294711613844,
          9.643220759101062,
          9.839954913956749,
          10.043331733368683,
          10.24491007101198,
          10.43632342647182,
          10.609627196490832,
          10.75762841539272,
          10.874184298819733,
          10.954457199738751,
          10.995115394777663,
          10.994471367263618,
          10.95255184753146,
          10.871096703482321,
          10.753486727439638,
          10.604603316506154,
          10.430625870382737,
          10.23877531564403,
          10.037014401485063,
          9.833717206151244,
          9.637321571173452,
          9.45597888911063
         ],
         "yaxis": "y"
        },
        {
         "mode": "markers",
         "type": "scatter",
         "x": [
          4,
          3.979247521056497,
          3.9178514149905888,
          3.8183599245989672,
          3.684902440000452,
          3.5230181084730106,
          3.339425932379255,
          3.1417458972563406,
          2.938182704637146,
          2.737185236258675,
          2.5470958835813713,
          2.3758042971828743,
          2.230419927143053,
          2.116976945617838,
          2.04018379877801,
          2.003227782949167,
          2.0076427560119567,
          2.0532454746953355,
          2.138143200080817,
          2.258812255651574,
          2.4102442773378776,
          2.5861540854568927,
          2.7792405508307305,
          2.9814896278454963,
          3.184506977077008,
          3.3798663719950794,
          3.559459429140805,
          3.715832146240554,
          3.842494280256423,
          3.9341887246502054,
          3.9871097053688658,
          3.9990607393363353,
          3.96954579939109,
          3.8997899018725932,
          3.7926882623697216,
          3.65268612991967,
          3.4855942871338694,
          3.2983478739104073,
          3.098718544744615,
          2.894991906536532,
          2.695623624825445,
          2.5088884717477775,
          2.342536881968041,
          2.2034732712144813,
          2.0974694687950386,
          2.028925158064996,
          2.0006852677545965,
          2.0139218933219074,
          2.068085649180191,
          2.1609284709235475
         ],
         "xaxis": "x2",
         "y": [
          0,
          0.20408163265306123,
          0.40816326530612246,
          0.6122448979591837,
          0.8163265306122449,
          1.0204081632653061,
          1.2244897959183674,
          1.4285714285714286,
          1.6326530612244898,
          1.836734693877551,
          2.0408163265306123,
          2.2448979591836737,
          2.4489795918367347,
          2.6530612244897958,
          2.857142857142857,
          3.0612244897959187,
          3.2653061224489797,
          3.4693877551020407,
          3.673469387755102,
          3.8775510204081636,
          4.081632653061225,
          4.285714285714286,
          4.4897959183673475,
          4.6938775510204085,
          4.8979591836734695,
          5.1020408163265305,
          5.3061224489795915,
          5.510204081632653,
          5.714285714285714,
          5.918367346938775,
          6.122448979591837,
          6.326530612244898,
          6.530612244897959,
          6.73469387755102,
          6.938775510204081,
          7.142857142857143,
          7.346938775510204,
          7.551020408163265,
          7.755102040816327,
          7.959183673469388,
          8.16326530612245,
          8.36734693877551,
          8.571428571428571,
          8.775510204081632,
          8.979591836734695,
          9.183673469387756,
          9.387755102040817,
          9.591836734693878,
          9.795918367346939,
          10
         ],
         "yaxis": "y2"
        }
       ],
       "layout": {
        "annotations": [
         {
          "font": {
           "size": 18
          },
          "showarrow": false,
          "text": "data_x vs. data_y",
          "x": 0.1,
          "xref": "paper",
          "y": 1.1,
          "yref": "paper"
         },
         {
          "font": {
           "size": 18
          },
          "showarrow": false,
          "text": "data_x vs. data_z",
          "x": 0.9,
          "xref": "paper",
          "y": 1.1,
          "yref": "paper"
         },
         {
          "font": {
           "size": 14
          },
          "showarrow": false,
          "text": "cov=0.0284",
          "x": 2.2,
          "xref": "x",
          "y": 9,
          "yref": "y"
         },
         {
          "font": {
           "size": 14
          },
          "showarrow": false,
          "text": "cov=-0.5494",
          "x": 2.2,
          "xref": "x2",
          "y": 0,
          "yref": "y2"
         }
        ],
        "autosize": false,
        "height": 350,
        "margin": {
         "b": 10,
         "l": 10,
         "r": 10,
         "t": 30
        },
        "showlegend": false,
        "template": {
         "data": {
          "bar": [
           {
            "error_x": {
             "color": "rgb(51,51,51)"
            },
            "error_y": {
             "color": "rgb(51,51,51)"
            },
            "marker": {
             "line": {
              "color": "rgb(237,237,237)",
              "width": 0.5
             }
            },
            "type": "bar"
           }
          ],
          "barpolar": [
           {
            "marker": {
             "line": {
              "color": "rgb(237,237,237)",
              "width": 0.5
             }
            },
            "type": "barpolar"
           }
          ],
          "carpet": [
           {
            "aaxis": {
             "endlinecolor": "rgb(51,51,51)",
             "gridcolor": "white",
             "linecolor": "white",
             "minorgridcolor": "white",
             "startlinecolor": "rgb(51,51,51)"
            },
            "baxis": {
             "endlinecolor": "rgb(51,51,51)",
             "gridcolor": "white",
             "linecolor": "white",
             "minorgridcolor": "white",
             "startlinecolor": "rgb(51,51,51)"
            },
            "type": "carpet"
           }
          ],
          "choropleth": [
           {
            "colorbar": {
             "outlinewidth": 0,
             "tickcolor": "rgb(237,237,237)",
             "ticklen": 6,
             "ticks": "inside"
            },
            "type": "choropleth"
           }
          ],
          "contour": [
           {
            "colorbar": {
             "outlinewidth": 0,
             "tickcolor": "rgb(237,237,237)",
             "ticklen": 6,
             "ticks": "inside"
            },
            "colorscale": [
             [
              0,
              "rgb(20,44,66)"
             ],
             [
              1,
              "rgb(90,179,244)"
             ]
            ],
            "type": "contour"
           }
          ],
          "contourcarpet": [
           {
            "colorbar": {
             "outlinewidth": 0,
             "tickcolor": "rgb(237,237,237)",
             "ticklen": 6,
             "ticks": "inside"
            },
            "type": "contourcarpet"
           }
          ],
          "heatmap": [
           {
            "colorbar": {
             "outlinewidth": 0,
             "tickcolor": "rgb(237,237,237)",
             "ticklen": 6,
             "ticks": "inside"
            },
            "colorscale": [
             [
              0,
              "rgb(20,44,66)"
             ],
             [
              1,
              "rgb(90,179,244)"
             ]
            ],
            "type": "heatmap"
           }
          ],
          "heatmapgl": [
           {
            "colorbar": {
             "outlinewidth": 0,
             "tickcolor": "rgb(237,237,237)",
             "ticklen": 6,
             "ticks": "inside"
            },
            "colorscale": [
             [
              0,
              "rgb(20,44,66)"
             ],
             [
              1,
              "rgb(90,179,244)"
             ]
            ],
            "type": "heatmapgl"
           }
          ],
          "histogram": [
           {
            "marker": {
             "colorbar": {
              "outlinewidth": 0,
              "tickcolor": "rgb(237,237,237)",
              "ticklen": 6,
              "ticks": "inside"
             }
            },
            "type": "histogram"
           }
          ],
          "histogram2d": [
           {
            "colorbar": {
             "outlinewidth": 0,
             "tickcolor": "rgb(237,237,237)",
             "ticklen": 6,
             "ticks": "inside"
            },
            "colorscale": [
             [
              0,
              "rgb(20,44,66)"
             ],
             [
              1,
              "rgb(90,179,244)"
             ]
            ],
            "type": "histogram2d"
           }
          ],
          "histogram2dcontour": [
           {
            "colorbar": {
             "outlinewidth": 0,
             "tickcolor": "rgb(237,237,237)",
             "ticklen": 6,
             "ticks": "inside"
            },
            "colorscale": [
             [
              0,
              "rgb(20,44,66)"
             ],
             [
              1,
              "rgb(90,179,244)"
             ]
            ],
            "type": "histogram2dcontour"
           }
          ],
          "mesh3d": [
           {
            "colorbar": {
             "outlinewidth": 0,
             "tickcolor": "rgb(237,237,237)",
             "ticklen": 6,
             "ticks": "inside"
            },
            "type": "mesh3d"
           }
          ],
          "parcoords": [
           {
            "line": {
             "colorbar": {
              "outlinewidth": 0,
              "tickcolor": "rgb(237,237,237)",
              "ticklen": 6,
              "ticks": "inside"
             }
            },
            "type": "parcoords"
           }
          ],
          "pie": [
           {
            "automargin": true,
            "type": "pie"
           }
          ],
          "scatter": [
           {
            "marker": {
             "colorbar": {
              "outlinewidth": 0,
              "tickcolor": "rgb(237,237,237)",
              "ticklen": 6,
              "ticks": "inside"
             }
            },
            "type": "scatter"
           }
          ],
          "scatter3d": [
           {
            "line": {
             "colorbar": {
              "outlinewidth": 0,
              "tickcolor": "rgb(237,237,237)",
              "ticklen": 6,
              "ticks": "inside"
             }
            },
            "marker": {
             "colorbar": {
              "outlinewidth": 0,
              "tickcolor": "rgb(237,237,237)",
              "ticklen": 6,
              "ticks": "inside"
             }
            },
            "type": "scatter3d"
           }
          ],
          "scattercarpet": [
           {
            "marker": {
             "colorbar": {
              "outlinewidth": 0,
              "tickcolor": "rgb(237,237,237)",
              "ticklen": 6,
              "ticks": "inside"
             }
            },
            "type": "scattercarpet"
           }
          ],
          "scattergeo": [
           {
            "marker": {
             "colorbar": {
              "outlinewidth": 0,
              "tickcolor": "rgb(237,237,237)",
              "ticklen": 6,
              "ticks": "inside"
             }
            },
            "type": "scattergeo"
           }
          ],
          "scattergl": [
           {
            "marker": {
             "colorbar": {
              "outlinewidth": 0,
              "tickcolor": "rgb(237,237,237)",
              "ticklen": 6,
              "ticks": "inside"
             }
            },
            "type": "scattergl"
           }
          ],
          "scattermapbox": [
           {
            "marker": {
             "colorbar": {
              "outlinewidth": 0,
              "tickcolor": "rgb(237,237,237)",
              "ticklen": 6,
              "ticks": "inside"
             }
            },
            "type": "scattermapbox"
           }
          ],
          "scatterpolar": [
           {
            "marker": {
             "colorbar": {
              "outlinewidth": 0,
              "tickcolor": "rgb(237,237,237)",
              "ticklen": 6,
              "ticks": "inside"
             }
            },
            "type": "scatterpolar"
           }
          ],
          "scatterpolargl": [
           {
            "marker": {
             "colorbar": {
              "outlinewidth": 0,
              "tickcolor": "rgb(237,237,237)",
              "ticklen": 6,
              "ticks": "inside"
             }
            },
            "type": "scatterpolargl"
           }
          ],
          "scatterternary": [
           {
            "marker": {
             "colorbar": {
              "outlinewidth": 0,
              "tickcolor": "rgb(237,237,237)",
              "ticklen": 6,
              "ticks": "inside"
             }
            },
            "type": "scatterternary"
           }
          ],
          "surface": [
           {
            "colorbar": {
             "outlinewidth": 0,
             "tickcolor": "rgb(237,237,237)",
             "ticklen": 6,
             "ticks": "inside"
            },
            "colorscale": [
             [
              0,
              "rgb(20,44,66)"
             ],
             [
              1,
              "rgb(90,179,244)"
             ]
            ],
            "type": "surface"
           }
          ],
          "table": [
           {
            "cells": {
             "fill": {
              "color": "rgb(237,237,237)"
             },
             "line": {
              "color": "white"
             }
            },
            "header": {
             "fill": {
              "color": "rgb(217,217,217)"
             },
             "line": {
              "color": "white"
             }
            },
            "type": "table"
           }
          ]
         },
         "layout": {
          "annotationdefaults": {
           "arrowhead": 0,
           "arrowwidth": 1
          },
          "coloraxis": {
           "colorbar": {
            "outlinewidth": 0,
            "tickcolor": "rgb(237,237,237)",
            "ticklen": 6,
            "ticks": "inside"
           }
          },
          "colorscale": {
           "sequential": [
            [
             0,
             "rgb(20,44,66)"
            ],
            [
             1,
             "rgb(90,179,244)"
            ]
           ],
           "sequentialminus": [
            [
             0,
             "rgb(20,44,66)"
            ],
            [
             1,
             "rgb(90,179,244)"
            ]
           ]
          },
          "colorway": [
           "#F8766D",
           "#A3A500",
           "#00BF7D",
           "#00B0F6",
           "#E76BF3"
          ],
          "font": {
           "color": "rgb(51,51,51)"
          },
          "geo": {
           "bgcolor": "white",
           "lakecolor": "white",
           "landcolor": "rgb(237,237,237)",
           "showlakes": true,
           "showland": true,
           "subunitcolor": "white"
          },
          "hoverlabel": {
           "align": "left"
          },
          "hovermode": "closest",
          "paper_bgcolor": "white",
          "plot_bgcolor": "rgb(237,237,237)",
          "polar": {
           "angularaxis": {
            "gridcolor": "white",
            "linecolor": "white",
            "showgrid": true,
            "tickcolor": "rgb(51,51,51)",
            "ticks": "outside"
           },
           "bgcolor": "rgb(237,237,237)",
           "radialaxis": {
            "gridcolor": "white",
            "linecolor": "white",
            "showgrid": true,
            "tickcolor": "rgb(51,51,51)",
            "ticks": "outside"
           }
          },
          "scene": {
           "xaxis": {
            "backgroundcolor": "rgb(237,237,237)",
            "gridcolor": "white",
            "gridwidth": 2,
            "linecolor": "white",
            "showbackground": true,
            "showgrid": true,
            "tickcolor": "rgb(51,51,51)",
            "ticks": "outside",
            "zerolinecolor": "white"
           },
           "yaxis": {
            "backgroundcolor": "rgb(237,237,237)",
            "gridcolor": "white",
            "gridwidth": 2,
            "linecolor": "white",
            "showbackground": true,
            "showgrid": true,
            "tickcolor": "rgb(51,51,51)",
            "ticks": "outside",
            "zerolinecolor": "white"
           },
           "zaxis": {
            "backgroundcolor": "rgb(237,237,237)",
            "gridcolor": "white",
            "gridwidth": 2,
            "linecolor": "white",
            "showbackground": true,
            "showgrid": true,
            "tickcolor": "rgb(51,51,51)",
            "ticks": "outside",
            "zerolinecolor": "white"
           }
          },
          "shapedefaults": {
           "fillcolor": "black",
           "line": {
            "width": 0
           },
           "opacity": 0.3
          },
          "ternary": {
           "aaxis": {
            "gridcolor": "white",
            "linecolor": "white",
            "showgrid": true,
            "tickcolor": "rgb(51,51,51)",
            "ticks": "outside"
           },
           "baxis": {
            "gridcolor": "white",
            "linecolor": "white",
            "showgrid": true,
            "tickcolor": "rgb(51,51,51)",
            "ticks": "outside"
           },
           "bgcolor": "rgb(237,237,237)",
           "caxis": {
            "gridcolor": "white",
            "linecolor": "white",
            "showgrid": true,
            "tickcolor": "rgb(51,51,51)",
            "ticks": "outside"
           }
          },
          "xaxis": {
           "automargin": true,
           "gridcolor": "white",
           "linecolor": "white",
           "showgrid": true,
           "tickcolor": "rgb(51,51,51)",
           "ticks": "outside",
           "title": {
            "standoff": 15
           },
           "zerolinecolor": "white"
          },
          "yaxis": {
           "automargin": true,
           "gridcolor": "white",
           "linecolor": "white",
           "showgrid": true,
           "tickcolor": "rgb(51,51,51)",
           "ticks": "outside",
           "title": {
            "standoff": 15
           },
           "zerolinecolor": "white"
          }
         }
        },
        "width": 800,
        "xaxis": {
         "anchor": "y",
         "autorange": true,
         "domain": [
          0,
          0.45
         ],
         "fixedrange": true,
         "range": [
          1.8612599091550854,
          4.139425358599511
         ],
         "type": "linear"
        },
        "xaxis2": {
         "anchor": "y2",
         "autorange": true,
         "domain": [
          0.55,
          1
         ],
         "fixedrange": true,
         "range": [
          1.8612599091550854,
          4.139425358599511
         ],
         "type": "linear"
        },
        "yaxis": {
         "anchor": "x",
         "autorange": true,
         "domain": [
          0,
          1
         ],
         "fixedrange": true,
         "range": [
          8.85598360304976,
          11.142275210700868
         ],
         "type": "linear"
        },
        "yaxis2": {
         "anchor": "x2",
         "autorange": true,
         "domain": [
          0,
          1
         ],
         "fixedrange": true,
         "range": [
          -0.7216905901116428,
          10.721690590111642
         ],
         "type": "linear"
        }
       }
      },
      "image/png": "[encoded data removed]",
      "text/html": [
       "<div>\n",
       "        \n",
       "        \n",
       "            <div id=\"69aff4cf-dac0-4428-85f3-1d952dc01c3a\" class=\"plotly-graph-div\" style=\"height:350px; width:800px;\"></div>\n",
       "            <script type=\"text/javascript\">\n",
       "                require([\"plotly\"], function(Plotly) {\n",
       "                    window.PLOTLYENV=window.PLOTLYENV || {};\n",
       "                    \n",
       "                if (document.getElementById(\"69aff4cf-dac0-4428-85f3-1d952dc01c3a\")) {\n",
       "                    Plotly.newPlot(\n",
       "                        '69aff4cf-dac0-4428-85f3-1d952dc01c3a',\n",
       "                        [{\"mode\": \"markers\", \"type\": \"scatter\", \"x\": [4.0, 3.979247521056497, 3.9178514149905888, 3.8183599245989672, 3.684902440000452, 3.5230181084730106, 3.339425932379255, 3.1417458972563406, 2.938182704637146, 2.737185236258675, 2.5470958835813713, 2.3758042971828743, 2.230419927143053, 2.116976945617838, 2.04018379877801, 2.003227782949167, 2.0076427560119567, 2.0532454746953355, 2.138143200080817, 2.258812255651574, 2.4102442773378776, 2.5861540854568927, 2.7792405508307305, 2.9814896278454963, 3.184506977077008, 3.3798663719950794, 3.559459429140805, 3.715832146240554, 3.842494280256423, 3.9341887246502054, 3.9871097053688658, 3.9990607393363353, 3.96954579939109, 3.8997899018725932, 3.7926882623697216, 3.65268612991967, 3.4855942871338694, 3.2983478739104073, 3.098718544744615, 2.894991906536532, 2.695623624825445, 2.5088884717477775, 2.342536881968041, 2.2034732712144813, 2.0974694687950386, 2.028925158064996, 2.0006852677545965, 2.0139218933219074, 2.068085649180191, 2.1609284709235475], \"xaxis\": \"x\", \"y\": [10.0, 10.2026679365482, 10.396924148924922, 10.57470604121618, 10.728634783469351, 10.852321569719619, 10.940632785112486, 10.989903076372125, 10.998087482134718, 10.964846308983763, 10.891559230411003, 10.781268023526264, 10.638550320226603, 10.469329612777202, 10.280629399514357, 10.080281674842814, 9.876601862637822, 9.678043684927381, 9.492848290515486, 9.328702206448067, 9.192418309031664, 9.089653055689217, 9.024671713932955, 9.00017133161591, 9.017168796074369, 9.074958628261797, 9.171142263626958, 9.3017276044346, 9.461294711613844, 9.643220759101062, 9.839954913956749, 10.043331733368683, 10.24491007101198, 10.43632342647182, 10.609627196490832, 10.75762841539272, 10.874184298819733, 10.954457199738751, 10.995115394777663, 10.994471367263618, 10.95255184753146, 10.871096703482321, 10.753486727439638, 10.604603316506154, 10.430625870382737, 10.23877531564403, 10.037014401485063, 9.833717206151244, 9.637321571173452, 9.45597888911063], \"yaxis\": \"y\"}, {\"mode\": \"markers\", \"type\": \"scatter\", \"x\": [4.0, 3.979247521056497, 3.9178514149905888, 3.8183599245989672, 3.684902440000452, 3.5230181084730106, 3.339425932379255, 3.1417458972563406, 2.938182704637146, 2.737185236258675, 2.5470958835813713, 2.3758042971828743, 2.230419927143053, 2.116976945617838, 2.04018379877801, 2.003227782949167, 2.0076427560119567, 2.0532454746953355, 2.138143200080817, 2.258812255651574, 2.4102442773378776, 2.5861540854568927, 2.7792405508307305, 2.9814896278454963, 3.184506977077008, 3.3798663719950794, 3.559459429140805, 3.715832146240554, 3.842494280256423, 3.9341887246502054, 3.9871097053688658, 3.9990607393363353, 3.96954579939109, 3.8997899018725932, 3.7926882623697216, 3.65268612991967, 3.4855942871338694, 3.2983478739104073, 3.098718544744615, 2.894991906536532, 2.695623624825445, 2.5088884717477775, 2.342536881968041, 2.2034732712144813, 2.0974694687950386, 2.028925158064996, 2.0006852677545965, 2.0139218933219074, 2.068085649180191, 2.1609284709235475], \"xaxis\": \"x2\", \"y\": [0.0, 0.20408163265306123, 0.40816326530612246, 0.6122448979591837, 0.8163265306122449, 1.0204081632653061, 1.2244897959183674, 1.4285714285714286, 1.6326530612244898, 1.836734693877551, 2.0408163265306123, 2.2448979591836737, 2.4489795918367347, 2.6530612244897958, 2.857142857142857, 3.0612244897959187, 3.2653061224489797, 3.4693877551020407, 3.673469387755102, 3.8775510204081636, 4.081632653061225, 4.285714285714286, 4.4897959183673475, 4.6938775510204085, 4.8979591836734695, 5.1020408163265305, 5.3061224489795915, 5.510204081632653, 5.714285714285714, 5.918367346938775, 6.122448979591837, 6.326530612244898, 6.530612244897959, 6.73469387755102, 6.938775510204081, 7.142857142857143, 7.346938775510204, 7.551020408163265, 7.755102040816327, 7.959183673469388, 8.16326530612245, 8.36734693877551, 8.571428571428571, 8.775510204081632, 8.979591836734695, 9.183673469387756, 9.387755102040817, 9.591836734693878, 9.795918367346939, 10.0], \"yaxis\": \"y2\"}],\n",
       "                        {\"annotations\": [{\"font\": {\"size\": 18}, \"showarrow\": false, \"text\": \"data_x vs. data_y\", \"x\": 0.1, \"xref\": \"paper\", \"y\": 1.1, \"yref\": \"paper\"}, {\"font\": {\"size\": 18}, \"showarrow\": false, \"text\": \"data_x vs. data_z\", \"x\": 0.9, \"xref\": \"paper\", \"y\": 1.1, \"yref\": \"paper\"}, {\"font\": {\"size\": 14}, \"showarrow\": false, \"text\": \"cov=0.0284\", \"x\": 2.2, \"xref\": \"x\", \"y\": 9, \"yref\": \"y\"}, {\"font\": {\"size\": 14}, \"showarrow\": false, \"text\": \"cov=-0.5494\", \"x\": 2.2, \"xref\": \"x2\", \"y\": 0, \"yref\": \"y2\"}], \"autosize\": false, \"height\": 350, \"margin\": {\"b\": 10, \"l\": 10, \"r\": 10, \"t\": 30}, \"showlegend\": false, \"template\": {\"data\": {\"bar\": [{\"error_x\": {\"color\": \"rgb(51,51,51)\"}, \"error_y\": {\"color\": \"rgb(51,51,51)\"}, \"marker\": {\"line\": {\"color\": \"rgb(237,237,237)\", \"width\": 0.5}}, \"type\": \"bar\"}], \"barpolar\": [{\"marker\": {\"line\": {\"color\": \"rgb(237,237,237)\", \"width\": 0.5}}, \"type\": \"barpolar\"}], \"carpet\": [{\"aaxis\": {\"endlinecolor\": \"rgb(51,51,51)\", \"gridcolor\": \"white\", \"linecolor\": \"white\", \"minorgridcolor\": \"white\", \"startlinecolor\": \"rgb(51,51,51)\"}, \"baxis\": {\"endlinecolor\": \"rgb(51,51,51)\", \"gridcolor\": \"white\", \"linecolor\": \"white\", \"minorgridcolor\": \"white\", \"startlinecolor\": \"rgb(51,51,51)\"}, \"type\": \"carpet\"}], \"choropleth\": [{\"colorbar\": {\"outlinewidth\": 0, \"tickcolor\": \"rgb(237,237,237)\", \"ticklen\": 6, \"ticks\": \"inside\"}, \"type\": \"choropleth\"}], \"contour\": [{\"colorbar\": {\"outlinewidth\": 0, \"tickcolor\": \"rgb(237,237,237)\", \"ticklen\": 6, \"ticks\": \"inside\"}, \"colorscale\": [[0, \"rgb(20,44,66)\"], [1, \"rgb(90,179,244)\"]], \"type\": \"contour\"}], \"contourcarpet\": [{\"colorbar\": {\"outlinewidth\": 0, \"tickcolor\": \"rgb(237,237,237)\", \"ticklen\": 6, \"ticks\": \"inside\"}, \"type\": \"contourcarpet\"}], \"heatmap\": [{\"colorbar\": {\"outlinewidth\": 0, \"tickcolor\": \"rgb(237,237,237)\", \"ticklen\": 6, \"ticks\": \"inside\"}, \"colorscale\": [[0, \"rgb(20,44,66)\"], [1, \"rgb(90,179,244)\"]], \"type\": \"heatmap\"}], \"heatmapgl\": [{\"colorbar\": {\"outlinewidth\": 0, \"tickcolor\": \"rgb(237,237,237)\", \"ticklen\": 6, \"ticks\": \"inside\"}, \"colorscale\": [[0, \"rgb(20,44,66)\"], [1, \"rgb(90,179,244)\"]], \"type\": \"heatmapgl\"}], \"histogram\": [{\"marker\": {\"colorbar\": {\"outlinewidth\": 0, \"tickcolor\": \"rgb(237,237,237)\", \"ticklen\": 6, \"ticks\": \"inside\"}}, \"type\": \"histogram\"}], \"histogram2d\": [{\"colorbar\": {\"outlinewidth\": 0, \"tickcolor\": \"rgb(237,237,237)\", \"ticklen\": 6, \"ticks\": \"inside\"}, \"colorscale\": [[0, \"rgb(20,44,66)\"], [1, \"rgb(90,179,244)\"]], \"type\": \"histogram2d\"}], \"histogram2dcontour\": [{\"colorbar\": {\"outlinewidth\": 0, \"tickcolor\": \"rgb(237,237,237)\", \"ticklen\": 6, \"ticks\": \"inside\"}, \"colorscale\": [[0, \"rgb(20,44,66)\"], [1, \"rgb(90,179,244)\"]], \"type\": \"histogram2dcontour\"}], \"mesh3d\": [{\"colorbar\": {\"outlinewidth\": 0, \"tickcolor\": \"rgb(237,237,237)\", \"ticklen\": 6, \"ticks\": \"inside\"}, \"type\": \"mesh3d\"}], \"parcoords\": [{\"line\": {\"colorbar\": {\"outlinewidth\": 0, \"tickcolor\": \"rgb(237,237,237)\", \"ticklen\": 6, \"ticks\": \"inside\"}}, \"type\": \"parcoords\"}], \"pie\": [{\"automargin\": true, \"type\": \"pie\"}], \"scatter\": [{\"marker\": {\"colorbar\": {\"outlinewidth\": 0, \"tickcolor\": \"rgb(237,237,237)\", \"ticklen\": 6, \"ticks\": \"inside\"}}, \"type\": \"scatter\"}], \"scatter3d\": [{\"line\": {\"colorbar\": {\"outlinewidth\": 0, \"tickcolor\": \"rgb(237,237,237)\", \"ticklen\": 6, \"ticks\": \"inside\"}}, \"marker\": {\"colorbar\": {\"outlinewidth\": 0, \"tickcolor\": \"rgb(237,237,237)\", \"ticklen\": 6, \"ticks\": \"inside\"}}, \"type\": \"scatter3d\"}], \"scattercarpet\": [{\"marker\": {\"colorbar\": {\"outlinewidth\": 0, \"tickcolor\": \"rgb(237,237,237)\", \"ticklen\": 6, \"ticks\": \"inside\"}}, \"type\": \"scattercarpet\"}], \"scattergeo\": [{\"marker\": {\"colorbar\": {\"outlinewidth\": 0, \"tickcolor\": \"rgb(237,237,237)\", \"ticklen\": 6, \"ticks\": \"inside\"}}, \"type\": \"scattergeo\"}], \"scattergl\": [{\"marker\": {\"colorbar\": {\"outlinewidth\": 0, \"tickcolor\": \"rgb(237,237,237)\", \"ticklen\": 6, \"ticks\": \"inside\"}}, \"type\": \"scattergl\"}], \"scattermapbox\": [{\"marker\": {\"colorbar\": {\"outlinewidth\": 0, \"tickcolor\": \"rgb(237,237,237)\", \"ticklen\": 6, \"ticks\": \"inside\"}}, \"type\": \"scattermapbox\"}], \"scatterpolar\": [{\"marker\": {\"colorbar\": {\"outlinewidth\": 0, \"tickcolor\": \"rgb(237,237,237)\", \"ticklen\": 6, \"ticks\": \"inside\"}}, \"type\": \"scatterpolar\"}], \"scatterpolargl\": [{\"marker\": {\"colorbar\": {\"outlinewidth\": 0, \"tickcolor\": \"rgb(237,237,237)\", \"ticklen\": 6, \"ticks\": \"inside\"}}, \"type\": \"scatterpolargl\"}], \"scatterternary\": [{\"marker\": {\"colorbar\": {\"outlinewidth\": 0, \"tickcolor\": \"rgb(237,237,237)\", \"ticklen\": 6, \"ticks\": \"inside\"}}, \"type\": \"scatterternary\"}], \"surface\": [{\"colorbar\": {\"outlinewidth\": 0, \"tickcolor\": \"rgb(237,237,237)\", \"ticklen\": 6, \"ticks\": \"inside\"}, \"colorscale\": [[0, \"rgb(20,44,66)\"], [1, \"rgb(90,179,244)\"]], \"type\": \"surface\"}], \"table\": [{\"cells\": {\"fill\": {\"color\": \"rgb(237,237,237)\"}, \"line\": {\"color\": \"white\"}}, \"header\": {\"fill\": {\"color\": \"rgb(217,217,217)\"}, \"line\": {\"color\": \"white\"}}, \"type\": \"table\"}]}, \"layout\": {\"annotationdefaults\": {\"arrowhead\": 0, \"arrowwidth\": 1}, \"coloraxis\": {\"colorbar\": {\"outlinewidth\": 0, \"tickcolor\": \"rgb(237,237,237)\", \"ticklen\": 6, \"ticks\": \"inside\"}}, \"colorscale\": {\"sequential\": [[0, \"rgb(20,44,66)\"], [1, \"rgb(90,179,244)\"]], \"sequentialminus\": [[0, \"rgb(20,44,66)\"], [1, \"rgb(90,179,244)\"]]}, \"colorway\": [\"#F8766D\", \"#A3A500\", \"#00BF7D\", \"#00B0F6\", \"#E76BF3\"], \"font\": {\"color\": \"rgb(51,51,51)\"}, \"geo\": {\"bgcolor\": \"white\", \"lakecolor\": \"white\", \"landcolor\": \"rgb(237,237,237)\", \"showlakes\": true, \"showland\": true, \"subunitcolor\": \"white\"}, \"hoverlabel\": {\"align\": \"left\"}, \"hovermode\": \"closest\", \"paper_bgcolor\": \"white\", \"plot_bgcolor\": \"rgb(237,237,237)\", \"polar\": {\"angularaxis\": {\"gridcolor\": \"white\", \"linecolor\": \"white\", \"showgrid\": true, \"tickcolor\": \"rgb(51,51,51)\", \"ticks\": \"outside\"}, \"bgcolor\": \"rgb(237,237,237)\", \"radialaxis\": {\"gridcolor\": \"white\", \"linecolor\": \"white\", \"showgrid\": true, \"tickcolor\": \"rgb(51,51,51)\", \"ticks\": \"outside\"}}, \"scene\": {\"xaxis\": {\"backgroundcolor\": \"rgb(237,237,237)\", \"gridcolor\": \"white\", \"gridwidth\": 2, \"linecolor\": \"white\", \"showbackground\": true, \"showgrid\": true, \"tickcolor\": \"rgb(51,51,51)\", \"ticks\": \"outside\", \"zerolinecolor\": \"white\"}, \"yaxis\": {\"backgroundcolor\": \"rgb(237,237,237)\", \"gridcolor\": \"white\", \"gridwidth\": 2, \"linecolor\": \"white\", \"showbackground\": true, \"showgrid\": true, \"tickcolor\": \"rgb(51,51,51)\", \"ticks\": \"outside\", \"zerolinecolor\": \"white\"}, \"zaxis\": {\"backgroundcolor\": \"rgb(237,237,237)\", \"gridcolor\": \"white\", \"gridwidth\": 2, \"linecolor\": \"white\", \"showbackground\": true, \"showgrid\": true, \"tickcolor\": \"rgb(51,51,51)\", \"ticks\": \"outside\", \"zerolinecolor\": \"white\"}}, \"shapedefaults\": {\"fillcolor\": \"black\", \"line\": {\"width\": 0}, \"opacity\": 0.3}, \"ternary\": {\"aaxis\": {\"gridcolor\": \"white\", \"linecolor\": \"white\", \"showgrid\": true, \"tickcolor\": \"rgb(51,51,51)\", \"ticks\": \"outside\"}, \"baxis\": {\"gridcolor\": \"white\", \"linecolor\": \"white\", \"showgrid\": true, \"tickcolor\": \"rgb(51,51,51)\", \"ticks\": \"outside\"}, \"bgcolor\": \"rgb(237,237,237)\", \"caxis\": {\"gridcolor\": \"white\", \"linecolor\": \"white\", \"showgrid\": true, \"tickcolor\": \"rgb(51,51,51)\", \"ticks\": \"outside\"}}, \"xaxis\": {\"automargin\": true, \"gridcolor\": \"white\", \"linecolor\": \"white\", \"showgrid\": true, \"tickcolor\": \"rgb(51,51,51)\", \"ticks\": \"outside\", \"title\": {\"standoff\": 15}, \"zerolinecolor\": \"white\"}, \"yaxis\": {\"automargin\": true, \"gridcolor\": \"white\", \"linecolor\": \"white\", \"showgrid\": true, \"tickcolor\": \"rgb(51,51,51)\", \"ticks\": \"outside\", \"title\": {\"standoff\": 15}, \"zerolinecolor\": \"white\"}}}, \"width\": 800, \"xaxis\": {\"anchor\": \"y\", \"domain\": [0.0, 0.45], \"fixedrange\": true}, \"xaxis2\": {\"anchor\": \"y2\", \"domain\": [0.55, 1.0], \"fixedrange\": true}, \"yaxis\": {\"anchor\": \"x\", \"domain\": [0.0, 1.0], \"fixedrange\": true}, \"yaxis2\": {\"anchor\": \"x2\", \"domain\": [0.0, 1.0], \"fixedrange\": true}},\n",
       "                        {\"displayModeBar\": false, \"responsive\": true}\n",
       "                    ).then(function(){\n",
       "                            \n",
       "var gd = document.getElementById('69aff4cf-dac0-4428-85f3-1d952dc01c3a');\n",
       "var x = new MutationObserver(function (mutations, observer) {{\n",
       "        var display = window.getComputedStyle(gd).display;\n",
       "        if (!display || display === 'none') {{\n",
       "            console.log([gd, 'removed!']);\n",
       "            Plotly.purge(gd);\n",
       "            observer.disconnect();\n",
       "        }}\n",
       "}});\n",
       "\n",
       "// Listen for the removal of the full notebook cells\n",
       "var notebookContainer = gd.closest('#notebook-container');\n",
       "if (notebookContainer) {{\n",
       "    x.observe(notebookContainer, {childList: true});\n",
       "}}\n",
       "\n",
       "// Listen for the clearing of the current output cell\n",
       "var outputEl = gd.closest('.output');\n",
       "if (outputEl) {{\n",
       "    x.observe(outputEl, {childList: true});\n",
       "}}\n",
       "\n",
       "                        })\n",
       "                };\n",
       "                });\n",
       "            </script>\n",
       "        </div>"
      ]
     },
     "metadata": {},
     "output_type": "display_data"
    }
   ],
   "source": [
    "trace1 = go.Scatter(x=X[:, 0], y=X[:, 1], mode='markers') \n",
    "trace2 = go.Scatter(x=X[:, 0], y=X[:, 2], mode='markers')\n",
    "# subplot titles are actually annotations, so set here\n",
    "annotations = [\n",
    "    dict(x=0.1, y=1.1, xref='paper', yref='paper', showarrow=False,\n",
    "         text=f\"data_x vs. data_y\", font_size=18),\n",
    "    dict(x=0.9, y=1.1, xref='paper', yref='paper', showarrow=False,\n",
    "         text=f\"data_x vs. data_z\", font_size=18),\n",
    "    dict(x=2.2, y=9, xref='x1', yref='y1', showarrow=False,\n",
    "         text=f\"cov={covariance_matrix[0, 1]:.4f}\", font_size=14),\n",
    "    dict(x=2.2, y=0, xref='x2', yref='y2', showarrow=False,\n",
    "         text=f\"cov={covariance_matrix[0, 2]:.4f}\", font_size=14),\n",
    "]\n",
    "layout = dict(\n",
    "    height=350, width=800, autosize=False,\n",
    "    margin=dict(l=10, r=10, b=10, t=30),\n",
    "    template=\"ggplot2\", showlegend=False,\n",
    "    xaxis={\"fixedrange\": True}, yaxis={\"fixedrange\": True}, \n",
    "    xaxis2={\"fixedrange\": True}, yaxis2={\"fixedrange\": True}, \n",
    ")\n",
    "\n",
    "fig = make_subplots(rows=1, cols=2)\n",
    "fig.add_trace(trace1, row=1, col=1)\n",
    "fig.add_trace(trace2, row=1, col=2)\n",
    "fig.update_layout(layout, annotations=annotations)\n",
    "fig.show(config={'displayModeBar': False})\n",
    "\n",
    "# x and y are not linearly correlated, so covariance is close to zero (so will be the correlation)\n",
    "# x and z are somehow linearly correlated, but the relationship can be better interpreted as non-linear"
   ]
  },
  {
   "cell_type": "code",
   "execution_count": null,
   "metadata": {},
   "outputs": [],
   "source": []
  },
  {
   "cell_type": "markdown",
   "metadata": {},
   "source": [
    "> Another way to compute _Covariance Matrox_ \n",
    "\n",
    "+ Given a matrix $A$, its covariance matrix is $A^T \\cdot A$ divided by $\\text{number of samples} - 1$\n",
    " + $A^T \\cdot A$ returns the _raw scores_\n",
    " + divided by $\\text{number of samples} - 1$ returns the _deviation scores_"
   ]
  },
  {
   "cell_type": "code",
   "execution_count": 11,
   "metadata": {},
   "outputs": [
    {
     "data": {
      "text/plain": [
       "array([[ 0.53718562,  0.02840574, -0.54944278],\n",
       "       [ 0.02840574,  0.44956238, -0.16253227],\n",
       "       [-0.54944278, -0.16253227,  8.85047897]])"
      ]
     },
     "execution_count": 11,
     "metadata": {},
     "output_type": "execute_result"
    }
   ],
   "source": [
    "np.cov(data, rowvar=False)"
   ]
  },
  {
   "cell_type": "code",
   "execution_count": 13,
   "metadata": {},
   "outputs": [
    {
     "data": {
      "text/plain": [
       "array([[ 0.52644191,  0.02783762, -0.53845392],\n",
       "       [ 0.02783762,  0.44057113, -0.15928162],\n",
       "       [-0.53845392, -0.15928162,  8.67346939]])"
      ]
     },
     "execution_count": 13,
     "metadata": {},
     "output_type": "execute_result"
    }
   ],
   "source": [
    "np.dot(data.transpose(), data) / data.shape[0]\n",
    "# (3, 50) x (50, 3), slight difference by the denominator"
   ]
  },
  {
   "cell_type": "code",
   "execution_count": 14,
   "metadata": {},
   "outputs": [
    {
     "data": {
      "text/plain": [
       "array([[ 0.53718562,  0.02840574, -0.54944278],\n",
       "       [ 0.02840574,  0.44956238, -0.16253227],\n",
       "       [-0.54944278, -0.16253227,  8.85047897]])"
      ]
     },
     "execution_count": 14,
     "metadata": {},
     "output_type": "execute_result"
    }
   ],
   "source": [
    "np.dot(data.transpose(), data) / (data.shape[0] - 1)\n",
    "# (3, 50) x (50, 3)"
   ]
  },
  {
   "cell_type": "code",
   "execution_count": null,
   "metadata": {},
   "outputs": [],
   "source": []
  },
  {
   "cell_type": "code",
   "execution_count": null,
   "metadata": {},
   "outputs": [],
   "source": []
  },
  {
   "cell_type": "markdown",
   "metadata": {},
   "source": [
    "### 2. Principal Components are \"orthogonal\" to each other\n",
    "\n",
    "+ i.e., perpendicular to each other\n",
    "+ the orthogonal makes sure the two are NOT correlated\n",
    "  + i.e. correlation between two transformed data = 0\n",
    "  + i.e. cosine similarity between two vectors = 0"
   ]
  },
  {
   "cell_type": "code",
   "execution_count": 24,
   "metadata": {},
   "outputs": [
    {
     "data": {
      "text/plain": [
       "(50, 3)"
      ]
     },
     "metadata": {},
     "output_type": "display_data"
    }
   ],
   "source": [
    "# Helix equation\n",
    "t = np.linspace(0, 10, 50)\n",
    "x, y, z = np.cos(t) + 3 , np.sin(t) + 10, t # transform to all >= 0\n",
    "\n",
    "X = np.c_[x, y, z]; row_index = np.array(range(X.shape[0]))\n",
    "display(X.shape)"
   ]
  },
  {
   "cell_type": "code",
   "execution_count": 25,
   "metadata": {},
   "outputs": [
    {
     "data": {
      "text/plain": [
       "(50, 2)"
      ]
     },
     "metadata": {},
     "output_type": "display_data"
    },
    {
     "data": {
      "text/plain": [
       "(array([8.88982399, 0.50624339, 0.44115959]),\n",
       " array([[-6.56922925e-02, -9.56671463e-01, -2.83662185e-01],\n",
       "        [-1.94326286e-02, -2.82995775e-01,  9.58924275e-01],\n",
       "        [ 9.97650688e-01, -6.85062358e-02,  1.38903290e-16]]))"
      ]
     },
     "execution_count": 25,
     "metadata": {},
     "output_type": "execute_result"
    }
   ],
   "source": [
    "eigen_vals, eigen_vecs, reduced_X_2d = numpy_pca(X, 2, scaled=False) # no need to scale with helix data\n",
    "display(reduced_X_2d.shape)\n",
    "eigen_vals, eigen_vecs"
   ]
  },
  {
   "cell_type": "code",
   "execution_count": 26,
   "metadata": {},
   "outputs": [],
   "source": [
    "pc1 = eigen_vecs[:, 0]\n",
    "pc2 = eigen_vecs[:, 1]\n",
    "\n",
    "pc1_data = reduced_X_2d[:, 0]\n",
    "pc2_data = reduced_X_2d[:, 1]"
   ]
  },
  {
   "cell_type": "markdown",
   "metadata": {},
   "source": [
    "> **Correlation** between two transformed data:   \n",
    "> sum of (the product of two centerd data),  divided by squared root of (product between two squared & centered data)  \n"
   ]
  },
  {
   "cell_type": "code",
   "execution_count": 27,
   "metadata": {},
   "outputs": [
    {
     "data": {
      "text/plain": [
       "True"
      ]
     },
     "metadata": {},
     "output_type": "display_data"
    },
    {
     "data": {
      "text/plain": [
       "array([[ 1.00000000e+00, -2.53946075e-16],\n",
       "       [-2.53946075e-16,  1.00000000e+00]])"
      ]
     },
     "execution_count": 27,
     "metadata": {},
     "output_type": "execute_result"
    }
   ],
   "source": [
    "r = np.corrcoef(pc1_data, pc2_data)\n",
    "display(np.isclose(r[0, 1], 0)) # is close to 0 at very small tolerance\n",
    "r\n",
    "# ignore the diagonal values, that's the correlation with self\n",
    "# this shows the correlation is close to 0, i.e. the two are transformed data not correlated"
   ]
  },
  {
   "cell_type": "code",
   "execution_count": 28,
   "metadata": {},
   "outputs": [
    {
     "data": {
      "text/plain": [
       "-2.7769063643519433e-16"
      ]
     },
     "execution_count": 28,
     "metadata": {},
     "output_type": "execute_result"
    }
   ],
   "source": [
    "a = pc1_data - np.mean(pc1_data)\n",
    "b = pc2_data - np.mean(pc2_data)\n",
    "\n",
    "sum(a * b) / np.sqrt(sum(a**2) * sum(b**2)) # close to np.corrcoef"
   ]
  },
  {
   "cell_type": "code",
   "execution_count": null,
   "metadata": {},
   "outputs": [],
   "source": []
  },
  {
   "cell_type": "markdown",
   "metadata": {},
   "source": [
    "> **Cosine similarity** between two eigenvectors:   \n",
    "> dot product between two vectors, divdied by product of vector's norm  "
   ]
  },
  {
   "cell_type": "code",
   "execution_count": 29,
   "metadata": {},
   "outputs": [
    {
     "data": {
      "text/plain": [
       "0.0"
      ]
     },
     "execution_count": 29,
     "metadata": {},
     "output_type": "execute_result"
    }
   ],
   "source": [
    "from scipy import spatial\n",
    "1 - spatial.distance.cosine(pc1, pc2) # 1 - cosine distance = cosine similarity"
   ]
  },
  {
   "cell_type": "code",
   "execution_count": 30,
   "metadata": {},
   "outputs": [
    {
     "data": {
      "text/plain": [
       "True"
      ]
     },
     "metadata": {},
     "output_type": "display_data"
    },
    {
     "data": {
      "text/plain": [
       "-2.775557561562893e-17"
      ]
     },
     "execution_count": 30,
     "metadata": {},
     "output_type": "execute_result"
    }
   ],
   "source": [
    "cos_sim  = np.dot(pc1, pc2) / (np.linalg.norm(pc1) * np.linalg.norm(pc2))\n",
    "display(np.isclose(cos_sim, 0)) # the cosine similarty is close to 0, i.e. not similar at all\n",
    "cos_sim "
   ]
  },
  {
   "cell_type": "code",
   "execution_count": 31,
   "metadata": {},
   "outputs": [
    {
     "data": {
      "text/plain": [
       "-2.775557561562893e-17"
      ]
     },
     "execution_count": 31,
     "metadata": {},
     "output_type": "execute_result"
    }
   ],
   "source": [
    "norm_pc1 = np.sqrt(sum(pc1 ** 2))\n",
    "norm_pc2 = np.sqrt(sum(pc2 ** 2))\n",
    "\n",
    "sum(pc1 * pc2) / (norm_pc1 * norm_pc2) # same as above"
   ]
  },
  {
   "cell_type": "code",
   "execution_count": 32,
   "metadata": {},
   "outputs": [],
   "source": [
    "# plot the vectors for cosine?"
   ]
  },
  {
   "cell_type": "code",
   "execution_count": null,
   "metadata": {},
   "outputs": [],
   "source": []
  },
  {
   "cell_type": "code",
   "execution_count": null,
   "metadata": {},
   "outputs": [],
   "source": []
  },
  {
   "cell_type": "code",
   "execution_count": null,
   "metadata": {},
   "outputs": [],
   "source": []
  },
  {
   "cell_type": "code",
   "execution_count": null,
   "metadata": {},
   "outputs": [],
   "source": []
  },
  {
   "cell_type": "markdown",
   "metadata": {},
   "source": [
    "### 3. Singular Value Decomposition\n",
    "\n",
    "+ [Natural Language Processing in Action](https://www.manning.com/books/natural-language-processing-in-action)\n",
    "+ An algorithm for decomposing any matrix into \"three factors\"\n",
    "  + these three factors (matrices) can be multiplied together to recreate the original matrix \n",
    "+ Given a matrix $A$, decompose it into three factors: $U$, $S$ and $V$; \n",
    "  + where $A_{m × n} = U_{m × m} \\cdot S_{m × n} \\cdot V_{n × n}^{T}$\n",
    "+ TODO\n",
    "  \n",
    "  "
   ]
  },
  {
   "cell_type": "code",
   "execution_count": null,
   "metadata": {},
   "outputs": [],
   "source": []
  },
  {
   "cell_type": "markdown",
   "metadata": {},
   "source": [
    "### 4. Eigenvalues and Eigenvectors\n",
    "\n",
    "+ TODO"
   ]
  },
  {
   "cell_type": "code",
   "execution_count": null,
   "metadata": {},
   "outputs": [],
   "source": []
  },
  {
   "cell_type": "code",
   "execution_count": null,
   "metadata": {},
   "outputs": [],
   "source": []
  },
  {
   "cell_type": "code",
   "execution_count": null,
   "metadata": {},
   "outputs": [],
   "source": []
  },
  {
   "cell_type": "markdown",
   "metadata": {},
   "source": [
    "## References"
   ]
  },
  {
   "cell_type": "markdown",
   "metadata": {},
   "source": [
    "Eigenvalues and Eigenvectors\n",
    "\n",
    "+ https://www.thejuliagroup.com/blog/factor-analysis-and-eigenvalues/\n",
    "+ https://stackoverflow.com/questions/31909945/obtain-eigen-values-and-vectors-from-sklearn-pca\n",
    "+ https://medium.com/@jonathan_hui/machine-learning-singular-value-decomposition-svd-principal-component-analysis-pca-1d45e885e491\n",
    "+ https://medium.com/@jonathan_hui/machine-learning-linear-algebra-eigenvalue-and-eigenvector-f8d0493564c9\n",
    "+ https://math.stackexchange.com/questions/127500/what-is-the-difference-between-singular-value-and-eigenvalue"
   ]
  },
  {
   "cell_type": "markdown",
   "metadata": {},
   "source": [
    "PCA  \n",
    "\n",
    "+ https://stats.stackexchange.com/questions/385775/normalizing-vs-scaling-before-pca\n",
    "+ https://scikit-learn.org/stable/auto_examples/preprocessing/plot_scaling_importance.html\n",
    "+ https://github.com/scikit-learn/scikit-learn/blob/bac89c2/sklearn/decomposition/pca.py#L434\n",
    "+ https://sebastianraschka.com/Articles/2014_pca_step_by_step.html"
   ]
  },
  {
   "cell_type": "markdown",
   "metadata": {},
   "source": [
    "PCA Plotting\n",
    "\n",
    "+ https://stackoverflow.com/questions/13224362/principal-component-analysis-pca-in-python\n",
    "+ https://stackoverflow.com/questions/49957601/how-can-i-draw-3d-plane-using-pca-in-python\n"
   ]
  },
  {
   "cell_type": "markdown",
   "metadata": {},
   "source": [
    "Covariance \n",
    "\n",
    "+ https://stattrek.com/matrix-algebra/covariance-matrix.aspx"
   ]
  },
  {
   "cell_type": "code",
   "execution_count": null,
   "metadata": {},
   "outputs": [],
   "source": []
  }
 ],
 "metadata": {
  "kernelspec": {
   "display_name": "Python 3 (sklearn)",
   "language": "python",
   "name": "sklearn"
  },
  "language_info": {
   "codemirror_mode": {
    "name": "ipython",
    "version": 3
   },
   "file_extension": ".py",
   "mimetype": "text/x-python",
   "name": "python",
   "nbconvert_exporter": "python",
   "pygments_lexer": "ipython3",
   "version": "3.6.10"
  }
 },
 "nbformat": 4,
 "nbformat_minor": 4
}

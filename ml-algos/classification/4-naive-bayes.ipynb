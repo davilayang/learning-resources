{
 "cells": [
  {
   "cell_type": "markdown",
   "metadata": {},
   "source": [
    "# Naive Bayes Classifier\n",
    "\n",
    "> Naive because the \"naive\" assumption that each feature is independent\n",
    "\n",
    "- https://machinelearningmastery.com/naive-bayes-classifier-scratch-python/"
   ]
  },
  {
   "cell_type": "code",
   "execution_count": 63,
   "metadata": {},
   "outputs": [],
   "source": [
    "import matplotlib.pyplot as plt\n",
    "import numpy as np\n",
    "import pandas as pd\n",
    "import seaborn as sns\n",
    "\n",
    "from pprint import pprint\n",
    "\n",
    "# typing\n",
    "from typing import List, Dict, Tuple\n",
    "import numpy.typing as npt\n",
    "\n",
    "sns.set()\n",
    "plt.rcParams[\"figure.figsize\"] = (10, 4)"
   ]
  },
  {
   "cell_type": "code",
   "execution_count": null,
   "metadata": {},
   "outputs": [],
   "source": []
  },
  {
   "cell_type": "markdown",
   "metadata": {
    "tags": []
   },
   "source": [
    "## Sample Data\n",
    "\n",
    "> Generate sample data for the algorithm\n"
   ]
  },
  {
   "cell_type": "code",
   "execution_count": 64,
   "metadata": {},
   "outputs": [
    {
     "data": {
      "text/plain": [
       "((8, 5), (1, 5))"
      ]
     },
     "execution_count": 64,
     "metadata": {},
     "output_type": "execute_result"
    }
   ],
   "source": [
    "data = dict(\n",
    "    chills = ['Y', 'Y', 'Y', 'N', 'N', 'N', 'N', 'Y', 'Y'],\n",
    "    runny_nose = ['N', 'Y', 'N', 'Y', 'N', 'Y', 'Y', 'Y', 'N'],\n",
    "    headache = ['Mild', 'No', 'Strong', 'Mild', 'No', 'Strong', 'Strong', 'Mild', 'Mild'],\n",
    "    fever = ['Y', 'N', 'Y', 'Y', 'N', 'Y', 'N', 'Y', 'N'],\n",
    "    have_flu = ['No', 'Yes', 'Yes', 'Yes', 'No', 'Yes', 'No', 'Yes', None]\n",
    ")\n",
    "df = pd.DataFrame(data).astype({col: \"category\" for col in data.keys()})\n",
    "\n",
    "test = df.iloc[-1:, :] # to index to a dataframe\n",
    "train = df.iloc[:-1, :]\n",
    "train.shape, test.shape"
   ]
  },
  {
   "cell_type": "code",
   "execution_count": 65,
   "metadata": {
    "tags": []
   },
   "outputs": [
    {
     "data": {
      "text/html": [
       "<div>\n",
       "<style scoped>\n",
       "    .dataframe tbody tr th:only-of-type {\n",
       "        vertical-align: middle;\n",
       "    }\n",
       "\n",
       "    .dataframe tbody tr th {\n",
       "        vertical-align: top;\n",
       "    }\n",
       "\n",
       "    .dataframe thead th {\n",
       "        text-align: right;\n",
       "    }\n",
       "</style>\n",
       "<table border=\"1\" class=\"dataframe\">\n",
       "  <thead>\n",
       "    <tr style=\"text-align: right;\">\n",
       "      <th></th>\n",
       "      <th>chills</th>\n",
       "      <th>runny_nose</th>\n",
       "      <th>headache</th>\n",
       "      <th>fever</th>\n",
       "      <th>have_flu</th>\n",
       "    </tr>\n",
       "  </thead>\n",
       "  <tbody>\n",
       "    <tr>\n",
       "      <th>0</th>\n",
       "      <td>Y</td>\n",
       "      <td>N</td>\n",
       "      <td>Mild</td>\n",
       "      <td>Y</td>\n",
       "      <td>No</td>\n",
       "    </tr>\n",
       "    <tr>\n",
       "      <th>1</th>\n",
       "      <td>Y</td>\n",
       "      <td>Y</td>\n",
       "      <td>No</td>\n",
       "      <td>N</td>\n",
       "      <td>Yes</td>\n",
       "    </tr>\n",
       "    <tr>\n",
       "      <th>2</th>\n",
       "      <td>Y</td>\n",
       "      <td>N</td>\n",
       "      <td>Strong</td>\n",
       "      <td>Y</td>\n",
       "      <td>Yes</td>\n",
       "    </tr>\n",
       "    <tr>\n",
       "      <th>3</th>\n",
       "      <td>N</td>\n",
       "      <td>Y</td>\n",
       "      <td>Mild</td>\n",
       "      <td>Y</td>\n",
       "      <td>Yes</td>\n",
       "    </tr>\n",
       "    <tr>\n",
       "      <th>4</th>\n",
       "      <td>N</td>\n",
       "      <td>N</td>\n",
       "      <td>No</td>\n",
       "      <td>N</td>\n",
       "      <td>No</td>\n",
       "    </tr>\n",
       "    <tr>\n",
       "      <th>5</th>\n",
       "      <td>N</td>\n",
       "      <td>Y</td>\n",
       "      <td>Strong</td>\n",
       "      <td>Y</td>\n",
       "      <td>Yes</td>\n",
       "    </tr>\n",
       "    <tr>\n",
       "      <th>6</th>\n",
       "      <td>N</td>\n",
       "      <td>Y</td>\n",
       "      <td>Strong</td>\n",
       "      <td>N</td>\n",
       "      <td>No</td>\n",
       "    </tr>\n",
       "    <tr>\n",
       "      <th>7</th>\n",
       "      <td>Y</td>\n",
       "      <td>Y</td>\n",
       "      <td>Mild</td>\n",
       "      <td>Y</td>\n",
       "      <td>Yes</td>\n",
       "    </tr>\n",
       "  </tbody>\n",
       "</table>\n",
       "</div>"
      ],
      "text/plain": [
       "  chills runny_nose headache fever have_flu\n",
       "0      Y          N     Mild     Y       No\n",
       "1      Y          Y       No     N      Yes\n",
       "2      Y          N   Strong     Y      Yes\n",
       "3      N          Y     Mild     Y      Yes\n",
       "4      N          N       No     N       No\n",
       "5      N          Y   Strong     Y      Yes\n",
       "6      N          Y   Strong     N       No\n",
       "7      Y          Y     Mild     Y      Yes"
      ]
     },
     "execution_count": 65,
     "metadata": {},
     "output_type": "execute_result"
    }
   ],
   "source": [
    "train"
   ]
  },
  {
   "cell_type": "code",
   "execution_count": 66,
   "metadata": {
    "tags": []
   },
   "outputs": [
    {
     "data": {
      "text/html": [
       "<div>\n",
       "<style scoped>\n",
       "    .dataframe tbody tr th:only-of-type {\n",
       "        vertical-align: middle;\n",
       "    }\n",
       "\n",
       "    .dataframe tbody tr th {\n",
       "        vertical-align: top;\n",
       "    }\n",
       "\n",
       "    .dataframe thead th {\n",
       "        text-align: right;\n",
       "    }\n",
       "</style>\n",
       "<table border=\"1\" class=\"dataframe\">\n",
       "  <thead>\n",
       "    <tr style=\"text-align: right;\">\n",
       "      <th></th>\n",
       "      <th>chills</th>\n",
       "      <th>runny_nose</th>\n",
       "      <th>headache</th>\n",
       "      <th>fever</th>\n",
       "      <th>have_flu</th>\n",
       "    </tr>\n",
       "  </thead>\n",
       "  <tbody>\n",
       "    <tr>\n",
       "      <th>8</th>\n",
       "      <td>Y</td>\n",
       "      <td>N</td>\n",
       "      <td>Mild</td>\n",
       "      <td>N</td>\n",
       "      <td>NaN</td>\n",
       "    </tr>\n",
       "  </tbody>\n",
       "</table>\n",
       "</div>"
      ],
      "text/plain": [
       "  chills runny_nose headache fever have_flu\n",
       "8      Y          N     Mild     N      NaN"
      ]
     },
     "execution_count": 66,
     "metadata": {},
     "output_type": "execute_result"
    }
   ],
   "source": [
    "test"
   ]
  },
  {
   "cell_type": "code",
   "execution_count": null,
   "metadata": {},
   "outputs": [],
   "source": []
  },
  {
   "cell_type": "code",
   "execution_count": null,
   "metadata": {},
   "outputs": [],
   "source": []
  },
  {
   "cell_type": "markdown",
   "metadata": {},
   "source": [
    "## Modelling with Naive Bayes\n",
    "\n",
    "- Using `scikit-learn` function\n",
    "- Implementing with Python from Scratch\n",
    "- ..."
   ]
  },
  {
   "cell_type": "markdown",
   "metadata": {},
   "source": [
    "### NaiveBayesClassifier\n",
    "\n",
    "- https://scikit-learn.org/stable/modules/naive_bayes.html"
   ]
  },
  {
   "cell_type": "code",
   "execution_count": null,
   "metadata": {},
   "outputs": [],
   "source": []
  },
  {
   "cell_type": "code",
   "execution_count": null,
   "metadata": {},
   "outputs": [],
   "source": []
  },
  {
   "cell_type": "markdown",
   "metadata": {},
   "source": [
    "### From Scratch"
   ]
  },
  {
   "cell_type": "code",
   "execution_count": 67,
   "metadata": {
    "tags": []
   },
   "outputs": [
    {
     "name": "stdout",
     "output_type": "stream",
     "text": [
      "{'No': {'chills': {'N': None, 'Y': None},\n",
      "        'fever': {'N': None, 'Y': None},\n",
      "        'have_flu': {'No': None, 'Yes': None},\n",
      "        'headache': {'Mild': None, 'No': None, 'Strong': None},\n",
      "        'runny_nose': {'N': None, 'Y': None}},\n",
      " 'Yes': {'chills': {'N': None, 'Y': None},\n",
      "         'fever': {'N': None, 'Y': None},\n",
      "         'have_flu': {'No': None, 'Yes': None},\n",
      "         'headache': {'Mild': None, 'No': None, 'Strong': None},\n",
      "         'runny_nose': {'N': None, 'Y': None}}}\n"
     ]
    }
   ],
   "source": [
    "# 1. initialize probability dict to store the conditional probabilities\n",
    "probs_dict = dict()\n",
    "\n",
    "for target in train['have_flu'].cat.categories: \n",
    "    probs_dict[target] = dict()\n",
    "    \n",
    "    for col in train.columns: \n",
    "        probs_dict[target][col] = {key:None for key in df[col].cat.categories}\n",
    "        \n",
    "pprint(probs_dict)"
   ]
  },
  {
   "cell_type": "code",
   "execution_count": 68,
   "metadata": {},
   "outputs": [
    {
     "name": "stdout",
     "output_type": "stream",
     "text": [
      "{'No': {'chills': {'N': None, 'Y': None},\n",
      "        'fever': {'N': None, 'Y': None},\n",
      "        'have_flu': 0.375,\n",
      "        'headache': {'Mild': None, 'No': None, 'Strong': None},\n",
      "        'runny_nose': {'N': None, 'Y': None}},\n",
      " 'Yes': {'chills': {'N': None, 'Y': None},\n",
      "         'fever': {'N': None, 'Y': None},\n",
      "         'have_flu': 0.625,\n",
      "         'headache': {'Mild': None, 'No': None, 'Strong': None},\n",
      "         'runny_nose': {'N': None, 'Y': None}}}\n"
     ]
    }
   ],
   "source": [
    "# 2. compute prior probabilities\n",
    "# i.e. probabilities on the target before \"seeing\" the data\n",
    "\n",
    "for target in train['have_flu'].cat.categories: \n",
    "    probs_dict[target]['have_flu'] = (train.have_flu == target).sum() / train.shape[0]\n",
    "\n",
    "pprint(probs_dict)"
   ]
  },
  {
   "cell_type": "code",
   "execution_count": 69,
   "metadata": {
    "tags": []
   },
   "outputs": [
    {
     "name": "stdout",
     "output_type": "stream",
     "text": [
      "{'No': {'chills': {'N': 0.6666666666666666, 'Y': 0.3333333333333333},\n",
      "        'fever': {'N': 0.6666666666666666, 'Y': 0.3333333333333333},\n",
      "        'have_flu': 0.375,\n",
      "        'headache': {'Mild': 0.3333333333333333,\n",
      "                     'No': 0.3333333333333333,\n",
      "                     'Strong': 0.3333333333333333},\n",
      "        'runny_nose': {'N': 0.6666666666666666, 'Y': 0.3333333333333333}},\n",
      " 'Yes': {'chills': {'N': 0.4, 'Y': 0.6},\n",
      "         'fever': {'N': 0.2, 'Y': 0.8},\n",
      "         'have_flu': 0.625,\n",
      "         'headache': {'Mild': 0.4, 'No': 0.2, 'Strong': 0.4},\n",
      "         'runny_nose': {'N': 0.2, 'Y': 0.8}}}\n"
     ]
    }
   ],
   "source": [
    "# on each class/label, compute posterior probablity\n",
    "\n",
    "for target in df['have_flu'].cat.categories: \n",
    "    tmp_probs = probs_dict[target]\n",
    "    tmp_df = df[df['have_flu'] == target]\n",
    "    \n",
    "    # on each attribute/column/feature, exclude the target\n",
    "    for col in df.columns.drop('have_flu'):\n",
    "        \n",
    "        # on each category of the attribute\n",
    "        for code, category in enumerate(df[col].cat.categories):\n",
    "            # indexing the list by order, save the conditional probability p(xi | Ci)\n",
    "            tmp_probs[col][category] = (tmp_df[col] == category).sum() / tmp_df.shape[0]\n",
    "\n",
    "pprint(probs_dict)"
   ]
  },
  {
   "cell_type": "code",
   "execution_count": 70,
   "metadata": {
    "tags": []
   },
   "outputs": [
    {
     "name": "stdout",
     "output_type": "stream",
     "text": [
      "'No: 0.018518518518518517'\n",
      "'Yes: 0.006'\n"
     ]
    }
   ],
   "source": [
    "# with the trained model, compute probability for the test case\n",
    "for target in df['have_flu'].cat.categories: \n",
    "    tmp_probs = probs_dict[target]\n",
    "    prob = 1\n",
    "    # get the likelihood multiplcations\n",
    "    for col in test.columns.drop('have_flu'):\n",
    "        prob *= tmp_probs[col][test[col].values[0]]\n",
    "    # multiply prior probability\n",
    "    prob *=  tmp_probs['have_flu']\n",
    "\n",
    "    pprint(target + ': ' + str(prob))"
   ]
  },
  {
   "cell_type": "code",
   "execution_count": null,
   "metadata": {},
   "outputs": [],
   "source": []
  },
  {
   "cell_type": "markdown",
   "metadata": {},
   "source": [
    "### From Scratch with collections"
   ]
  },
  {
   "cell_type": "code",
   "execution_count": 71,
   "metadata": {
    "tags": []
   },
   "outputs": [],
   "source": [
    "from collections import Counter, defaultdict"
   ]
  },
  {
   "cell_type": "code",
   "execution_count": 72,
   "metadata": {
    "tags": []
   },
   "outputs": [
    {
     "data": {
      "text/plain": [
       "['No', 'Yes', 'Yes', 'Yes', 'No', 'Yes', 'No', 'Yes']\n",
       "Categories (2, object): ['No', 'Yes']"
      ]
     },
     "execution_count": 72,
     "metadata": {},
     "output_type": "execute_result"
    }
   ],
   "source": [
    "target = train.have_flu.values\n",
    "target"
   ]
  },
  {
   "cell_type": "code",
   "execution_count": 73,
   "metadata": {
    "tags": []
   },
   "outputs": [
    {
     "data": {
      "text/plain": [
       "array([['Y', 'N', 'Mild', 'Y'],\n",
       "       ['Y', 'Y', 'No', 'N'],\n",
       "       ['Y', 'N', 'Strong', 'Y'],\n",
       "       ['N', 'Y', 'Mild', 'Y'],\n",
       "       ['N', 'N', 'No', 'N'],\n",
       "       ['N', 'Y', 'Strong', 'Y'],\n",
       "       ['N', 'Y', 'Strong', 'N'],\n",
       "       ['Y', 'Y', 'Mild', 'Y']], dtype=object)"
      ]
     },
     "execution_count": 73,
     "metadata": {},
     "output_type": "execute_result"
    }
   ],
   "source": [
    "data = train.drop(\"have_flu\", axis=1).values\n",
    "data"
   ]
  },
  {
   "cell_type": "code",
   "execution_count": 74,
   "metadata": {
    "tags": []
   },
   "outputs": [
    {
     "data": {
      "text/plain": [
       "{'No': 0.375, 'Yes': 0.625}"
      ]
     },
     "execution_count": 74,
     "metadata": {},
     "output_type": "execute_result"
    }
   ],
   "source": [
    "def occurrences(outcome: List[int]) -> float:\n",
    "    \"\"\"Calculate occurent of each value in the list\"\"\"\n",
    "    no_of_examples = len(outcome)\n",
    "    prob = dict(Counter(outcome)) # get the count of each class\n",
    "    for key in prob.keys():\n",
    "        \n",
    "        prob[key] = prob[key] / float(no_of_examples)\n",
    "        # updated by proportion/ probability\n",
    "    return prob\n",
    "\n",
    "occurrences(target)"
   ]
  },
  {
   "cell_type": "code",
   "execution_count": 75,
   "metadata": {
    "tags": []
   },
   "outputs": [
    {
     "name": "stdout",
     "output_type": "stream",
     "text": [
      "{'No': defaultdict(<class 'list'>,\n",
      "                   {0: ['Y', 'N', 'N'],\n",
      "                    1: ['N', 'N', 'Y'],\n",
      "                    2: ['Mild', 'No', 'Strong'],\n",
      "                    3: ['Y', 'N', 'N']}),\n",
      " 'Yes': defaultdict(<class 'list'>,\n",
      "                    {0: ['Y', 'Y', 'N', 'N', 'Y'],\n",
      "                     1: ['Y', 'N', 'Y', 'Y', 'Y'],\n",
      "                     2: ['No', 'Strong', 'Mild', 'Strong', 'Mild'],\n",
      "                     3: ['N', 'Y', 'Y', 'Y', 'Y']})}\n"
     ]
    }
   ],
   "source": [
    "classes = np.unique(train.have_flu) #array([0, 1])\n",
    "rows, cols = np.shape(data)\n",
    "\n",
    "likelihoods = {}\n",
    "#initializing the dictionary\n",
    "for cls in classes:\n",
    "    likelihoods[cls] = defaultdict(list)\n",
    "\n",
    "for cls in classes:\n",
    "    #taking samples of only 1 class at a time\n",
    "    row_indices = np.where(target == cls)[0]\n",
    "    subset      = data[row_indices, :]\n",
    "    r, c        = np.shape(subset)\n",
    "    for j in range(0, c):\n",
    "        likelihoods[cls][j] += list(subset[:,j])\n",
    "        \n",
    "pprint(likelihoods)"
   ]
  },
  {
   "cell_type": "code",
   "execution_count": 76,
   "metadata": {
    "tags": []
   },
   "outputs": [
    {
     "name": "stdout",
     "output_type": "stream",
     "text": [
      "{'No': defaultdict(<class 'list'>,\n",
      "                   {0: {'N': 0.6666666666666666, 'Y': 0.3333333333333333},\n",
      "                    1: {'N': 0.6666666666666666, 'Y': 0.3333333333333333},\n",
      "                    2: {'Mild': 0.3333333333333333,\n",
      "                        'No': 0.3333333333333333,\n",
      "                        'Strong': 0.3333333333333333},\n",
      "                    3: {'N': 0.6666666666666666, 'Y': 0.3333333333333333}}),\n",
      " 'Yes': defaultdict(<class 'list'>,\n",
      "                    {0: {'N': 0.4, 'Y': 0.6},\n",
      "                     1: {'N': 0.2, 'Y': 0.8},\n",
      "                     2: {'Mild': 0.4, 'No': 0.2, 'Strong': 0.4},\n",
      "                     3: {'N': 0.2, 'Y': 0.8}})}\n"
     ]
    }
   ],
   "source": [
    "for cls in classes:\n",
    "    for j in range(0, c):\n",
    "        # compute conditional probability \n",
    "        likelihoods[cls][j] = occurrences(likelihoods[cls][j])\n",
    "        \n",
    "pprint(likelihoods)"
   ]
  },
  {
   "cell_type": "code",
   "execution_count": 77,
   "metadata": {},
   "outputs": [
    {
     "data": {
      "text/plain": [
       "{'No': 0.018518518518518517, 'Yes': 0.006000000000000002}"
      ]
     },
     "execution_count": 77,
     "metadata": {},
     "output_type": "execute_result"
    }
   ],
   "source": [
    "class_probabilities = occurrences(target)\n",
    "test_array = test.drop(\"have_flu\", axis=1).values[0]\n",
    "\n",
    "prediction = {}\n",
    "for cls in classes:\n",
    "    class_probability = class_probabilities[cls]\n",
    "    for i in range(0,len(test_array)):\n",
    "        relative_feature_values = likelihoods[cls][i]\n",
    "        if test_array[i] in relative_feature_values.keys():\n",
    "            class_probability *= relative_feature_values[test_array[i]]\n",
    "        else:\n",
    "            class_probability *= 0\n",
    "        prediction[cls] = class_probability\n",
    "\n",
    "prediction"
   ]
  },
  {
   "cell_type": "code",
   "execution_count": null,
   "metadata": {},
   "outputs": [],
   "source": []
  }
 ],
 "metadata": {
  "kernelspec": {
   "display_name": "Python 3 (ipykernel)",
   "language": "python",
   "name": "python3"
  },
  "language_info": {
   "codemirror_mode": {
    "name": "ipython",
    "version": 3
   },
   "file_extension": ".py",
   "mimetype": "text/x-python",
   "name": "python",
   "nbconvert_exporter": "python",
   "pygments_lexer": "ipython3",
   "version": "3.10.4"
  }
 },
 "nbformat": 4,
 "nbformat_minor": 4
}

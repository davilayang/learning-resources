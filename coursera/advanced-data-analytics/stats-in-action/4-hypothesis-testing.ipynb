{
 "cells": [
  {
   "cell_type": "markdown",
   "id": "77a9d45a-8245-462f-9791-c33b509132b7",
   "metadata": {},
   "source": [
    "# Hypothesis Testing\n",
    "\n",
    "- NOTE: still feel not very clear with this section\n",
    "- https://vitalflux.com/when-to-use-z-test-vs-t-test-differences-examples/"
   ]
  },
  {
   "cell_type": "markdown",
   "id": "66096a1f-dcfa-40cc-ae3e-901cc411f159",
   "metadata": {},
   "source": [
    "## Terms of Hypothesis Testing\n",
    "\n",
    "- ..."
   ]
  },
  {
   "cell_type": "markdown",
   "id": "ef9e8909-87cc-4c61-a4b0-afc67be124bc",
   "metadata": {
    "jp-MarkdownHeadingCollapsed": true
   },
   "source": [
    "## Steps for Testing\n",
    "\n",
    "1. **State the null hypothesis and the alternative hypothesis**\n",
    "   - Null:\n",
    "     - assumed to be True\n",
    "     - observed event happened only by chance and no effect from treatment\n",
    "   - Alternative:\n",
    "     - observed event does not happen by chance, having effect from treatment\n",
    "   - E.g. Coin Toss \n",
    "2. **Choose a significance level**\n",
    "3. **Find the `p-value`**\n",
    "   - Probability of observing results \"as or more\" extreme than those observed when the null hypothesis is true\n",
    "   - ...\n",
    "4. **\"Reject\" or \"Fail to reject\" the null hypothesis**\n",
    "   - Faile to Reject instead of \"accept\", because \"accept\" implies certainty\n",
    "     - But this is about probabilty \n",
    "   - ..."
   ]
  },
  {
   "cell_type": "markdown",
   "id": "e9b6fd42-bbe7-420b-b7a5-44d808f076b5",
   "metadata": {
    "jp-MarkdownHeadingCollapsed": true
   },
   "source": [
    "## P-Value\n",
    "\n",
    "- **Probability of observing a difference in the results**\n",
    "  - **as or more extreme than the difference observed when null is true**\n",
    "- Significance Level, e.g. 5%\n",
    "  - the probability of rejecting the null hypothesis when it is true (i.e. conducting a Type I Error)\n",
    "  - willing to accept a five percent chance you are wrong when you reject the null hypothesis\n",
    "- IF \"P-Value < Significance Level\",\n",
    "  - I.e. the probability of observing a difference in the results (alternative) is less than 5%\n",
    "  - I.e. willing to accept 5% probability to conduct a Type I Error of False Positive\n",
    "  - THEN \"Reject Null Hypothesis\"\n",
    "- E.g. p-value is the probability of observing a difference\n",
    "  - that is two minutes or greater if the null hypothesis is true\n",
    "- TO-DO: How do you rephrase this?\n",
    "- Calculate `p-value`\n",
    "  - With **Test Statistic**\n",
    "    - Under the null hypothesis (no difference)\n",
    "      - A value that shows how closely the observed data matches the distribution expected\n",
    "  - **Conducting Z-test**, so the Test Statistic is **\"Z-score\"**\n",
    "    - Measure of how many standard deviations the observed data is below or above the population mean\n",
    "    - I.e. where the value lies on a normal distribution\n",
    "    - Formula for Z-score with One Sample Test:\n",
    "      - (`Sample Mean` - `Population Mean`), divided by (`Population std` / `square root of Sample size`)\n",
    "      - Require known Population Mean and and Standard Deviation\n",
    "    - Formula for Z-score with Two Sample Test on Proportions:\n",
    "      - ...\n",
    "  - **Conduct t-est**, i.e. **t-score**\n",
    "    - Formula for t-score with Two Sample Test on Means:\n",
    "      - (`Sample 1 Mean` - `Sample 2 Mean`), divided by\n",
    "         - Squre Root of (`Sample 1 Std Squared` / `Sample 1 Size` +  `Sample 2 Std Squared` / `Sample 2 Size`)\n",
    "  - Getting `p-value`\n",
    "    - Area under the curve is `p-value`\n",
    "    - Left-tailed, Right-tailed or Two-tailed tests\n",
    "  \n",
    "      \n",
    "> https://www.coursera.org/learn/the-power-of-statistics/lecture/Kv9dl/one-sample-test-for-means  \n",
    "> https://www.coursera.org/learn/the-power-of-statistics/lecture/PmaS3/two-sample-tests-proportions  "
   ]
  },
  {
   "cell_type": "markdown",
   "id": "28ee22cf-0f70-4798-a577-8690190b21cf",
   "metadata": {},
   "source": [
    "## Type of Errors\n",
    "\n",
    "- https://www.coursera.org/learn/the-power-of-statistics/supplement/Scyf1/type-i-and-type-ii-errors\n",
    "- <big>**Type I Error**</big>\n",
    "  - **False Positive**\n",
    "    - Falsely classified as positive, while true label is negative (classification problem)\n",
    "    - <mark>Falsely considered alternative as true (positive)</mark>, while it should be false; and rejected null\n",
    "  - Reject the null hypothesis when it’s actually true\n",
    "  - significance level, or **alpha (α)**, represents the probability of making a Type I error\n",
    "  - _NOTE: \"I\" and then \"II\", same as \"Positive\" then \"Negative\"_\n",
    "  - To Minimize\n",
    "    - Choosing a lower significance level, e.g. 1%\n",
    "- <big>**Type II Error**</big>\n",
    "  - **False Negative**\n",
    "    - Falsely classified as negative, while true label is positive (classification problem)\n",
    "    - <mark>Falsely considered alternative as false (negative)</mark>, while it should be true; and did not reject null\n",
    "  - Fail to reject the null hypothesis when it’s actually false \n",
    "  - Pobability of making a Type II error is called **beta (β)**\n",
    "    - beta is related to the power of a hypothesis test (power = 1- β)\n",
    "    - **Power** refers to the likelihood that a test can correctly detect a real effect when there is one\n",
    "  - To Minimize\n",
    "    - ensuring your test has enough power, by increasing sample size or signifiance level"
   ]
  },
  {
   "cell_type": "markdown",
   "id": "01a2af90-479f-4c92-81fa-2c36c8165c6e",
   "metadata": {},
   "source": [
    "## One & Two Sample Test\n",
    "\n",
    "- One Sample Test\n",
    "  - A population parameter is equal to a specific value or not\n",
    "    - E.g. average sales revenue (of samples) equals to a target value or not\n",
    "    - E.g. stock portfolio average rate equals to benchmark\n",
    "  - **One Sample Z-test**\n",
    "    - Assumptions\n",
    "      - Data is random _sample from a normaly distributed population_\n",
    "      - Known _population standard deviation_ \n",
    "        - (usually this is unknown, so t-test is often used)\n",
    "  - **One Sample t-test**\n",
    "  - Steps.\n",
    "    1. State the null hypothesis and the alternative hypothesis\n",
    "       - Null: population means equals to the observed value\n",
    "       - Alt: \"not equal to\",  \"less than\", or \"greater than\"\n",
    "    2. Choose a significance level.\n",
    "       - Probability of rejecting the null when it is true (False Positive)\n",
    "    3. Find the `p-value` (using t-score)\n",
    "    4. Reject or fail to reject the null hypothesis.\n",
    "- **Two Sample t-test**\n",
    "  - Two population means (parameters) are equal to each other or not\n",
    "    - E.g. in A/B Testing, Group A vs Group B\n",
    "  - Assumptions\n",
    "    - Two samples are independent of each other\n",
    "    - Samples are drawn randomly from a normally distributed population\n",
    "    - Population standard deviation is unknown (thus using t-test)\n",
    "- **Two Sample Z-test**\n",
    "  - Two population **proportions** are equal to each other or not\n",
    "    - NOTE: t-test DO NOT apply to proportions\n",
    "    - E.g. Side effects of medicine between two trial groups\n",
    "    - E.g. Support of percentage for a new law in two districts\n",
    "    - E.g. Proportion of satisfication to work environment in two different locations\n",
    "  - Hypothesis\n",
    "    - Null: no difference between the two proportions\n",
    "    - Alternative: there is difference between the two proportions\n",
    "  - P-value\n",
    "    - Probabilities of observing a sample proportion as or more extreme\n",
    "      - than the difference observed, when Null is True\n",
    "    - Z-Statistic for proportions\n",
    "      - (Difference between two sample proportions), divided by \n",
    "      - Square Root of (pooled proportion times (1 - pooled proportion) times (1/sample 1 size + 1/ sample 2 size))\n",
    "      - Pooled Proportion\n",
    "        - Weighted average of the proportions\n",
    "- <mark>TODO: add hypothesis testing to your data analyst arsenal</mark>\n",
    "  - https://mverbakel.github.io/2021-02-13/two-sample-proportions"
   ]
  },
  {
   "cell_type": "code",
   "execution_count": 5,
   "id": "97f5afc1-8f9e-4c9f-8be9-7dac2de4a893",
   "metadata": {},
   "outputs": [],
   "source": [
    "import numpy as np\n",
    "import pandas as pd\n",
    "\n",
    "import plotly\n",
    "import plotly.express as px\n",
    "\n",
    "from scipy import stats"
   ]
  },
  {
   "cell_type": "code",
   "execution_count": 6,
   "id": "796b6fe5-9cfd-4176-baa7-c540f4010382",
   "metadata": {},
   "outputs": [
    {
     "data": {
      "text/plain": [
       "(1704, 8)"
      ]
     },
     "execution_count": 6,
     "metadata": {},
     "output_type": "execute_result"
    }
   ],
   "source": [
    "df = px.data.gapminder()\n",
    "df.shape"
   ]
  },
  {
   "cell_type": "code",
   "execution_count": 7,
   "id": "62822615-6212-4f6d-a243-9387c05f9b62",
   "metadata": {},
   "outputs": [
    {
     "data": {
      "text/html": [
       "<div>\n",
       "<style scoped>\n",
       "    .dataframe tbody tr th:only-of-type {\n",
       "        vertical-align: middle;\n",
       "    }\n",
       "\n",
       "    .dataframe tbody tr th {\n",
       "        vertical-align: top;\n",
       "    }\n",
       "\n",
       "    .dataframe thead th {\n",
       "        text-align: right;\n",
       "    }\n",
       "</style>\n",
       "<table border=\"1\" class=\"dataframe\">\n",
       "  <thead>\n",
       "    <tr style=\"text-align: right;\">\n",
       "      <th></th>\n",
       "      <th>country</th>\n",
       "      <th>continent</th>\n",
       "      <th>year</th>\n",
       "      <th>lifeExp</th>\n",
       "      <th>pop</th>\n",
       "      <th>gdpPercap</th>\n",
       "      <th>iso_alpha</th>\n",
       "      <th>iso_num</th>\n",
       "    </tr>\n",
       "  </thead>\n",
       "  <tbody>\n",
       "    <tr>\n",
       "      <th>0</th>\n",
       "      <td>Afghanistan</td>\n",
       "      <td>Asia</td>\n",
       "      <td>1952</td>\n",
       "      <td>28.801</td>\n",
       "      <td>8425333</td>\n",
       "      <td>779.445314</td>\n",
       "      <td>AFG</td>\n",
       "      <td>4</td>\n",
       "    </tr>\n",
       "    <tr>\n",
       "      <th>1</th>\n",
       "      <td>Afghanistan</td>\n",
       "      <td>Asia</td>\n",
       "      <td>1957</td>\n",
       "      <td>30.332</td>\n",
       "      <td>9240934</td>\n",
       "      <td>820.853030</td>\n",
       "      <td>AFG</td>\n",
       "      <td>4</td>\n",
       "    </tr>\n",
       "    <tr>\n",
       "      <th>2</th>\n",
       "      <td>Afghanistan</td>\n",
       "      <td>Asia</td>\n",
       "      <td>1962</td>\n",
       "      <td>31.997</td>\n",
       "      <td>10267083</td>\n",
       "      <td>853.100710</td>\n",
       "      <td>AFG</td>\n",
       "      <td>4</td>\n",
       "    </tr>\n",
       "    <tr>\n",
       "      <th>3</th>\n",
       "      <td>Afghanistan</td>\n",
       "      <td>Asia</td>\n",
       "      <td>1967</td>\n",
       "      <td>34.020</td>\n",
       "      <td>11537966</td>\n",
       "      <td>836.197138</td>\n",
       "      <td>AFG</td>\n",
       "      <td>4</td>\n",
       "    </tr>\n",
       "    <tr>\n",
       "      <th>4</th>\n",
       "      <td>Afghanistan</td>\n",
       "      <td>Asia</td>\n",
       "      <td>1972</td>\n",
       "      <td>36.088</td>\n",
       "      <td>13079460</td>\n",
       "      <td>739.981106</td>\n",
       "      <td>AFG</td>\n",
       "      <td>4</td>\n",
       "    </tr>\n",
       "  </tbody>\n",
       "</table>\n",
       "</div>"
      ],
      "text/plain": [
       "       country continent  year  lifeExp       pop   gdpPercap iso_alpha  \\\n",
       "0  Afghanistan      Asia  1952   28.801   8425333  779.445314       AFG   \n",
       "1  Afghanistan      Asia  1957   30.332   9240934  820.853030       AFG   \n",
       "2  Afghanistan      Asia  1962   31.997  10267083  853.100710       AFG   \n",
       "3  Afghanistan      Asia  1967   34.020  11537966  836.197138       AFG   \n",
       "4  Afghanistan      Asia  1972   36.088  13079460  739.981106       AFG   \n",
       "\n",
       "   iso_num  \n",
       "0        4  \n",
       "1        4  \n",
       "2        4  \n",
       "3        4  \n",
       "4        4  "
      ]
     },
     "execution_count": 7,
     "metadata": {},
     "output_type": "execute_result"
    }
   ],
   "source": [
    "df.head()"
   ]
  },
  {
   "cell_type": "code",
   "execution_count": 8,
   "id": "14ab8c71-4007-408e-bb5c-037515102014",
   "metadata": {},
   "outputs": [
    {
     "data": {
      "text/html": [
       "<div>\n",
       "<style scoped>\n",
       "    .dataframe tbody tr th:only-of-type {\n",
       "        vertical-align: middle;\n",
       "    }\n",
       "\n",
       "    .dataframe tbody tr th {\n",
       "        vertical-align: top;\n",
       "    }\n",
       "\n",
       "    .dataframe thead th {\n",
       "        text-align: right;\n",
       "    }\n",
       "</style>\n",
       "<table border=\"1\" class=\"dataframe\">\n",
       "  <thead>\n",
       "    <tr style=\"text-align: right;\">\n",
       "      <th></th>\n",
       "      <th>continent</th>\n",
       "      <th>gdpPercap</th>\n",
       "    </tr>\n",
       "  </thead>\n",
       "  <tbody>\n",
       "    <tr>\n",
       "      <th>0</th>\n",
       "      <td>Africa</td>\n",
       "      <td>2193.754578</td>\n",
       "    </tr>\n",
       "    <tr>\n",
       "      <th>1</th>\n",
       "      <td>Americas</td>\n",
       "      <td>7136.110356</td>\n",
       "    </tr>\n",
       "    <tr>\n",
       "      <th>2</th>\n",
       "      <td>Asia</td>\n",
       "      <td>7902.150428</td>\n",
       "    </tr>\n",
       "    <tr>\n",
       "      <th>3</th>\n",
       "      <td>Europe</td>\n",
       "      <td>14469.475533</td>\n",
       "    </tr>\n",
       "    <tr>\n",
       "      <th>4</th>\n",
       "      <td>Oceania</td>\n",
       "      <td>18621.609223</td>\n",
       "    </tr>\n",
       "  </tbody>\n",
       "</table>\n",
       "</div>"
      ],
      "text/plain": [
       "  continent     gdpPercap\n",
       "0    Africa   2193.754578\n",
       "1  Americas   7136.110356\n",
       "2      Asia   7902.150428\n",
       "3    Europe  14469.475533\n",
       "4   Oceania  18621.609223"
      ]
     },
     "execution_count": 8,
     "metadata": {},
     "output_type": "execute_result"
    }
   ],
   "source": [
    "df.groupby(\"continent\", as_index=False).gdpPercap.mean()"
   ]
  },
  {
   "cell_type": "code",
   "execution_count": null,
   "id": "7f06e004-ce83-45ef-ba56-9452addfd9d3",
   "metadata": {},
   "outputs": [],
   "source": []
  },
  {
   "cell_type": "markdown",
   "id": "010e61d8-0747-4a50-a037-6910453f0898",
   "metadata": {},
   "source": [
    "> Is the difference of average GDP between Asias and Americas statistically significant?\n",
    "\n",
    "*   $H_0$: There is no difference in the mean GDP between America countries and Asia countries\n",
    "*   $H_A$: There is a difference in the mean GDP between America countries and Asia countries\n",
    "\n",
    "We're comparing two sample means between two independent samples, therefore will be a **\"Two Sample t-test\"**"
   ]
  },
  {
   "cell_type": "code",
   "execution_count": 9,
   "id": "c189e32f-8cab-4d55-978b-ba0441605b89",
   "metadata": {},
   "outputs": [
    {
     "data": {
      "text/plain": [
       "0.05"
      ]
     },
     "execution_count": 9,
     "metadata": {},
     "output_type": "execute_result"
    }
   ],
   "source": [
    "significance_level = 0.05\n",
    "significance_level"
   ]
  },
  {
   "cell_type": "code",
   "execution_count": 10,
   "id": "4707bec7-2652-4c7a-8cb5-4f06d02bd5c1",
   "metadata": {},
   "outputs": [
    {
     "data": {
      "text/plain": [
       "TtestResult(statistic=-0.9616471732473416, pvalue=0.3366254286406626, df=583.1581429498881)"
      ]
     },
     "execution_count": 10,
     "metadata": {},
     "output_type": "execute_result"
    }
   ],
   "source": [
    "tmp = stats.ttest_ind(\n",
    "    a=df.query(\"continent == 'Americas'\").gdpPercap,\n",
    "    b=df.query(\"continent == 'Asia'\").gdpPercap,\n",
    "    equal_var=False\n",
    ")\n",
    "tmp"
   ]
  },
  {
   "cell_type": "code",
   "execution_count": 11,
   "id": "e7f37580-f669-4bc8-bf83-0fb5adc0078d",
   "metadata": {},
   "outputs": [
    {
     "data": {
      "text/plain": [
       "False"
      ]
     },
     "execution_count": 11,
     "metadata": {},
     "output_type": "execute_result"
    }
   ],
   "source": [
    "tmp.pvalue < significance_level"
   ]
  },
  {
   "cell_type": "markdown",
   "id": "c50d2119-8540-4b7d-bbb6-f24cb934f885",
   "metadata": {},
   "source": [
    "- Since p-value is not smaller than the significance level, we failed to reject the null hypothesis\n",
    "- There is no difference between mean GDP\n",
    "- NOTE: we're actually testing on whole data available, but if subet on only some years, that could be a sample of the GDP"
   ]
  },
  {
   "cell_type": "code",
   "execution_count": null,
   "id": "0bf82f4d-81f8-43d7-aa07-6fac859b9633",
   "metadata": {},
   "outputs": [],
   "source": []
  },
  {
   "cell_type": "code",
   "execution_count": null,
   "id": "5f8c6f07",
   "metadata": {},
   "outputs": [],
   "source": []
  },
  {
   "cell_type": "code",
   "execution_count": null,
   "id": "2e1c11b6",
   "metadata": {},
   "outputs": [],
   "source": []
  },
  {
   "cell_type": "code",
   "execution_count": null,
   "id": "25fac090",
   "metadata": {},
   "outputs": [],
   "source": []
  }
 ],
 "metadata": {
  "kernelspec": {
   "display_name": "Python 3 (ipykernel)",
   "language": "python",
   "name": "python3"
  },
  "language_info": {
   "codemirror_mode": {
    "name": "ipython",
    "version": 3
   },
   "file_extension": ".py",
   "mimetype": "text/x-python",
   "name": "python",
   "nbconvert_exporter": "python",
   "pygments_lexer": "ipython3",
   "version": "3.10.12"
  }
 },
 "nbformat": 4,
 "nbformat_minor": 5
}

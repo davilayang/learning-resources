{
 "cells": [
  {
   "cell_type": "markdown",
   "id": "b15c29e7-dd42-4cb0-b1a2-be8ded75a68c",
   "metadata": {},
   "source": [
    "# Regression\n",
    "\n",
    "- Assumptions of the given regression "
   ]
  },
  {
   "cell_type": "code",
   "execution_count": null,
   "id": "73b6a847-9fb1-4ed5-b362-9fc48a651993",
   "metadata": {},
   "outputs": [],
   "source": []
  },
  {
   "cell_type": "markdown",
   "id": "d2d6e6a5-5aba-419f-9d86-fdf021179bbb",
   "metadata": {},
   "source": [
    "## Linear Regression"
   ]
  },
  {
   "cell_type": "markdown",
   "id": "f0716fa7-6919-431d-8ca2-ded3c1b4e7fc",
   "metadata": {},
   "source": [
    "## Multiple Linear Regression"
   ]
  },
  {
   "cell_type": "markdown",
   "id": "a646a835-9a08-455d-8468-ab0d72934fc4",
   "metadata": {},
   "source": [
    "## Logistic Regression"
   ]
  },
  {
   "cell_type": "code",
   "execution_count": null,
   "id": "3cdd03da-c9a2-4c0b-9653-f3405315b354",
   "metadata": {},
   "outputs": [],
   "source": []
  },
  {
   "cell_type": "markdown",
   "id": "8539ef9a-5ef1-49b1-bc4b-3451915a4c64",
   "metadata": {},
   "source": [
    "## Modelling Variables Selection"
   ]
  },
  {
   "cell_type": "code",
   "execution_count": null,
   "id": "4bf5d7ca-b6ae-49e0-bf52-4d269a07db64",
   "metadata": {},
   "outputs": [],
   "source": []
  },
  {
   "cell_type": "code",
   "execution_count": null,
   "id": "13850f6e-fcab-42db-8369-2bd9c2a649e8",
   "metadata": {},
   "outputs": [],
   "source": []
  },
  {
   "cell_type": "markdown",
   "id": "0f57da81-1e9f-44c6-bf41-b953e01e32bf",
   "metadata": {},
   "source": [
    "## Model Evaluations"
   ]
  },
  {
   "cell_type": "code",
   "execution_count": null,
   "id": "5e262e29-09be-430e-963b-84f14d0af80a",
   "metadata": {},
   "outputs": [],
   "source": []
  },
  {
   "cell_type": "code",
   "execution_count": null,
   "id": "44093361-79bd-4b71-b05b-b3c3d57a46ec",
   "metadata": {},
   "outputs": [],
   "source": []
  }
 ],
 "metadata": {
  "kernelspec": {
   "display_name": "Python 3 (ipykernel)",
   "language": "python",
   "name": "python3"
  },
  "language_info": {
   "codemirror_mode": {
    "name": "ipython",
    "version": 3
   },
   "file_extension": ".py",
   "mimetype": "text/x-python",
   "name": "python",
   "nbconvert_exporter": "python",
   "pygments_lexer": "ipython3",
   "version": "3.10.12"
  }
 },
 "nbformat": 4,
 "nbformat_minor": 5
}
